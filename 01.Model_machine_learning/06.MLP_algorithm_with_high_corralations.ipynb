{
 "cells": [
  {
   "cell_type": "code",
   "execution_count": 40,
   "metadata": {},
   "outputs": [],
   "source": [
    "import pandas as pd\n",
    "import seaborn as sns\n",
    "import numpy as np\n",
    "import matplotlib.pyplot as plt\n",
    "import warnings\n",
    "import math\n",
    "from sklearn.neural_network import MLPRegressor\n",
    "from sklearn.model_selection import train_test_split\n",
    "from sklearn.metrics import r2_score\n",
    "from sklearn.metrics import accuracy_score\n",
    "from sklearn.metrics import mean_squared_error\n",
    "\n",
    "#to set dimensions of the figures\n",
    "plt.rcParams['figure.figsize'] = (15,7)\n",
    "\n",
    "x_high_corralations = pd.read_csv('/home/archie/Arquivos/climate/Datasets/x_high_corralations.csv')\n",
    "y_high_corralations = pd.read_csv('/home/archie/Arquivos/climate/Datasets/y_high_corralations.csv')\n",
    "\n",
    "x = x_high_corralations.as_matrix()\n",
    "y = y_high_corralations.as_matrix()\n",
    "\n",
    "x = np.delete(x,0,1)\n",
    "y = np.delete(y,0,1)\n",
    "\n",
    "#Creating a dataset for store rmse and r2 results\n",
    "values_high_corralations = pd.DataFrame(columns=['i','j','rmse','r2'])\n",
    "values_high_corralations_matrix = pd.DataFrame(columns=['i','j','rmse','r2'])"
   ]
  },
  {
   "cell_type": "code",
   "execution_count": 41,
   "metadata": {},
   "outputs": [],
   "source": [
    "def test_mlp(x,y,i,j):\n",
    "    warnings.filterwarnings('ignore')\n",
    "\n",
    "    train_x,test_x,train_y,test_y = train_test_split(x,y,test_size=0.2)\n",
    "\n",
    "    MLP_reg = MLPRegressor(hidden_layer_sizes = (i*30,j*30), activation='tanh',\n",
    "                      verbose=False, warm_start=True,\n",
    "                      max_iter = 300)\n",
    "\n",
    "    MLP_reg.fit(train_x,train_y)#Kernel default : RBF \n",
    "    predicts = MLP_reg.predict(test_x)\n",
    "\n",
    "    rmse = math.sqrt(mean_squared_error(test_y,predicts))\n",
    "    score_r2 = r2_score(test_y,predicts)\n",
    "\n",
    "    return i*30,j*30,rmse,score_r2\n",
    "\n",
    "def run_test_mlp(interval,dataset,x,y):\n",
    "    #To mesure time processing\n",
    "    import time \n",
    "    inicio = time.time()\n",
    "    a = 0\n",
    "    #Begin cycle for\n",
    "    for i in range(1,interval+1):\n",
    "        for j in range(1,interval+1): \n",
    "            dataset.loc[a] = test_mlp(x,y,i,j)\n",
    "            print(dataset.r2[a])\n",
    "            a = a + 1\n",
    "    #End cycle for\n",
    "    \n",
    "    fim = time.time()\n",
    "    print(fim-inicio)\n",
    "    return dataset"
   ]
  },
  {
   "cell_type": "code",
   "execution_count": 42,
   "metadata": {},
   "outputs": [
    {
     "name": "stdout",
     "output_type": "stream",
     "text": [
      "-18.03584019594507\n",
      "-13.32029926741525\n",
      "-17.87174008279726\n",
      "-12.903377124676929\n",
      "16.080968618392944\n"
     ]
    }
   ],
   "source": [
    "values_high_corralations = run_test_mlp(2,values_high_corralations,x_high_corralations,y_high_corralations)"
   ]
  },
  {
   "cell_type": "code",
   "execution_count": 43,
   "metadata": {},
   "outputs": [
    {
     "name": "stdout",
     "output_type": "stream",
     "text": [
      "-6.734242098936055\n",
      "-2.3838501217456876\n",
      "-7.318712251861468\n",
      "-2.4857579998964736\n",
      "17.221016883850098\n"
     ]
    }
   ],
   "source": [
    "values_high_corralations_matrix = run_test_mlp(2,values_high_corralations_matrix,x,y)"
   ]
  },
  {
   "cell_type": "code",
   "execution_count": 44,
   "metadata": {},
   "outputs": [],
   "source": [
    "values_high_corralations.to_csv('/home/archie/Arquivos/climate/Datasets/values_high_corralations.csv')\n",
    "values_high_corralations = pd.read_csv('/home/archie/Arquivos/climate/Datasets/values_high_corralations.csv')\n",
    "\n",
    "values_high_corralations_matrix.to_csv('/home/archie/Arquivos/climate/Datasets/values_high_corralations_matrix.csv')\n",
    "values_high_corralations_matrix = pd.read_csv('/home/archie/Arquivos/climate/Datasets/values_high_corralations_matrix.csv')"
   ]
  },
  {
   "cell_type": "code",
   "execution_count": 45,
   "metadata": {},
   "outputs": [
    {
     "data": {
      "text/html": [
       "<div>\n",
       "<style scoped>\n",
       "    .dataframe tbody tr th:only-of-type {\n",
       "        vertical-align: middle;\n",
       "    }\n",
       "\n",
       "    .dataframe tbody tr th {\n",
       "        vertical-align: top;\n",
       "    }\n",
       "\n",
       "    .dataframe thead th {\n",
       "        text-align: right;\n",
       "    }\n",
       "</style>\n",
       "<table border=\"1\" class=\"dataframe\">\n",
       "  <thead>\n",
       "    <tr style=\"text-align: right;\">\n",
       "      <th></th>\n",
       "      <th>Unnamed: 0</th>\n",
       "      <th>i</th>\n",
       "      <th>j</th>\n",
       "      <th>rmse</th>\n",
       "      <th>r2</th>\n",
       "    </tr>\n",
       "  </thead>\n",
       "  <tbody>\n",
       "    <tr>\n",
       "      <th>0</th>\n",
       "      <td>0</td>\n",
       "      <td>30.0</td>\n",
       "      <td>30.0</td>\n",
       "      <td>1073.739345</td>\n",
       "      <td>-18.035840</td>\n",
       "    </tr>\n",
       "    <tr>\n",
       "      <th>1</th>\n",
       "      <td>1</td>\n",
       "      <td>30.0</td>\n",
       "      <td>60.0</td>\n",
       "      <td>1018.579456</td>\n",
       "      <td>-13.320299</td>\n",
       "    </tr>\n",
       "    <tr>\n",
       "      <th>2</th>\n",
       "      <td>2</td>\n",
       "      <td>60.0</td>\n",
       "      <td>30.0</td>\n",
       "      <td>1067.022362</td>\n",
       "      <td>-17.871740</td>\n",
       "    </tr>\n",
       "    <tr>\n",
       "      <th>3</th>\n",
       "      <td>3</td>\n",
       "      <td>60.0</td>\n",
       "      <td>60.0</td>\n",
       "      <td>1017.540555</td>\n",
       "      <td>-12.903377</td>\n",
       "    </tr>\n",
       "  </tbody>\n",
       "</table>\n",
       "</div>"
      ],
      "text/plain": [
       "   Unnamed: 0     i     j         rmse         r2\n",
       "0           0  30.0  30.0  1073.739345 -18.035840\n",
       "1           1  30.0  60.0  1018.579456 -13.320299\n",
       "2           2  60.0  30.0  1067.022362 -17.871740\n",
       "3           3  60.0  60.0  1017.540555 -12.903377"
      ]
     },
     "execution_count": 45,
     "metadata": {},
     "output_type": "execute_result"
    }
   ],
   "source": [
    "values_high_corralations.head()"
   ]
  },
  {
   "cell_type": "code",
   "execution_count": 46,
   "metadata": {},
   "outputs": [
    {
     "data": {
      "text/html": [
       "<div>\n",
       "<style scoped>\n",
       "    .dataframe tbody tr th:only-of-type {\n",
       "        vertical-align: middle;\n",
       "    }\n",
       "\n",
       "    .dataframe tbody tr th {\n",
       "        vertical-align: top;\n",
       "    }\n",
       "\n",
       "    .dataframe thead th {\n",
       "        text-align: right;\n",
       "    }\n",
       "</style>\n",
       "<table border=\"1\" class=\"dataframe\">\n",
       "  <thead>\n",
       "    <tr style=\"text-align: right;\">\n",
       "      <th></th>\n",
       "      <th>Unnamed: 0</th>\n",
       "      <th>i</th>\n",
       "      <th>j</th>\n",
       "      <th>rmse</th>\n",
       "      <th>r2</th>\n",
       "    </tr>\n",
       "  </thead>\n",
       "  <tbody>\n",
       "    <tr>\n",
       "      <th>0</th>\n",
       "      <td>0</td>\n",
       "      <td>30.0</td>\n",
       "      <td>30.0</td>\n",
       "      <td>81.339498</td>\n",
       "      <td>-6.734242</td>\n",
       "    </tr>\n",
       "    <tr>\n",
       "      <th>1</th>\n",
       "      <td>1</td>\n",
       "      <td>30.0</td>\n",
       "      <td>60.0</td>\n",
       "      <td>53.827355</td>\n",
       "      <td>-2.383850</td>\n",
       "    </tr>\n",
       "    <tr>\n",
       "      <th>2</th>\n",
       "      <td>2</td>\n",
       "      <td>60.0</td>\n",
       "      <td>30.0</td>\n",
       "      <td>85.528807</td>\n",
       "      <td>-7.318712</td>\n",
       "    </tr>\n",
       "    <tr>\n",
       "      <th>3</th>\n",
       "      <td>3</td>\n",
       "      <td>60.0</td>\n",
       "      <td>60.0</td>\n",
       "      <td>53.651556</td>\n",
       "      <td>-2.485758</td>\n",
       "    </tr>\n",
       "  </tbody>\n",
       "</table>\n",
       "</div>"
      ],
      "text/plain": [
       "   Unnamed: 0     i     j       rmse        r2\n",
       "0           0  30.0  30.0  81.339498 -6.734242\n",
       "1           1  30.0  60.0  53.827355 -2.383850\n",
       "2           2  60.0  30.0  85.528807 -7.318712\n",
       "3           3  60.0  60.0  53.651556 -2.485758"
      ]
     },
     "execution_count": 46,
     "metadata": {},
     "output_type": "execute_result"
    }
   ],
   "source": [
    "values_high_corralations_matrix.head()"
   ]
  },
  {
   "cell_type": "code",
   "execution_count": null,
   "metadata": {},
   "outputs": [],
   "source": []
  },
  {
   "cell_type": "code",
   "execution_count": null,
   "metadata": {},
   "outputs": [],
   "source": []
  },
  {
   "cell_type": "code",
   "execution_count": null,
   "metadata": {},
   "outputs": [],
   "source": []
  }
 ],
 "metadata": {
  "kernelspec": {
   "display_name": "Python 3",
   "language": "python",
   "name": "python3"
  },
  "language_info": {
   "codemirror_mode": {
    "name": "ipython",
    "version": 3
   },
   "file_extension": ".py",
   "mimetype": "text/x-python",
   "name": "python",
   "nbconvert_exporter": "python",
   "pygments_lexer": "ipython3",
   "version": "3.7.4"
  }
 },
 "nbformat": 4,
 "nbformat_minor": 2
}
