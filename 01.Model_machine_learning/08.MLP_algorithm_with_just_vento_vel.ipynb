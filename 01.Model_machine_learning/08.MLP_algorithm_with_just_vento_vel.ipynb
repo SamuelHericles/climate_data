{
 "cells": [
  {
   "cell_type": "code",
   "execution_count": 11,
   "metadata": {},
   "outputs": [],
   "source": [
    "import pandas as pd\n",
    "import seaborn as sns\n",
    "import numpy as np\n",
    "import matplotlib.pyplot as plt\n",
    "import warnings\n",
    "import math\n",
    "from sklearn.neural_network import MLPRegressor\n",
    "from sklearn.model_selection import train_test_split\n",
    "from sklearn.metrics import r2_score\n",
    "from sklearn.metrics import accuracy_score\n",
    "from sklearn.metrics import mean_squared_error\n",
    "\n",
    "#to set dimensions of the figures\n",
    "plt.rcParams['figure.figsize'] = (15,7)\n",
    "\n",
    "x_just_vento_vel = pd.read_csv('/home/archie/Arquivos/climate/Datasets/x_just_vento_vel.csv')\n",
    "y_just_vento_vel = pd.read_csv('/home/archie/Arquivos/climate/Datasets/y_just_vento_vel.csv')\n",
    "\n",
    "x = x_just_vento_vel.as_matrix()\n",
    "y = y_just_vento_vel.as_matrix()\n",
    "\n",
    "x = np.delete(x,0,1)\n",
    "y = np.delete(y,0,1)\n",
    "\n",
    "#Creating a dataset for store rmse and r2 results\n",
    "values_just_vento_vel = pd.DataFrame(columns=['i','j','rmse','r2'])\n",
    "values_just_vento_vel_matrix = pd.DataFrame(columns=['i','j','rmse','r2'])\n",
    "\n"
   ]
  },
  {
   "cell_type": "code",
   "execution_count": 12,
   "metadata": {},
   "outputs": [],
   "source": [
    "def test_mlp(x,y,i,j):\n",
    "    warnings.filterwarnings('ignore')\n",
    "\n",
    "    train_x,test_x,train_y,test_y = train_test_split(x,y,test_size=0.2)\n",
    "\n",
    "    MLP_reg = MLPRegressor(hidden_layer_sizes = (i*30,j*30), activation='tanh',\n",
    "                      verbose=False, warm_start=True,\n",
    "                      max_iter = 300)\n",
    "\n",
    "    MLP_reg.fit(train_x,train_y)#Kernel default : RBF \n",
    "    predicts = MLP_reg.predict(test_x)\n",
    "\n",
    "    rmse = math.sqrt(mean_squared_error(test_y,predicts))\n",
    "    score_r2 = r2_score(test_y,predicts)\n",
    "\n",
    "    return i*30,j*30,rmse,score_r2\n",
    "\n",
    "def run_test_mlp(interval,dataset,x,y):\n",
    "    #To mesure time processing\n",
    "    import time \n",
    "    inicio = time.time()\n",
    "    a = 0\n",
    "    #Begin cycle for\n",
    "    for i in range(1,interval+1):\n",
    "        for j in range(1,interval+1): \n",
    "            dataset.loc[a] = test_mlp(x,y,i,j)\n",
    "            print(dataset.r2[a])\n",
    "            a = a + 1\n",
    "    #End cycle for\n",
    "    \n",
    "    fim = time.time()\n",
    "    print(fim-inicio)\n",
    "    return dataset"
   ]
  },
  {
   "cell_type": "code",
   "execution_count": 13,
   "metadata": {},
   "outputs": [
    {
     "name": "stdout",
     "output_type": "stream",
     "text": [
      "-17.504750218615023\n",
      "1.878119707107544\n"
     ]
    }
   ],
   "source": [
    "values_just_vento_vel = run_test_mlp(1,values_just_vento_vel,x_just_vento_vel,y_just_vento_vel)"
   ]
  },
  {
   "cell_type": "code",
   "execution_count": 14,
   "metadata": {},
   "outputs": [
    {
     "name": "stdout",
     "output_type": "stream",
     "text": [
      "-8.25140150759628\n",
      "1.8946342468261719\n"
     ]
    }
   ],
   "source": [
    "values_just_vento_vel_matrix = run_test_mlp(1,values_just_vento_vel_matrix,x,y)"
   ]
  },
  {
   "cell_type": "code",
   "execution_count": 15,
   "metadata": {},
   "outputs": [],
   "source": [
    "values_just_vento_vel.to_csv('/home/archie/Arquivos/climate/Datasets/values_just_vento_vel.csv')\n",
    "values_just_vento_vel = pd.read_csv('/home/archie/Arquivos/climate/Datasets/values_just_vento_vel.csv')\n",
    "\n",
    "values_just_vento_vel.to_csv('/home/archie/Arquivos/climate/Datasets/values_just_vento_vel_matrix.csv')\n",
    "values_just_vento_vel_matrix = pd.read_csv('/home/archie/Arquivos/climate/Datasets/values_just_vento_vel_matrix.csv')"
   ]
  },
  {
   "cell_type": "code",
   "execution_count": 16,
   "metadata": {},
   "outputs": [
    {
     "data": {
      "text/html": [
       "<div>\n",
       "<style scoped>\n",
       "    .dataframe tbody tr th:only-of-type {\n",
       "        vertical-align: middle;\n",
       "    }\n",
       "\n",
       "    .dataframe tbody tr th {\n",
       "        vertical-align: top;\n",
       "    }\n",
       "\n",
       "    .dataframe thead th {\n",
       "        text-align: right;\n",
       "    }\n",
       "</style>\n",
       "<table border=\"1\" class=\"dataframe\">\n",
       "  <thead>\n",
       "    <tr style=\"text-align: right;\">\n",
       "      <th></th>\n",
       "      <th>Unnamed: 0</th>\n",
       "      <th>i</th>\n",
       "      <th>j</th>\n",
       "      <th>rmse</th>\n",
       "      <th>r2</th>\n",
       "    </tr>\n",
       "  </thead>\n",
       "  <tbody>\n",
       "    <tr>\n",
       "      <th>0</th>\n",
       "      <td>0</td>\n",
       "      <td>30.0</td>\n",
       "      <td>30.0</td>\n",
       "      <td>1038.884945</td>\n",
       "      <td>-17.50475</td>\n",
       "    </tr>\n",
       "  </tbody>\n",
       "</table>\n",
       "</div>"
      ],
      "text/plain": [
       "   Unnamed: 0     i     j         rmse        r2\n",
       "0           0  30.0  30.0  1038.884945 -17.50475"
      ]
     },
     "execution_count": 16,
     "metadata": {},
     "output_type": "execute_result"
    }
   ],
   "source": [
    "values_just_vento_vel.head()"
   ]
  },
  {
   "cell_type": "code",
   "execution_count": 17,
   "metadata": {},
   "outputs": [
    {
     "data": {
      "text/html": [
       "<div>\n",
       "<style scoped>\n",
       "    .dataframe tbody tr th:only-of-type {\n",
       "        vertical-align: middle;\n",
       "    }\n",
       "\n",
       "    .dataframe tbody tr th {\n",
       "        vertical-align: top;\n",
       "    }\n",
       "\n",
       "    .dataframe thead th {\n",
       "        text-align: right;\n",
       "    }\n",
       "</style>\n",
       "<table border=\"1\" class=\"dataframe\">\n",
       "  <thead>\n",
       "    <tr style=\"text-align: right;\">\n",
       "      <th></th>\n",
       "      <th>Unnamed: 0</th>\n",
       "      <th>Unnamed: 0.1</th>\n",
       "      <th>i</th>\n",
       "      <th>j</th>\n",
       "      <th>rmse</th>\n",
       "      <th>r2</th>\n",
       "    </tr>\n",
       "  </thead>\n",
       "  <tbody>\n",
       "    <tr>\n",
       "      <th>0</th>\n",
       "      <td>0</td>\n",
       "      <td>0</td>\n",
       "      <td>30.0</td>\n",
       "      <td>30.0</td>\n",
       "      <td>1038.884945</td>\n",
       "      <td>-17.50475</td>\n",
       "    </tr>\n",
       "  </tbody>\n",
       "</table>\n",
       "</div>"
      ],
      "text/plain": [
       "   Unnamed: 0  Unnamed: 0.1     i     j         rmse        r2\n",
       "0           0             0  30.0  30.0  1038.884945 -17.50475"
      ]
     },
     "execution_count": 17,
     "metadata": {},
     "output_type": "execute_result"
    }
   ],
   "source": [
    "values_just_vento_vel_matrix.head()"
   ]
  },
  {
   "cell_type": "code",
   "execution_count": null,
   "metadata": {},
   "outputs": [],
   "source": []
  }
 ],
 "metadata": {
  "kernelspec": {
   "display_name": "Python 3",
   "language": "python",
   "name": "python3"
  },
  "language_info": {
   "codemirror_mode": {
    "name": "ipython",
    "version": 3
   },
   "file_extension": ".py",
   "mimetype": "text/x-python",
   "name": "python",
   "nbconvert_exporter": "python",
   "pygments_lexer": "ipython3",
   "version": "3.7.4"
  }
 },
 "nbformat": 4,
 "nbformat_minor": 2
}
