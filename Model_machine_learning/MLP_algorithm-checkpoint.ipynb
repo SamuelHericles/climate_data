{
 "cells": [
  {
   "cell_type": "code",
   "execution_count": 2,
   "metadata": {
    "colab": {},
    "colab_type": "code",
    "id": "4ppqFAoQr35r"
   },
   "outputs": [],
   "source": [
    "#import need\n",
    "import pandas as pd\n",
    "import seaborn as sns\n",
    "import matplotlib.pyplot as plt\n",
    "import warnings\n",
    "import math\n",
    "from sklearn.neural_network import MLPRegressor\n",
    "from sklearn.neural_network import MLPClassifier\n",
    "from sklearn.model_selection import train_test_split\n",
    "from sklearn.metrics import r2_score\n",
    "from sklearn.metrics import accuracy_score\n",
    "from sklearn.metrics import mean_squared_error\n",
    "plt.rcParams['figure.figsize'] = (12,5)\n"
   ]
  },
  {
   "cell_type": "code",
   "execution_count": 3,
   "metadata": {
    "colab": {
     "base_uri": "https://localhost:8080/",
     "height": 56
    },
    "colab_type": "code",
    "executionInfo": {
     "elapsed": 1732,
     "status": "ok",
     "timestamp": 1565927036994,
     "user": {
      "displayName": "SAMUEL HERICLES SOUZA SILVEIRA UFC",
      "photoUrl": "",
      "userId": "12708602358479385648"
     },
     "user_tz": 180
    },
    "id": "xNcLC-8nwIya",
    "outputId": "5c62b020-8d26-42a7-d4b6-58a1573dc8a3"
   },
   "outputs": [],
   "source": [
    "#from google.colab import drive \n",
    "#drive.mount('/content/gdrive')"
   ]
  },
  {
   "cell_type": "code",
   "execution_count": 4,
   "metadata": {
    "colab": {
     "base_uri": "https://localhost:8080/",
     "height": 56
    },
    "colab_type": "code",
    "executionInfo": {
     "elapsed": 6045,
     "status": "ok",
     "timestamp": 1565927041324,
     "user": {
      "displayName": "SAMUEL HERICLES SOUZA SILVEIRA UFC",
      "photoUrl": "",
      "userId": "12708602358479385648"
     },
     "user_tz": 180
    },
    "id": "T0SlQkk9xoqP",
    "outputId": "e0a6c77b-8f07-4b76-8fca-b60bd862f378"
   },
   "outputs": [],
   "source": [
    "#!ls \"/content/gdrive/My Drive/Colab Notebooks/data_fortaleza-CE.csv\""
   ]
  },
  {
   "cell_type": "code",
   "execution_count": 5,
   "metadata": {
    "colab": {
     "base_uri": "https://localhost:8080/",
     "height": 224
    },
    "colab_type": "code",
    "executionInfo": {
     "elapsed": 6034,
     "status": "ok",
     "timestamp": 1565927041326,
     "user": {
      "displayName": "SAMUEL HERICLES SOUZA SILVEIRA UFC",
      "photoUrl": "",
      "userId": "12708602358479385648"
     },
     "user_tz": 180
    },
    "id": "X9EbwEWGr351",
    "outputId": "a27a16bd-86bd-4092-afba-c0789b5b9688"
   },
   "outputs": [
    {
     "data": {
      "text/html": [
       "<div>\n",
       "<style scoped>\n",
       "    .dataframe tbody tr th:only-of-type {\n",
       "        vertical-align: middle;\n",
       "    }\n",
       "\n",
       "    .dataframe tbody tr th {\n",
       "        vertical-align: top;\n",
       "    }\n",
       "\n",
       "    .dataframe thead th {\n",
       "        text-align: right;\n",
       "    }\n",
       "</style>\n",
       "<table border=\"1\" class=\"dataframe\">\n",
       "  <thead>\n",
       "    <tr style=\"text-align: right;\">\n",
       "      <th></th>\n",
       "      <th>codigo_estacao</th>\n",
       "      <th>data</th>\n",
       "      <th>hora</th>\n",
       "      <th>temp_inst</th>\n",
       "      <th>temp_max</th>\n",
       "      <th>temp_min</th>\n",
       "      <th>umid_inst</th>\n",
       "      <th>umid_max</th>\n",
       "      <th>umid_min</th>\n",
       "      <th>pto_orvalho_inst</th>\n",
       "      <th>pto_orvalho_max</th>\n",
       "      <th>pto_orvalho_min</th>\n",
       "      <th>pressao</th>\n",
       "      <th>pressao_max</th>\n",
       "      <th>pressao_min</th>\n",
       "      <th>vento_direcao</th>\n",
       "      <th>vento_vel</th>\n",
       "      <th>vento_rajada</th>\n",
       "      <th>radiacao</th>\n",
       "      <th>precipitacao</th>\n",
       "    </tr>\n",
       "  </thead>\n",
       "  <tbody>\n",
       "    <tr>\n",
       "      <th>0</th>\n",
       "      <td>A305</td>\n",
       "      <td>01/06/2019</td>\n",
       "      <td>0</td>\n",
       "      <td>26.6</td>\n",
       "      <td>26.8</td>\n",
       "      <td>26.4</td>\n",
       "      <td>79</td>\n",
       "      <td>80</td>\n",
       "      <td>78</td>\n",
       "      <td>22.6</td>\n",
       "      <td>22.8</td>\n",
       "      <td>22.5</td>\n",
       "      <td>1009.9</td>\n",
       "      <td>1009.9</td>\n",
       "      <td>1009.2</td>\n",
       "      <td>1.4</td>\n",
       "      <td>104</td>\n",
       "      <td>4.8</td>\n",
       "      <td>-3.51</td>\n",
       "      <td>0.0</td>\n",
       "    </tr>\n",
       "    <tr>\n",
       "      <th>1</th>\n",
       "      <td>A305</td>\n",
       "      <td>01/06/2019</td>\n",
       "      <td>23</td>\n",
       "      <td>26.0</td>\n",
       "      <td>26.8</td>\n",
       "      <td>25.9</td>\n",
       "      <td>79</td>\n",
       "      <td>79</td>\n",
       "      <td>75</td>\n",
       "      <td>22.1</td>\n",
       "      <td>22.1</td>\n",
       "      <td>21.7</td>\n",
       "      <td>1010.0</td>\n",
       "      <td>1010.0</td>\n",
       "      <td>1009.2</td>\n",
       "      <td>0.5</td>\n",
       "      <td>121</td>\n",
       "      <td>4.2</td>\n",
       "      <td>-3.54</td>\n",
       "      <td>0.0</td>\n",
       "    </tr>\n",
       "    <tr>\n",
       "      <th>2</th>\n",
       "      <td>A305</td>\n",
       "      <td>01/06/2019</td>\n",
       "      <td>22</td>\n",
       "      <td>26.7</td>\n",
       "      <td>27.1</td>\n",
       "      <td>26.6</td>\n",
       "      <td>75</td>\n",
       "      <td>75</td>\n",
       "      <td>72</td>\n",
       "      <td>21.8</td>\n",
       "      <td>21.8</td>\n",
       "      <td>21.5</td>\n",
       "      <td>1009.2</td>\n",
       "      <td>1009.2</td>\n",
       "      <td>1009.0</td>\n",
       "      <td>1.7</td>\n",
       "      <td>94</td>\n",
       "      <td>5.5</td>\n",
       "      <td>-3.54</td>\n",
       "      <td>0.0</td>\n",
       "    </tr>\n",
       "    <tr>\n",
       "      <th>3</th>\n",
       "      <td>A305</td>\n",
       "      <td>01/06/2019</td>\n",
       "      <td>21</td>\n",
       "      <td>27.1</td>\n",
       "      <td>28.1</td>\n",
       "      <td>26.9</td>\n",
       "      <td>72</td>\n",
       "      <td>72</td>\n",
       "      <td>66</td>\n",
       "      <td>21.6</td>\n",
       "      <td>21.6</td>\n",
       "      <td>21.2</td>\n",
       "      <td>1009.0</td>\n",
       "      <td>1009.0</td>\n",
       "      <td>1008.4</td>\n",
       "      <td>2.1</td>\n",
       "      <td>91</td>\n",
       "      <td>6.9</td>\n",
       "      <td>70.21</td>\n",
       "      <td>0.0</td>\n",
       "    </tr>\n",
       "    <tr>\n",
       "      <th>4</th>\n",
       "      <td>A305</td>\n",
       "      <td>01/06/2019</td>\n",
       "      <td>20</td>\n",
       "      <td>28.1</td>\n",
       "      <td>29.3</td>\n",
       "      <td>28.1</td>\n",
       "      <td>66</td>\n",
       "      <td>67</td>\n",
       "      <td>61</td>\n",
       "      <td>21.2</td>\n",
       "      <td>21.8</td>\n",
       "      <td>20.8</td>\n",
       "      <td>1008.4</td>\n",
       "      <td>1008.4</td>\n",
       "      <td>1007.9</td>\n",
       "      <td>2.9</td>\n",
       "      <td>103</td>\n",
       "      <td>7.4</td>\n",
       "      <td>688.50</td>\n",
       "      <td>0.0</td>\n",
       "    </tr>\n",
       "  </tbody>\n",
       "</table>\n",
       "</div>"
      ],
      "text/plain": [
       "  codigo_estacao        data  hora  temp_inst  temp_max  temp_min  umid_inst  \\\n",
       "0           A305  01/06/2019     0       26.6      26.8      26.4         79   \n",
       "1           A305  01/06/2019    23       26.0      26.8      25.9         79   \n",
       "2           A305  01/06/2019    22       26.7      27.1      26.6         75   \n",
       "3           A305  01/06/2019    21       27.1      28.1      26.9         72   \n",
       "4           A305  01/06/2019    20       28.1      29.3      28.1         66   \n",
       "\n",
       "   umid_max  umid_min  pto_orvalho_inst  pto_orvalho_max  pto_orvalho_min  \\\n",
       "0        80        78              22.6             22.8             22.5   \n",
       "1        79        75              22.1             22.1             21.7   \n",
       "2        75        72              21.8             21.8             21.5   \n",
       "3        72        66              21.6             21.6             21.2   \n",
       "4        67        61              21.2             21.8             20.8   \n",
       "\n",
       "   pressao  pressao_max  pressao_min  vento_direcao  vento_vel   vento_rajada  \\\n",
       "0   1009.9       1009.9       1009.2            1.4        104            4.8   \n",
       "1   1010.0       1010.0       1009.2            0.5        121            4.2   \n",
       "2   1009.2       1009.2       1009.0            1.7         94            5.5   \n",
       "3   1009.0       1009.0       1008.4            2.1         91            6.9   \n",
       "4   1008.4       1008.4       1007.9            2.9        103            7.4   \n",
       "\n",
       "   radiacao  precipitacao  \n",
       "0     -3.51           0.0  \n",
       "1     -3.54           0.0  \n",
       "2     -3.54           0.0  \n",
       "3     70.21           0.0  \n",
       "4    688.50           0.0  "
      ]
     },
     "execution_count": 5,
     "metadata": {},
     "output_type": "execute_result"
    }
   ],
   "source": [
    "#data_climate_test_train = pd.read_csv(\"/content/gdrive/My Drive/Colab Notebooks/fortaleza_junho_julho.csv\")\n",
    "data_climate_test_train = pd.read_csv(\"fortaleza_junho_julho.csv\")\n",
    "data_climate_test_train.head()"
   ]
  },
  {
   "cell_type": "code",
   "execution_count": 6,
   "metadata": {
    "colab": {
     "base_uri": "https://localhost:8080/",
     "height": 224
    },
    "colab_type": "code",
    "executionInfo": {
     "elapsed": 6022,
     "status": "ok",
     "timestamp": 1565927041327,
     "user": {
      "displayName": "SAMUEL HERICLES SOUZA SILVEIRA UFC",
      "photoUrl": "",
      "userId": "12708602358479385648"
     },
     "user_tz": 180
    },
    "id": "c3YaGs7eekSQ",
    "outputId": "54dbf466-a5e9-4d5e-debb-a4942e5c9475"
   },
   "outputs": [
    {
     "data": {
      "text/html": [
       "<div>\n",
       "<style scoped>\n",
       "    .dataframe tbody tr th:only-of-type {\n",
       "        vertical-align: middle;\n",
       "    }\n",
       "\n",
       "    .dataframe tbody tr th {\n",
       "        vertical-align: top;\n",
       "    }\n",
       "\n",
       "    .dataframe thead th {\n",
       "        text-align: right;\n",
       "    }\n",
       "</style>\n",
       "<table border=\"1\" class=\"dataframe\">\n",
       "  <thead>\n",
       "    <tr style=\"text-align: right;\">\n",
       "      <th></th>\n",
       "      <th>codigo_estacao</th>\n",
       "      <th>data</th>\n",
       "      <th>hora</th>\n",
       "      <th>temp_inst</th>\n",
       "      <th>temp_max</th>\n",
       "      <th>temp_min</th>\n",
       "      <th>umid_inst</th>\n",
       "      <th>umid_max</th>\n",
       "      <th>umid_min</th>\n",
       "      <th>pto_orvalho_inst</th>\n",
       "      <th>pto_orvalho_max</th>\n",
       "      <th>pto_orvalho_min</th>\n",
       "      <th>pressao</th>\n",
       "      <th>pressao_max</th>\n",
       "      <th>pressao_min</th>\n",
       "      <th>vento_direcao</th>\n",
       "      <th>vento_vel</th>\n",
       "      <th>vento_rajada</th>\n",
       "      <th>radiacao</th>\n",
       "      <th>precipitacao</th>\n",
       "    </tr>\n",
       "  </thead>\n",
       "  <tbody>\n",
       "    <tr>\n",
       "      <th>0</th>\n",
       "      <td>A305</td>\n",
       "      <td>01/08/2019</td>\n",
       "      <td>0</td>\n",
       "      <td>26.1</td>\n",
       "      <td>26.4</td>\n",
       "      <td>26.1</td>\n",
       "      <td>74</td>\n",
       "      <td>74</td>\n",
       "      <td>71</td>\n",
       "      <td>21.0</td>\n",
       "      <td>21.1</td>\n",
       "      <td>20.7</td>\n",
       "      <td>1011.9</td>\n",
       "      <td>1012.0</td>\n",
       "      <td>1011.5</td>\n",
       "      <td>3.4</td>\n",
       "      <td>92</td>\n",
       "      <td>7.6</td>\n",
       "      <td>-3.54</td>\n",
       "      <td>0.0</td>\n",
       "    </tr>\n",
       "    <tr>\n",
       "      <th>1</th>\n",
       "      <td>A305</td>\n",
       "      <td>01/08/2019</td>\n",
       "      <td>1</td>\n",
       "      <td>25.7</td>\n",
       "      <td>26.1</td>\n",
       "      <td>25.6</td>\n",
       "      <td>76</td>\n",
       "      <td>76</td>\n",
       "      <td>73</td>\n",
       "      <td>21.1</td>\n",
       "      <td>21.2</td>\n",
       "      <td>20.8</td>\n",
       "      <td>1012.1</td>\n",
       "      <td>1012.2</td>\n",
       "      <td>1011.9</td>\n",
       "      <td>2.2</td>\n",
       "      <td>113</td>\n",
       "      <td>7.5</td>\n",
       "      <td>-3.54</td>\n",
       "      <td>0.0</td>\n",
       "    </tr>\n",
       "    <tr>\n",
       "      <th>2</th>\n",
       "      <td>A305</td>\n",
       "      <td>01/08/2019</td>\n",
       "      <td>2</td>\n",
       "      <td>25.4</td>\n",
       "      <td>25.7</td>\n",
       "      <td>25.3</td>\n",
       "      <td>77</td>\n",
       "      <td>78</td>\n",
       "      <td>76</td>\n",
       "      <td>21.2</td>\n",
       "      <td>21.3</td>\n",
       "      <td>21.1</td>\n",
       "      <td>1012.0</td>\n",
       "      <td>1012.2</td>\n",
       "      <td>1012.0</td>\n",
       "      <td>1.7</td>\n",
       "      <td>113</td>\n",
       "      <td>6.1</td>\n",
       "      <td>-3.54</td>\n",
       "      <td>0.0</td>\n",
       "    </tr>\n",
       "    <tr>\n",
       "      <th>3</th>\n",
       "      <td>A305</td>\n",
       "      <td>01/08/2019</td>\n",
       "      <td>3</td>\n",
       "      <td>25.4</td>\n",
       "      <td>25.6</td>\n",
       "      <td>25.2</td>\n",
       "      <td>79</td>\n",
       "      <td>79</td>\n",
       "      <td>76</td>\n",
       "      <td>21.4</td>\n",
       "      <td>21.4</td>\n",
       "      <td>21.1</td>\n",
       "      <td>1011.5</td>\n",
       "      <td>1012.0</td>\n",
       "      <td>1011.5</td>\n",
       "      <td>1.4</td>\n",
       "      <td>121</td>\n",
       "      <td>4.8</td>\n",
       "      <td>-3.54</td>\n",
       "      <td>0.0</td>\n",
       "    </tr>\n",
       "    <tr>\n",
       "      <th>4</th>\n",
       "      <td>A305</td>\n",
       "      <td>01/08/2019</td>\n",
       "      <td>4</td>\n",
       "      <td>25.6</td>\n",
       "      <td>25.7</td>\n",
       "      <td>25.4</td>\n",
       "      <td>80</td>\n",
       "      <td>80</td>\n",
       "      <td>78</td>\n",
       "      <td>21.8</td>\n",
       "      <td>21.8</td>\n",
       "      <td>21.4</td>\n",
       "      <td>1010.9</td>\n",
       "      <td>1011.5</td>\n",
       "      <td>1010.9</td>\n",
       "      <td>1.8</td>\n",
       "      <td>110</td>\n",
       "      <td>4.9</td>\n",
       "      <td>-3.54</td>\n",
       "      <td>0.0</td>\n",
       "    </tr>\n",
       "  </tbody>\n",
       "</table>\n",
       "</div>"
      ],
      "text/plain": [
       "  codigo_estacao        data  hora  temp_inst  temp_max  temp_min  umid_inst  \\\n",
       "0           A305  01/08/2019     0       26.1      26.4      26.1         74   \n",
       "1           A305  01/08/2019     1       25.7      26.1      25.6         76   \n",
       "2           A305  01/08/2019     2       25.4      25.7      25.3         77   \n",
       "3           A305  01/08/2019     3       25.4      25.6      25.2         79   \n",
       "4           A305  01/08/2019     4       25.6      25.7      25.4         80   \n",
       "\n",
       "   umid_max  umid_min  pto_orvalho_inst  pto_orvalho_max  pto_orvalho_min  \\\n",
       "0        74        71              21.0             21.1             20.7   \n",
       "1        76        73              21.1             21.2             20.8   \n",
       "2        78        76              21.2             21.3             21.1   \n",
       "3        79        76              21.4             21.4             21.1   \n",
       "4        80        78              21.8             21.8             21.4   \n",
       "\n",
       "   pressao  pressao_max  pressao_min  vento_direcao  vento_vel   vento_rajada  \\\n",
       "0   1011.9       1012.0       1011.5            3.4         92            7.6   \n",
       "1   1012.1       1012.2       1011.9            2.2        113            7.5   \n",
       "2   1012.0       1012.2       1012.0            1.7        113            6.1   \n",
       "3   1011.5       1012.0       1011.5            1.4        121            4.8   \n",
       "4   1010.9       1011.5       1010.9            1.8        110            4.9   \n",
       "\n",
       "   radiacao  precipitacao  \n",
       "0     -3.54           0.0  \n",
       "1     -3.54           0.0  \n",
       "2     -3.54           0.0  \n",
       "3     -3.54           0.0  \n",
       "4     -3.54           0.0  "
      ]
     },
     "execution_count": 6,
     "metadata": {},
     "output_type": "execute_result"
    }
   ],
   "source": [
    "#data_climate_validation = pd.read_csv(\"/content/gdrive/My Drive/Colab Notebooks/fortaleza_agosto.csv\")\n",
    "data_climate_validation = pd.read_csv(\"fortaleza_agosto.csv\")\n",
    "data_climate_validation.head()"
   ]
  },
  {
   "cell_type": "code",
   "execution_count": 7,
   "metadata": {
    "colab": {
     "base_uri": "https://localhost:8080/",
     "height": 492
    },
    "colab_type": "code",
    "executionInfo": {
     "elapsed": 6010,
     "status": "ok",
     "timestamp": 1565927041328,
     "user": {
      "displayName": "SAMUEL HERICLES SOUZA SILVEIRA UFC",
      "photoUrl": "",
      "userId": "12708602358479385648"
     },
     "user_tz": 180
    },
    "id": "thBs1Q0Hr359",
    "outputId": "d3b02e53-8b41-4229-e0f4-9b6739c1a121"
   },
   "outputs": [
    {
     "name": "stdout",
     "output_type": "stream",
     "text": [
      "<class 'pandas.core.frame.DataFrame'>\n",
      "RangeIndex: 1464 entries, 0 to 1463\n",
      "Data columns (total 20 columns):\n",
      "codigo_estacao      1464 non-null object\n",
      "data                1464 non-null object\n",
      "hora                1464 non-null int64\n",
      "temp_inst           1464 non-null float64\n",
      "temp_max            1464 non-null float64\n",
      "temp_min            1464 non-null float64\n",
      "umid_inst           1464 non-null int64\n",
      "umid_max            1464 non-null int64\n",
      "umid_min            1464 non-null int64\n",
      "pto_orvalho_inst    1464 non-null float64\n",
      "pto_orvalho_max     1464 non-null float64\n",
      "pto_orvalho_min     1464 non-null float64\n",
      "pressao             1464 non-null float64\n",
      "pressao_max         1464 non-null float64\n",
      "pressao_min         1464 non-null float64\n",
      "vento_direcao       1464 non-null float64\n",
      "vento_vel           1464 non-null int64\n",
      "vento_rajada        1464 non-null float64\n",
      "radiacao            1464 non-null float64\n",
      "precipitacao        1464 non-null float64\n",
      "dtypes: float64(13), int64(5), object(2)\n",
      "memory usage: 228.9+ KB\n"
     ]
    }
   ],
   "source": [
    "#Correting column's names\n",
    "data_climate_test_train.columns = ['codigo_estacao','data','hora','temp_inst','temp_max','temp_min','umid_inst','umid_max','umid_min','pto_orvalho_inst','pto_orvalho_max','pto_orvalho_min','pressao','pressao_max','pressao_min','vento_direcao','vento_vel','vento_rajada','radiacao','precipitacao']\n",
    "data_climate_test_train.info()"
   ]
  },
  {
   "cell_type": "code",
   "execution_count": 8,
   "metadata": {
    "colab": {
     "base_uri": "https://localhost:8080/",
     "height": 492
    },
    "colab_type": "code",
    "executionInfo": {
     "elapsed": 5997,
     "status": "ok",
     "timestamp": 1565927041329,
     "user": {
      "displayName": "SAMUEL HERICLES SOUZA SILVEIRA UFC",
      "photoUrl": "",
      "userId": "12708602358479385648"
     },
     "user_tz": 180
    },
    "id": "c6uJx7xEevbN",
    "outputId": "59b217d8-f7a0-4c30-c36a-47d9e1bfd548"
   },
   "outputs": [
    {
     "name": "stdout",
     "output_type": "stream",
     "text": [
      "<class 'pandas.core.frame.DataFrame'>\n",
      "RangeIndex: 364 entries, 0 to 363\n",
      "Data columns (total 20 columns):\n",
      "codigo_estacao      364 non-null object\n",
      "data                364 non-null object\n",
      "hora                364 non-null int64\n",
      "temp_inst           364 non-null float64\n",
      "temp_max            364 non-null float64\n",
      "temp_min            364 non-null float64\n",
      "umid_inst           364 non-null int64\n",
      "umid_max            364 non-null int64\n",
      "umid_min            364 non-null int64\n",
      "pto_orvalho_inst    364 non-null float64\n",
      "pto_orvalho_max     364 non-null float64\n",
      "pto_orvalho_min     364 non-null float64\n",
      "pressao             364 non-null float64\n",
      "pressao_max         364 non-null float64\n",
      "pressao_min         364 non-null float64\n",
      "vento_direcao       364 non-null float64\n",
      "vento_vel           364 non-null int64\n",
      "vento_rajada        364 non-null float64\n",
      "radiacao            364 non-null float64\n",
      "precipitacao        364 non-null float64\n",
      "dtypes: float64(13), int64(5), object(2)\n",
      "memory usage: 57.0+ KB\n"
     ]
    }
   ],
   "source": [
    "data_climate_validation.columns = ['codigo_estacao','data','hora','temp_inst','temp_max','temp_min','umid_inst','umid_max','umid_min','pto_orvalho_inst','pto_orvalho_max','pto_orvalho_min','pressao','pressao_max','pressao_min','vento_direcao','vento_vel','vento_rajada','radiacao','precipitacao']\n",
    "data_climate_validation.info()"
   ]
  },
  {
   "cell_type": "code",
   "execution_count": 9,
   "metadata": {
    "colab": {
     "base_uri": "https://localhost:8080/",
     "height": 342
    },
    "colab_type": "code",
    "executionInfo": {
     "elapsed": 6549,
     "status": "ok",
     "timestamp": 1565927041895,
     "user": {
      "displayName": "SAMUEL HERICLES SOUZA SILVEIRA UFC",
      "photoUrl": "",
      "userId": "12708602358479385648"
     },
     "user_tz": 180
    },
    "id": "8GkFyGUrr36m",
    "outputId": "04382988-fc24-4d17-e840-8a96dede937d"
   },
   "outputs": [
    {
     "data": {
      "text/plain": [
       "[<matplotlib.lines.Line2D at 0x7f1ce91c6e90>]"
      ]
     },
     "execution_count": 9,
     "metadata": {},
     "output_type": "execute_result"
    },
    {
     "data": {
      "image/png": "[encoded data removed]",
      "text/plain": [
       "<Figure size 432x288 with 1 Axes>"
      ]
     },
     "metadata": {
      "needs_background": "light"
     },
     "output_type": "display_data"
    }
   ],
   "source": [
    "# dif into temp_max and temp_min\n",
    "diff_temp_test_train = data_climate_test_train.temp_max - data_climate_test_train.temp_min\n",
    "diff_temp_validation = data_climate_validation.temp_max - data_climate_validation.temp_min\n",
    "plt.plot(diff_temp_test_train)\n",
    "plt.plot(diff_temp_validation)\n"
   ]
  },
  {
   "cell_type": "code",
   "execution_count": 10,
   "metadata": {
    "colab": {
     "base_uri": "https://localhost:8080/",
     "height": 342
    },
    "colab_type": "code",
    "executionInfo": {
     "elapsed": 7463,
     "status": "ok",
     "timestamp": 1565927042833,
     "user": {
      "displayName": "SAMUEL HERICLES SOUZA SILVEIRA UFC",
      "photoUrl": "",
      "userId": "12708602358479385648"
     },
     "user_tz": 180
    },
    "id": "CD3Zjm_mr36r",
    "outputId": "3a8e8559-2da5-4afa-8dca-1c77034b4729"
   },
   "outputs": [
    {
     "data": {
      "text/plain": [
       "[<matplotlib.lines.Line2D at 0x7f1ce9149210>]"
      ]
     },
     "execution_count": 10,
     "metadata": {},
     "output_type": "execute_result"
    },
    {
     "data": {
      "image/png": "[encoded data removed]",
      "text/plain": [
       "<Figure size 432x288 with 1 Axes>"
      ]
     },
     "metadata": {
      "needs_background": "light"
     },
     "output_type": "display_data"
    }
   ],
   "source": [
    "# diff between umid_max umid_min\n",
    "diff_umid_test_train = data_climate_test_train.umid_max - data_climate_test_train.umid_min\n",
    "diff_umid_validation = data_climate_validation.umid_max - data_climate_validation.umid_min\n",
    "plt.plot(diff_umid_test_train)\n",
    "plt.plot(diff_umid_validation)\n"
   ]
  },
  {
   "cell_type": "code",
   "execution_count": 11,
   "metadata": {
    "colab": {
     "base_uri": "https://localhost:8080/",
     "height": 342
    },
    "colab_type": "code",
    "executionInfo": {
     "elapsed": 7437,
     "status": "ok",
     "timestamp": 1565927042835,
     "user": {
      "displayName": "SAMUEL HERICLES SOUZA SILVEIRA UFC",
      "photoUrl": "",
      "userId": "12708602358479385648"
     },
     "user_tz": 180
    },
    "id": "wHnj6otDr36w",
    "outputId": "18522aa9-f8db-4a72-abdb-0f83a3a369d6"
   },
   "outputs": [
    {
     "data": {
      "text/plain": [
       "[<matplotlib.lines.Line2D at 0x7f1ce8a6a490>]"
      ]
     },
     "execution_count": 11,
     "metadata": {},
     "output_type": "execute_result"
    },
    {
     "data": {
      "image/png": "[encoded data removed]",
      "text/plain": [
       "<Figure size 432x288 with 1 Axes>"
      ]
     },
     "metadata": {
      "needs_background": "light"
     },
     "output_type": "display_data"
    }
   ],
   "source": [
    "# diff betwenn dew_max and dew_min\n",
    "diff_dew_test_train = data_climate_test_train.pto_orvalho_max - data_climate_test_train.pto_orvalho_min\n",
    "diff_dew_validation = data_climate_validation.pto_orvalho_max - data_climate_validation.pto_orvalho_min\n",
    "plt.plot(diff_dew_test_train)\n",
    "plt.plot(diff_dew_validation)\n"
   ]
  },
  {
   "cell_type": "code",
   "execution_count": 12,
   "metadata": {
    "colab": {
     "base_uri": "https://localhost:8080/",
     "height": 342
    },
    "colab_type": "code",
    "executionInfo": {
     "elapsed": 8203,
     "status": "ok",
     "timestamp": 1565927043632,
     "user": {
      "displayName": "SAMUEL HERICLES SOUZA SILVEIRA UFC",
      "photoUrl": "",
      "userId": "12708602358479385648"
     },
     "user_tz": 180
    },
    "id": "AiQFbLCrr361",
    "outputId": "2f886ce0-2e8d-4fe6-eedd-8c68a7937056"
   },
   "outputs": [
    {
     "data": {
      "text/plain": [
       "[<matplotlib.lines.Line2D at 0x7f1ce8a4d090>]"
      ]
     },
     "execution_count": 12,
     "metadata": {},
     "output_type": "execute_result"
    },
    {
     "data": {
      "image/png": "[encoded data removed]",
      "text/plain": [
       "<Figure size 432x288 with 1 Axes>"
      ]
     },
     "metadata": {
      "needs_background": "light"
     },
     "output_type": "display_data"
    }
   ],
   "source": [
    "#diff between pressue_max and pressure_min\n",
    "diff_pressure_test_train = data_climate_test_train.pressao_max - data_climate_test_train.pressao_min\n",
    "diff_pressure_validation = data_climate_validation.pressao_max - data_climate_validation.pressao_min\n",
    "plt.plot(diff_pressure_test_train)\n",
    "plt.plot(diff_pressure_validation)"
   ]
  },
  {
   "cell_type": "code",
   "execution_count": 13,
   "metadata": {
    "colab": {
     "base_uri": "https://localhost:8080/",
     "height": 342
    },
    "colab_type": "code",
    "executionInfo": {
     "elapsed": 8180,
     "status": "ok",
     "timestamp": 1565927043634,
     "user": {
      "displayName": "SAMUEL HERICLES SOUZA SILVEIRA UFC",
      "photoUrl": "",
      "userId": "12708602358479385648"
     },
     "user_tz": 180
    },
    "id": "qEPqAyTKr365",
    "outputId": "9cd42477-a72f-47ef-844d-0f2c3c1d01a7"
   },
   "outputs": [
    {
     "data": {
      "text/plain": [
       "[<matplotlib.lines.Line2D at 0x7f1ce89533d0>]"
      ]
     },
     "execution_count": 13,
     "metadata": {},
     "output_type": "execute_result"
    },
    {
     "data": {
      "image/png": "[encoded data removed]",
      "text/plain": [
       "<Figure size 432x288 with 1 Axes>"
      ]
     },
     "metadata": {
      "needs_background": "light"
     },
     "output_type": "display_data"
    }
   ],
   "source": [
    "# diff between wind_direction and wind_guest\n",
    "\n",
    "diff_wind_test_train = data_climate_test_train.vento_rajada - data_climate_test_train.vento_direcao\n",
    "diff_wind_validation = data_climate_validation.vento_rajada - data_climate_validation.vento_direcao\n",
    "plt.plot(diff_wind_test_train)\n",
    "plt.plot(diff_wind_validation)"
   ]
  },
  {
   "cell_type": "code",
   "execution_count": 14,
   "metadata": {
    "colab": {
     "base_uri": "https://localhost:8080/",
     "height": 204
    },
    "colab_type": "code",
    "executionInfo": {
     "elapsed": 8159,
     "status": "ok",
     "timestamp": 1565927043636,
     "user": {
      "displayName": "SAMUEL HERICLES SOUZA SILVEIRA UFC",
      "photoUrl": "",
      "userId": "12708602358479385648"
     },
     "user_tz": 180
    },
    "id": "HPtqQVm2r36-",
    "outputId": "73f3ae16-97e7-45d3-d0e8-751e5306508f"
   },
   "outputs": [
    {
     "data": {
      "text/html": [
       "<div>\n",
       "<style scoped>\n",
       "    .dataframe tbody tr th:only-of-type {\n",
       "        vertical-align: middle;\n",
       "    }\n",
       "\n",
       "    .dataframe tbody tr th {\n",
       "        vertical-align: top;\n",
       "    }\n",
       "\n",
       "    .dataframe thead th {\n",
       "        text-align: right;\n",
       "    }\n",
       "</style>\n",
       "<table border=\"1\" class=\"dataframe\">\n",
       "  <thead>\n",
       "    <tr style=\"text-align: right;\">\n",
       "      <th></th>\n",
       "      <th>hora</th>\n",
       "      <th>temp_inst</th>\n",
       "      <th>umid_inst</th>\n",
       "      <th>pto_orvalho_inst</th>\n",
       "      <th>pressao</th>\n",
       "      <th>vento_rajada</th>\n",
       "      <th>radiacao</th>\n",
       "      <th>precipitacao</th>\n",
       "      <th>vento_vel</th>\n",
       "    </tr>\n",
       "  </thead>\n",
       "  <tbody>\n",
       "    <tr>\n",
       "      <th>0</th>\n",
       "      <td>0</td>\n",
       "      <td>26.1</td>\n",
       "      <td>74</td>\n",
       "      <td>21.0</td>\n",
       "      <td>1011.9</td>\n",
       "      <td>7.6</td>\n",
       "      <td>-3.54</td>\n",
       "      <td>0.0</td>\n",
       "      <td>92</td>\n",
       "    </tr>\n",
       "    <tr>\n",
       "      <th>1</th>\n",
       "      <td>1</td>\n",
       "      <td>25.7</td>\n",
       "      <td>76</td>\n",
       "      <td>21.1</td>\n",
       "      <td>1012.1</td>\n",
       "      <td>7.5</td>\n",
       "      <td>-3.54</td>\n",
       "      <td>0.0</td>\n",
       "      <td>113</td>\n",
       "    </tr>\n",
       "    <tr>\n",
       "      <th>2</th>\n",
       "      <td>2</td>\n",
       "      <td>25.4</td>\n",
       "      <td>77</td>\n",
       "      <td>21.2</td>\n",
       "      <td>1012.0</td>\n",
       "      <td>6.1</td>\n",
       "      <td>-3.54</td>\n",
       "      <td>0.0</td>\n",
       "      <td>113</td>\n",
       "    </tr>\n",
       "    <tr>\n",
       "      <th>3</th>\n",
       "      <td>3</td>\n",
       "      <td>25.4</td>\n",
       "      <td>79</td>\n",
       "      <td>21.4</td>\n",
       "      <td>1011.5</td>\n",
       "      <td>4.8</td>\n",
       "      <td>-3.54</td>\n",
       "      <td>0.0</td>\n",
       "      <td>121</td>\n",
       "    </tr>\n",
       "    <tr>\n",
       "      <th>4</th>\n",
       "      <td>4</td>\n",
       "      <td>25.6</td>\n",
       "      <td>80</td>\n",
       "      <td>21.8</td>\n",
       "      <td>1010.9</td>\n",
       "      <td>4.9</td>\n",
       "      <td>-3.54</td>\n",
       "      <td>0.0</td>\n",
       "      <td>110</td>\n",
       "    </tr>\n",
       "  </tbody>\n",
       "</table>\n",
       "</div>"
      ],
      "text/plain": [
       "   hora  temp_inst  umid_inst  pto_orvalho_inst  pressao  vento_rajada  \\\n",
       "0     0       26.1         74              21.0   1011.9           7.6   \n",
       "1     1       25.7         76              21.1   1012.1           7.5   \n",
       "2     2       25.4         77              21.2   1012.0           6.1   \n",
       "3     3       25.4         79              21.4   1011.5           4.8   \n",
       "4     4       25.6         80              21.8   1010.9           4.9   \n",
       "\n",
       "   radiacao  precipitacao  vento_vel  \n",
       "0     -3.54           0.0         92  \n",
       "1     -3.54           0.0        113  \n",
       "2     -3.54           0.0        113  \n",
       "3     -3.54           0.0        121  \n",
       "4     -3.54           0.0        110  "
      ]
     },
     "execution_count": 14,
     "metadata": {},
     "output_type": "execute_result"
    }
   ],
   "source": [
    "new_dataset_test_train = pd.DataFrame(data_climate_test_train[['hora','temp_inst','umid_inst','pto_orvalho_inst','pressao','vento_rajada','radiacao','precipitacao','vento_vel']])\n",
    "new_dataset_validation = pd.DataFrame(data_climate_validation[['hora','temp_inst','umid_inst','pto_orvalho_inst','pressao','vento_rajada','radiacao','precipitacao','vento_vel']])\n",
    "new_dataset_test_train.head()\n",
    "new_dataset_validation.head()"
   ]
  },
  {
   "cell_type": "code",
   "execution_count": 15,
   "metadata": {
    "colab": {
     "base_uri": "https://localhost:8080/",
     "height": 224
    },
    "colab_type": "code",
    "executionInfo": {
     "elapsed": 8143,
     "status": "ok",
     "timestamp": 1565927043637,
     "user": {
      "displayName": "SAMUEL HERICLES SOUZA SILVEIRA UFC",
      "photoUrl": "",
      "userId": "12708602358479385648"
     },
     "user_tz": 180
    },
    "id": "6RBsTYt-r37D",
    "outputId": "f689e426-b300-4931-f34b-cd09ac50227d"
   },
   "outputs": [
    {
     "data": {
      "text/html": [
       "<div>\n",
       "<style scoped>\n",
       "    .dataframe tbody tr th:only-of-type {\n",
       "        vertical-align: middle;\n",
       "    }\n",
       "\n",
       "    .dataframe tbody tr th {\n",
       "        vertical-align: top;\n",
       "    }\n",
       "\n",
       "    .dataframe thead th {\n",
       "        text-align: right;\n",
       "    }\n",
       "</style>\n",
       "<table border=\"1\" class=\"dataframe\">\n",
       "  <thead>\n",
       "    <tr style=\"text-align: right;\">\n",
       "      <th></th>\n",
       "      <th>hora</th>\n",
       "      <th>temp_inst</th>\n",
       "      <th>umid_inst</th>\n",
       "      <th>pto_orvalho_inst</th>\n",
       "      <th>pressao</th>\n",
       "      <th>vento_rajada</th>\n",
       "      <th>radiacao</th>\n",
       "      <th>precipitacao</th>\n",
       "      <th>vento_vel</th>\n",
       "      <th>diff_temp</th>\n",
       "      <th>diff_umid</th>\n",
       "      <th>diff_dew</th>\n",
       "      <th>diff_pressure</th>\n",
       "      <th>diff_wind</th>\n",
       "    </tr>\n",
       "  </thead>\n",
       "  <tbody>\n",
       "    <tr>\n",
       "      <th>0</th>\n",
       "      <td>0</td>\n",
       "      <td>26.6</td>\n",
       "      <td>79</td>\n",
       "      <td>22.6</td>\n",
       "      <td>1009.9</td>\n",
       "      <td>4.8</td>\n",
       "      <td>-3.51</td>\n",
       "      <td>0.0</td>\n",
       "      <td>104</td>\n",
       "      <td>0.4</td>\n",
       "      <td>2</td>\n",
       "      <td>0.3</td>\n",
       "      <td>0.7</td>\n",
       "      <td>3.4</td>\n",
       "    </tr>\n",
       "    <tr>\n",
       "      <th>1</th>\n",
       "      <td>23</td>\n",
       "      <td>26.0</td>\n",
       "      <td>79</td>\n",
       "      <td>22.1</td>\n",
       "      <td>1010.0</td>\n",
       "      <td>4.2</td>\n",
       "      <td>-3.54</td>\n",
       "      <td>0.0</td>\n",
       "      <td>121</td>\n",
       "      <td>0.9</td>\n",
       "      <td>4</td>\n",
       "      <td>0.4</td>\n",
       "      <td>0.8</td>\n",
       "      <td>3.7</td>\n",
       "    </tr>\n",
       "    <tr>\n",
       "      <th>2</th>\n",
       "      <td>22</td>\n",
       "      <td>26.7</td>\n",
       "      <td>75</td>\n",
       "      <td>21.8</td>\n",
       "      <td>1009.2</td>\n",
       "      <td>5.5</td>\n",
       "      <td>-3.54</td>\n",
       "      <td>0.0</td>\n",
       "      <td>94</td>\n",
       "      <td>0.5</td>\n",
       "      <td>3</td>\n",
       "      <td>0.3</td>\n",
       "      <td>0.2</td>\n",
       "      <td>3.8</td>\n",
       "    </tr>\n",
       "    <tr>\n",
       "      <th>3</th>\n",
       "      <td>21</td>\n",
       "      <td>27.1</td>\n",
       "      <td>72</td>\n",
       "      <td>21.6</td>\n",
       "      <td>1009.0</td>\n",
       "      <td>6.9</td>\n",
       "      <td>70.21</td>\n",
       "      <td>0.0</td>\n",
       "      <td>91</td>\n",
       "      <td>1.2</td>\n",
       "      <td>6</td>\n",
       "      <td>0.4</td>\n",
       "      <td>0.6</td>\n",
       "      <td>4.8</td>\n",
       "    </tr>\n",
       "    <tr>\n",
       "      <th>4</th>\n",
       "      <td>20</td>\n",
       "      <td>28.1</td>\n",
       "      <td>66</td>\n",
       "      <td>21.2</td>\n",
       "      <td>1008.4</td>\n",
       "      <td>7.4</td>\n",
       "      <td>688.50</td>\n",
       "      <td>0.0</td>\n",
       "      <td>103</td>\n",
       "      <td>1.2</td>\n",
       "      <td>6</td>\n",
       "      <td>1.0</td>\n",
       "      <td>0.5</td>\n",
       "      <td>4.5</td>\n",
       "    </tr>\n",
       "  </tbody>\n",
       "</table>\n",
       "</div>"
      ],
      "text/plain": [
       "   hora  temp_inst  umid_inst  pto_orvalho_inst  pressao  vento_rajada  \\\n",
       "0     0       26.6         79              22.6   1009.9           4.8   \n",
       "1    23       26.0         79              22.1   1010.0           4.2   \n",
       "2    22       26.7         75              21.8   1009.2           5.5   \n",
       "3    21       27.1         72              21.6   1009.0           6.9   \n",
       "4    20       28.1         66              21.2   1008.4           7.4   \n",
       "\n",
       "   radiacao  precipitacao  vento_vel  diff_temp  diff_umid  diff_dew  \\\n",
       "0     -3.51           0.0        104        0.4          2       0.3   \n",
       "1     -3.54           0.0        121        0.9          4       0.4   \n",
       "2     -3.54           0.0         94        0.5          3       0.3   \n",
       "3     70.21           0.0         91        1.2          6       0.4   \n",
       "4    688.50           0.0        103        1.2          6       1.0   \n",
       "\n",
       "   diff_pressure  diff_wind  \n",
       "0            0.7        3.4  \n",
       "1            0.8        3.7  \n",
       "2            0.2        3.8  \n",
       "3            0.6        4.8  \n",
       "4            0.5        4.5  "
      ]
     },
     "execution_count": 15,
     "metadata": {},
     "output_type": "execute_result"
    }
   ],
   "source": [
    "new_dataset_test_train['diff_temp'] = diff_temp_test_train\n",
    "new_dataset_test_train['diff_umid'] = diff_umid_test_train\n",
    "new_dataset_test_train['diff_dew'] = diff_dew_test_train\n",
    "new_dataset_test_train['diff_pressure'] = diff_pressure_test_train\n",
    "new_dataset_test_train['diff_wind'] = diff_wind_test_train\n",
    "new_dataset_test_train.head()"
   ]
  },
  {
   "cell_type": "code",
   "execution_count": 16,
   "metadata": {
    "colab": {
     "base_uri": "https://localhost:8080/",
     "height": 224
    },
    "colab_type": "code",
    "executionInfo": {
     "elapsed": 8131,
     "status": "ok",
     "timestamp": 1565927043638,
     "user": {
      "displayName": "SAMUEL HERICLES SOUZA SILVEIRA UFC",
      "photoUrl": "",
      "userId": "12708602358479385648"
     },
     "user_tz": 180
    },
    "id": "Eldyt560gcI8",
    "outputId": "9ac1f3c2-538b-4b29-e718-120a02368c4b"
   },
   "outputs": [
    {
     "data": {
      "text/html": [
       "<div>\n",
       "<style scoped>\n",
       "    .dataframe tbody tr th:only-of-type {\n",
       "        vertical-align: middle;\n",
       "    }\n",
       "\n",
       "    .dataframe tbody tr th {\n",
       "        vertical-align: top;\n",
       "    }\n",
       "\n",
       "    .dataframe thead th {\n",
       "        text-align: right;\n",
       "    }\n",
       "</style>\n",
       "<table border=\"1\" class=\"dataframe\">\n",
       "  <thead>\n",
       "    <tr style=\"text-align: right;\">\n",
       "      <th></th>\n",
       "      <th>hora</th>\n",
       "      <th>temp_inst</th>\n",
       "      <th>umid_inst</th>\n",
       "      <th>pto_orvalho_inst</th>\n",
       "      <th>pressao</th>\n",
       "      <th>vento_rajada</th>\n",
       "      <th>radiacao</th>\n",
       "      <th>precipitacao</th>\n",
       "      <th>vento_vel</th>\n",
       "      <th>diff_temp</th>\n",
       "      <th>diff_umid</th>\n",
       "      <th>diff_dew</th>\n",
       "      <th>diff_pressure</th>\n",
       "      <th>diff_wind</th>\n",
       "    </tr>\n",
       "  </thead>\n",
       "  <tbody>\n",
       "    <tr>\n",
       "      <th>0</th>\n",
       "      <td>0</td>\n",
       "      <td>26.1</td>\n",
       "      <td>74</td>\n",
       "      <td>21.0</td>\n",
       "      <td>1011.9</td>\n",
       "      <td>7.6</td>\n",
       "      <td>-3.54</td>\n",
       "      <td>0.0</td>\n",
       "      <td>92</td>\n",
       "      <td>0.3</td>\n",
       "      <td>3</td>\n",
       "      <td>0.4</td>\n",
       "      <td>0.5</td>\n",
       "      <td>4.2</td>\n",
       "    </tr>\n",
       "    <tr>\n",
       "      <th>1</th>\n",
       "      <td>1</td>\n",
       "      <td>25.7</td>\n",
       "      <td>76</td>\n",
       "      <td>21.1</td>\n",
       "      <td>1012.1</td>\n",
       "      <td>7.5</td>\n",
       "      <td>-3.54</td>\n",
       "      <td>0.0</td>\n",
       "      <td>113</td>\n",
       "      <td>0.5</td>\n",
       "      <td>3</td>\n",
       "      <td>0.4</td>\n",
       "      <td>0.3</td>\n",
       "      <td>5.3</td>\n",
       "    </tr>\n",
       "    <tr>\n",
       "      <th>2</th>\n",
       "      <td>2</td>\n",
       "      <td>25.4</td>\n",
       "      <td>77</td>\n",
       "      <td>21.2</td>\n",
       "      <td>1012.0</td>\n",
       "      <td>6.1</td>\n",
       "      <td>-3.54</td>\n",
       "      <td>0.0</td>\n",
       "      <td>113</td>\n",
       "      <td>0.4</td>\n",
       "      <td>2</td>\n",
       "      <td>0.2</td>\n",
       "      <td>0.2</td>\n",
       "      <td>4.4</td>\n",
       "    </tr>\n",
       "    <tr>\n",
       "      <th>3</th>\n",
       "      <td>3</td>\n",
       "      <td>25.4</td>\n",
       "      <td>79</td>\n",
       "      <td>21.4</td>\n",
       "      <td>1011.5</td>\n",
       "      <td>4.8</td>\n",
       "      <td>-3.54</td>\n",
       "      <td>0.0</td>\n",
       "      <td>121</td>\n",
       "      <td>0.4</td>\n",
       "      <td>3</td>\n",
       "      <td>0.3</td>\n",
       "      <td>0.5</td>\n",
       "      <td>3.4</td>\n",
       "    </tr>\n",
       "    <tr>\n",
       "      <th>4</th>\n",
       "      <td>4</td>\n",
       "      <td>25.6</td>\n",
       "      <td>80</td>\n",
       "      <td>21.8</td>\n",
       "      <td>1010.9</td>\n",
       "      <td>4.9</td>\n",
       "      <td>-3.54</td>\n",
       "      <td>0.0</td>\n",
       "      <td>110</td>\n",
       "      <td>0.3</td>\n",
       "      <td>2</td>\n",
       "      <td>0.4</td>\n",
       "      <td>0.6</td>\n",
       "      <td>3.1</td>\n",
       "    </tr>\n",
       "  </tbody>\n",
       "</table>\n",
       "</div>"
      ],
      "text/plain": [
       "   hora  temp_inst  umid_inst  pto_orvalho_inst  pressao  vento_rajada  \\\n",
       "0     0       26.1         74              21.0   1011.9           7.6   \n",
       "1     1       25.7         76              21.1   1012.1           7.5   \n",
       "2     2       25.4         77              21.2   1012.0           6.1   \n",
       "3     3       25.4         79              21.4   1011.5           4.8   \n",
       "4     4       25.6         80              21.8   1010.9           4.9   \n",
       "\n",
       "   radiacao  precipitacao  vento_vel  diff_temp  diff_umid  diff_dew  \\\n",
       "0     -3.54           0.0         92        0.3          3       0.4   \n",
       "1     -3.54           0.0        113        0.5          3       0.4   \n",
       "2     -3.54           0.0        113        0.4          2       0.2   \n",
       "3     -3.54           0.0        121        0.4          3       0.3   \n",
       "4     -3.54           0.0        110        0.3          2       0.4   \n",
       "\n",
       "   diff_pressure  diff_wind  \n",
       "0            0.5        4.2  \n",
       "1            0.3        5.3  \n",
       "2            0.2        4.4  \n",
       "3            0.5        3.4  \n",
       "4            0.6        3.1  "
      ]
     },
     "execution_count": 16,
     "metadata": {},
     "output_type": "execute_result"
    }
   ],
   "source": [
    "new_dataset_validation['diff_temp'] = diff_temp_validation\n",
    "new_dataset_validation['diff_umid'] = diff_umid_validation\n",
    "new_dataset_validation['diff_dew'] = diff_dew_validation\n",
    "new_dataset_validation['diff_pressure'] = diff_pressure_validation\n",
    "new_dataset_validation['diff_wind'] = diff_wind_validation\n",
    "new_dataset_validation.head()"
   ]
  },
  {
   "cell_type": "code",
   "execution_count": 17,
   "metadata": {
    "colab": {
     "base_uri": "https://localhost:8080/",
     "height": 503
    },
    "colab_type": "code",
    "executionInfo": {
     "elapsed": 8118,
     "status": "ok",
     "timestamp": 1565927043639,
     "user": {
      "displayName": "SAMUEL HERICLES SOUZA SILVEIRA UFC",
      "photoUrl": "",
      "userId": "12708602358479385648"
     },
     "user_tz": 180
    },
    "id": "qlC5LAzWr37I",
    "outputId": "01ea13c3-f9e2-4666-d872-7037414becf9"
   },
   "outputs": [
    {
     "data": {
      "text/html": [
       "<div>\n",
       "<style scoped>\n",
       "    .dataframe tbody tr th:only-of-type {\n",
       "        vertical-align: middle;\n",
       "    }\n",
       "\n",
       "    .dataframe tbody tr th {\n",
       "        vertical-align: top;\n",
       "    }\n",
       "\n",
       "    .dataframe thead th {\n",
       "        text-align: right;\n",
       "    }\n",
       "</style>\n",
       "<table border=\"1\" class=\"dataframe\">\n",
       "  <thead>\n",
       "    <tr style=\"text-align: right;\">\n",
       "      <th></th>\n",
       "      <th>hora</th>\n",
       "      <th>temp_inst</th>\n",
       "      <th>umid_inst</th>\n",
       "      <th>pto_orvalho_inst</th>\n",
       "      <th>pressao</th>\n",
       "      <th>vento_rajada</th>\n",
       "      <th>radiacao</th>\n",
       "      <th>precipitacao</th>\n",
       "      <th>vento_vel</th>\n",
       "      <th>diff_temp</th>\n",
       "      <th>diff_umid</th>\n",
       "      <th>diff_dew</th>\n",
       "      <th>diff_pressure</th>\n",
       "      <th>diff_wind</th>\n",
       "    </tr>\n",
       "  </thead>\n",
       "  <tbody>\n",
       "    <tr>\n",
       "      <th>hora</th>\n",
       "      <td>1.000000</td>\n",
       "      <td>0.507792</td>\n",
       "      <td>-0.499000</td>\n",
       "      <td>-0.231222</td>\n",
       "      <td>-0.311503</td>\n",
       "      <td>0.460740</td>\n",
       "      <td>0.445773</td>\n",
       "      <td>-0.058740</td>\n",
       "      <td>-0.383448</td>\n",
       "      <td>0.344601</td>\n",
       "      <td>0.402681</td>\n",
       "      <td>0.406074</td>\n",
       "      <td>0.226158</td>\n",
       "      <td>0.393617</td>\n",
       "    </tr>\n",
       "    <tr>\n",
       "      <th>temp_inst</th>\n",
       "      <td>0.507792</td>\n",
       "      <td>1.000000</td>\n",
       "      <td>-0.917384</td>\n",
       "      <td>-0.358297</td>\n",
       "      <td>-0.181019</td>\n",
       "      <td>0.706147</td>\n",
       "      <td>0.856695</td>\n",
       "      <td>-0.207292</td>\n",
       "      <td>-0.508016</td>\n",
       "      <td>0.496841</td>\n",
       "      <td>0.520243</td>\n",
       "      <td>0.717208</td>\n",
       "      <td>0.246622</td>\n",
       "      <td>0.585331</td>\n",
       "    </tr>\n",
       "    <tr>\n",
       "      <th>umid_inst</th>\n",
       "      <td>-0.499000</td>\n",
       "      <td>-0.917384</td>\n",
       "      <td>1.000000</td>\n",
       "      <td>0.690023</td>\n",
       "      <td>0.121388</td>\n",
       "      <td>-0.749134</td>\n",
       "      <td>-0.869224</td>\n",
       "      <td>0.235411</td>\n",
       "      <td>0.406688</td>\n",
       "      <td>-0.508857</td>\n",
       "      <td>-0.543056</td>\n",
       "      <td>-0.731616</td>\n",
       "      <td>-0.221322</td>\n",
       "      <td>-0.614664</td>\n",
       "    </tr>\n",
       "    <tr>\n",
       "      <th>pto_orvalho_inst</th>\n",
       "      <td>-0.231222</td>\n",
       "      <td>-0.358297</td>\n",
       "      <td>0.690023</td>\n",
       "      <td>1.000000</td>\n",
       "      <td>-0.024330</td>\n",
       "      <td>-0.466777</td>\n",
       "      <td>-0.543500</td>\n",
       "      <td>0.127076</td>\n",
       "      <td>-0.019486</td>\n",
       "      <td>-0.290873</td>\n",
       "      <td>-0.300458</td>\n",
       "      <td>-0.458334</td>\n",
       "      <td>-0.115201</td>\n",
       "      <td>-0.372127</td>\n",
       "    </tr>\n",
       "    <tr>\n",
       "      <th>pressao</th>\n",
       "      <td>-0.311503</td>\n",
       "      <td>-0.181019</td>\n",
       "      <td>0.121388</td>\n",
       "      <td>-0.024330</td>\n",
       "      <td>1.000000</td>\n",
       "      <td>-0.117241</td>\n",
       "      <td>-0.099065</td>\n",
       "      <td>0.050652</td>\n",
       "      <td>0.237491</td>\n",
       "      <td>0.067601</td>\n",
       "      <td>0.018654</td>\n",
       "      <td>-0.080807</td>\n",
       "      <td>-0.034971</td>\n",
       "      <td>-0.097301</td>\n",
       "    </tr>\n",
       "    <tr>\n",
       "      <th>vento_rajada</th>\n",
       "      <td>0.460740</td>\n",
       "      <td>0.706147</td>\n",
       "      <td>-0.749134</td>\n",
       "      <td>-0.466777</td>\n",
       "      <td>-0.117241</td>\n",
       "      <td>1.000000</td>\n",
       "      <td>0.680531</td>\n",
       "      <td>0.022887</td>\n",
       "      <td>-0.473471</td>\n",
       "      <td>0.440998</td>\n",
       "      <td>0.484879</td>\n",
       "      <td>0.607353</td>\n",
       "      <td>0.213408</td>\n",
       "      <td>0.940019</td>\n",
       "    </tr>\n",
       "    <tr>\n",
       "      <th>radiacao</th>\n",
       "      <td>0.445773</td>\n",
       "      <td>0.856695</td>\n",
       "      <td>-0.869224</td>\n",
       "      <td>-0.543500</td>\n",
       "      <td>-0.099065</td>\n",
       "      <td>0.680531</td>\n",
       "      <td>1.000000</td>\n",
       "      <td>-0.106615</td>\n",
       "      <td>-0.203865</td>\n",
       "      <td>0.615958</td>\n",
       "      <td>0.571753</td>\n",
       "      <td>0.810578</td>\n",
       "      <td>0.277870</td>\n",
       "      <td>0.536751</td>\n",
       "    </tr>\n",
       "    <tr>\n",
       "      <th>precipitacao</th>\n",
       "      <td>-0.058740</td>\n",
       "      <td>-0.207292</td>\n",
       "      <td>0.235411</td>\n",
       "      <td>0.127076</td>\n",
       "      <td>0.050652</td>\n",
       "      <td>0.022887</td>\n",
       "      <td>-0.106615</td>\n",
       "      <td>1.000000</td>\n",
       "      <td>0.000217</td>\n",
       "      <td>-0.015019</td>\n",
       "      <td>-0.104961</td>\n",
       "      <td>-0.042898</td>\n",
       "      <td>0.113140</td>\n",
       "      <td>0.102715</td>\n",
       "    </tr>\n",
       "    <tr>\n",
       "      <th>vento_vel</th>\n",
       "      <td>-0.383448</td>\n",
       "      <td>-0.508016</td>\n",
       "      <td>0.406688</td>\n",
       "      <td>-0.019486</td>\n",
       "      <td>0.237491</td>\n",
       "      <td>-0.473471</td>\n",
       "      <td>-0.203865</td>\n",
       "      <td>0.000217</td>\n",
       "      <td>1.000000</td>\n",
       "      <td>-0.007007</td>\n",
       "      <td>-0.113203</td>\n",
       "      <td>-0.194993</td>\n",
       "      <td>-0.104964</td>\n",
       "      <td>-0.447528</td>\n",
       "    </tr>\n",
       "    <tr>\n",
       "      <th>diff_temp</th>\n",
       "      <td>0.344601</td>\n",
       "      <td>0.496841</td>\n",
       "      <td>-0.508857</td>\n",
       "      <td>-0.290873</td>\n",
       "      <td>0.067601</td>\n",
       "      <td>0.440998</td>\n",
       "      <td>0.615958</td>\n",
       "      <td>-0.015019</td>\n",
       "      <td>-0.007007</td>\n",
       "      <td>1.000000</td>\n",
       "      <td>0.836431</td>\n",
       "      <td>0.633721</td>\n",
       "      <td>0.187325</td>\n",
       "      <td>0.375049</td>\n",
       "    </tr>\n",
       "    <tr>\n",
       "      <th>diff_umid</th>\n",
       "      <td>0.402681</td>\n",
       "      <td>0.520243</td>\n",
       "      <td>-0.543056</td>\n",
       "      <td>-0.300458</td>\n",
       "      <td>0.018654</td>\n",
       "      <td>0.484879</td>\n",
       "      <td>0.571753</td>\n",
       "      <td>-0.104961</td>\n",
       "      <td>-0.113203</td>\n",
       "      <td>0.836431</td>\n",
       "      <td>1.000000</td>\n",
       "      <td>0.705808</td>\n",
       "      <td>0.149581</td>\n",
       "      <td>0.417173</td>\n",
       "    </tr>\n",
       "    <tr>\n",
       "      <th>diff_dew</th>\n",
       "      <td>0.406074</td>\n",
       "      <td>0.717208</td>\n",
       "      <td>-0.731616</td>\n",
       "      <td>-0.458334</td>\n",
       "      <td>-0.080807</td>\n",
       "      <td>0.607353</td>\n",
       "      <td>0.810578</td>\n",
       "      <td>-0.042898</td>\n",
       "      <td>-0.194993</td>\n",
       "      <td>0.633721</td>\n",
       "      <td>0.705808</td>\n",
       "      <td>1.000000</td>\n",
       "      <td>0.237121</td>\n",
       "      <td>0.506384</td>\n",
       "    </tr>\n",
       "    <tr>\n",
       "      <th>diff_pressure</th>\n",
       "      <td>0.226158</td>\n",
       "      <td>0.246622</td>\n",
       "      <td>-0.221322</td>\n",
       "      <td>-0.115201</td>\n",
       "      <td>-0.034971</td>\n",
       "      <td>0.213408</td>\n",
       "      <td>0.277870</td>\n",
       "      <td>0.113140</td>\n",
       "      <td>-0.104964</td>\n",
       "      <td>0.187325</td>\n",
       "      <td>0.149581</td>\n",
       "      <td>0.237121</td>\n",
       "      <td>1.000000</td>\n",
       "      <td>0.178830</td>\n",
       "    </tr>\n",
       "    <tr>\n",
       "      <th>diff_wind</th>\n",
       "      <td>0.393617</td>\n",
       "      <td>0.585331</td>\n",
       "      <td>-0.614664</td>\n",
       "      <td>-0.372127</td>\n",
       "      <td>-0.097301</td>\n",
       "      <td>0.940019</td>\n",
       "      <td>0.536751</td>\n",
       "      <td>0.102715</td>\n",
       "      <td>-0.447528</td>\n",
       "      <td>0.375049</td>\n",
       "      <td>0.417173</td>\n",
       "      <td>0.506384</td>\n",
       "      <td>0.178830</td>\n",
       "      <td>1.000000</td>\n",
       "    </tr>\n",
       "  </tbody>\n",
       "</table>\n",
       "</div>"
      ],
      "text/plain": [
       "                      hora  temp_inst  umid_inst  pto_orvalho_inst   pressao  \\\n",
       "hora              1.000000   0.507792  -0.499000         -0.231222 -0.311503   \n",
       "temp_inst         0.507792   1.000000  -0.917384         -0.358297 -0.181019   \n",
       "umid_inst        -0.499000  -0.917384   1.000000          0.690023  0.121388   \n",
       "pto_orvalho_inst -0.231222  -0.358297   0.690023          1.000000 -0.024330   \n",
       "pressao          -0.311503  -0.181019   0.121388         -0.024330  1.000000   \n",
       "vento_rajada      0.460740   0.706147  -0.749134         -0.466777 -0.117241   \n",
       "radiacao          0.445773   0.856695  -0.869224         -0.543500 -0.099065   \n",
       "precipitacao     -0.058740  -0.207292   0.235411          0.127076  0.050652   \n",
       "vento_vel        -0.383448  -0.508016   0.406688         -0.019486  0.237491   \n",
       "diff_temp         0.344601   0.496841  -0.508857         -0.290873  0.067601   \n",
       "diff_umid         0.402681   0.520243  -0.543056         -0.300458  0.018654   \n",
       "diff_dew          0.406074   0.717208  -0.731616         -0.458334 -0.080807   \n",
       "diff_pressure     0.226158   0.246622  -0.221322         -0.115201 -0.034971   \n",
       "diff_wind         0.393617   0.585331  -0.614664         -0.372127 -0.097301   \n",
       "\n",
       "                  vento_rajada  radiacao  precipitacao  vento_vel  diff_temp  \\\n",
       "hora                  0.460740  0.445773     -0.058740  -0.383448   0.344601   \n",
       "temp_inst             0.706147  0.856695     -0.207292  -0.508016   0.496841   \n",
       "umid_inst            -0.749134 -0.869224      0.235411   0.406688  -0.508857   \n",
       "pto_orvalho_inst     -0.466777 -0.543500      0.127076  -0.019486  -0.290873   \n",
       "pressao              -0.117241 -0.099065      0.050652   0.237491   0.067601   \n",
       "vento_rajada          1.000000  0.680531      0.022887  -0.473471   0.440998   \n",
       "radiacao              0.680531  1.000000     -0.106615  -0.203865   0.615958   \n",
       "precipitacao          0.022887 -0.106615      1.000000   0.000217  -0.015019   \n",
       "vento_vel            -0.473471 -0.203865      0.000217   1.000000  -0.007007   \n",
       "diff_temp             0.440998  0.615958     -0.015019  -0.007007   1.000000   \n",
       "diff_umid             0.484879  0.571753     -0.104961  -0.113203   0.836431   \n",
       "diff_dew              0.607353  0.810578     -0.042898  -0.194993   0.633721   \n",
       "diff_pressure         0.213408  0.277870      0.113140  -0.104964   0.187325   \n",
       "diff_wind             0.940019  0.536751      0.102715  -0.447528   0.375049   \n",
       "\n",
       "                  diff_umid  diff_dew  diff_pressure  diff_wind  \n",
       "hora               0.402681  0.406074       0.226158   0.393617  \n",
       "temp_inst          0.520243  0.717208       0.246622   0.585331  \n",
       "umid_inst         -0.543056 -0.731616      -0.221322  -0.614664  \n",
       "pto_orvalho_inst  -0.300458 -0.458334      -0.115201  -0.372127  \n",
       "pressao            0.018654 -0.080807      -0.034971  -0.097301  \n",
       "vento_rajada       0.484879  0.607353       0.213408   0.940019  \n",
       "radiacao           0.571753  0.810578       0.277870   0.536751  \n",
       "precipitacao      -0.104961 -0.042898       0.113140   0.102715  \n",
       "vento_vel         -0.113203 -0.194993      -0.104964  -0.447528  \n",
       "diff_temp          0.836431  0.633721       0.187325   0.375049  \n",
       "diff_umid          1.000000  0.705808       0.149581   0.417173  \n",
       "diff_dew           0.705808  1.000000       0.237121   0.506384  \n",
       "diff_pressure      0.149581  0.237121       1.000000   0.178830  \n",
       "diff_wind          0.417173  0.506384       0.178830   1.000000  "
      ]
     },
     "execution_count": 17,
     "metadata": {},
     "output_type": "execute_result"
    }
   ],
   "source": [
    "#To analyse correlation pearson\n",
    "new_dataset_test_train.corr()"
   ]
  },
  {
   "cell_type": "code",
   "execution_count": 18,
   "metadata": {
    "colab": {
     "base_uri": "https://localhost:8080/",
     "height": 503
    },
    "colab_type": "code",
    "executionInfo": {
     "elapsed": 8464,
     "status": "ok",
     "timestamp": 1565927043996,
     "user": {
      "displayName": "SAMUEL HERICLES SOUZA SILVEIRA UFC",
      "photoUrl": "",
      "userId": "12708602358479385648"
     },
     "user_tz": 180
    },
    "id": "oiEWicRVgn6Y",
    "outputId": "cee901b4-d4ab-47c6-ef10-6b230377bc85"
   },
   "outputs": [
    {
     "data": {
      "text/html": [
       "<div>\n",
       "<style scoped>\n",
       "    .dataframe tbody tr th:only-of-type {\n",
       "        vertical-align: middle;\n",
       "    }\n",
       "\n",
       "    .dataframe tbody tr th {\n",
       "        vertical-align: top;\n",
       "    }\n",
       "\n",
       "    .dataframe thead th {\n",
       "        text-align: right;\n",
       "    }\n",
       "</style>\n",
       "<table border=\"1\" class=\"dataframe\">\n",
       "  <thead>\n",
       "    <tr style=\"text-align: right;\">\n",
       "      <th></th>\n",
       "      <th>hora</th>\n",
       "      <th>temp_inst</th>\n",
       "      <th>umid_inst</th>\n",
       "      <th>pto_orvalho_inst</th>\n",
       "      <th>pressao</th>\n",
       "      <th>vento_rajada</th>\n",
       "      <th>radiacao</th>\n",
       "      <th>precipitacao</th>\n",
       "      <th>vento_vel</th>\n",
       "      <th>diff_temp</th>\n",
       "      <th>diff_umid</th>\n",
       "      <th>diff_dew</th>\n",
       "      <th>diff_pressure</th>\n",
       "      <th>diff_wind</th>\n",
       "    </tr>\n",
       "  </thead>\n",
       "  <tbody>\n",
       "    <tr>\n",
       "      <th>hora</th>\n",
       "      <td>1.000000</td>\n",
       "      <td>0.443575</td>\n",
       "      <td>-0.415249</td>\n",
       "      <td>-0.164958</td>\n",
       "      <td>-0.332362</td>\n",
       "      <td>0.436464</td>\n",
       "      <td>0.456150</td>\n",
       "      <td>-0.018892</td>\n",
       "      <td>-0.333586</td>\n",
       "      <td>0.381380</td>\n",
       "      <td>0.395807</td>\n",
       "      <td>0.440572</td>\n",
       "      <td>0.291162</td>\n",
       "      <td>0.353828</td>\n",
       "    </tr>\n",
       "    <tr>\n",
       "      <th>temp_inst</th>\n",
       "      <td>0.443575</td>\n",
       "      <td>1.000000</td>\n",
       "      <td>-0.868662</td>\n",
       "      <td>-0.280315</td>\n",
       "      <td>-0.311483</td>\n",
       "      <td>0.700275</td>\n",
       "      <td>0.856467</td>\n",
       "      <td>-0.106127</td>\n",
       "      <td>-0.536908</td>\n",
       "      <td>0.421792</td>\n",
       "      <td>0.321619</td>\n",
       "      <td>0.664086</td>\n",
       "      <td>0.364401</td>\n",
       "      <td>0.555723</td>\n",
       "    </tr>\n",
       "    <tr>\n",
       "      <th>umid_inst</th>\n",
       "      <td>-0.415249</td>\n",
       "      <td>-0.868662</td>\n",
       "      <td>1.000000</td>\n",
       "      <td>0.708459</td>\n",
       "      <td>0.129739</td>\n",
       "      <td>-0.679500</td>\n",
       "      <td>-0.881525</td>\n",
       "      <td>0.138423</td>\n",
       "      <td>0.270405</td>\n",
       "      <td>-0.508628</td>\n",
       "      <td>-0.386531</td>\n",
       "      <td>-0.723896</td>\n",
       "      <td>-0.327107</td>\n",
       "      <td>-0.519400</td>\n",
       "    </tr>\n",
       "    <tr>\n",
       "      <th>pto_orvalho_inst</th>\n",
       "      <td>-0.164958</td>\n",
       "      <td>-0.280315</td>\n",
       "      <td>0.708459</td>\n",
       "      <td>1.000000</td>\n",
       "      <td>-0.200796</td>\n",
       "      <td>-0.299358</td>\n",
       "      <td>-0.529947</td>\n",
       "      <td>0.082295</td>\n",
       "      <td>-0.262352</td>\n",
       "      <td>-0.383693</td>\n",
       "      <td>-0.280685</td>\n",
       "      <td>-0.491843</td>\n",
       "      <td>-0.164587</td>\n",
       "      <td>-0.203058</td>\n",
       "    </tr>\n",
       "    <tr>\n",
       "      <th>pressao</th>\n",
       "      <td>-0.332362</td>\n",
       "      <td>-0.311483</td>\n",
       "      <td>0.129739</td>\n",
       "      <td>-0.200796</td>\n",
       "      <td>1.000000</td>\n",
       "      <td>-0.115842</td>\n",
       "      <td>-0.127220</td>\n",
       "      <td>-0.021248</td>\n",
       "      <td>0.451305</td>\n",
       "      <td>0.100566</td>\n",
       "      <td>0.090883</td>\n",
       "      <td>-0.055650</td>\n",
       "      <td>-0.066916</td>\n",
       "      <td>-0.044718</td>\n",
       "    </tr>\n",
       "    <tr>\n",
       "      <th>vento_rajada</th>\n",
       "      <td>0.436464</td>\n",
       "      <td>0.700275</td>\n",
       "      <td>-0.679500</td>\n",
       "      <td>-0.299358</td>\n",
       "      <td>-0.115842</td>\n",
       "      <td>1.000000</td>\n",
       "      <td>0.676290</td>\n",
       "      <td>0.023830</td>\n",
       "      <td>-0.422934</td>\n",
       "      <td>0.508118</td>\n",
       "      <td>0.482436</td>\n",
       "      <td>0.619313</td>\n",
       "      <td>0.210061</td>\n",
       "      <td>0.929033</td>\n",
       "    </tr>\n",
       "    <tr>\n",
       "      <th>radiacao</th>\n",
       "      <td>0.456150</td>\n",
       "      <td>0.856467</td>\n",
       "      <td>-0.881525</td>\n",
       "      <td>-0.529947</td>\n",
       "      <td>-0.127220</td>\n",
       "      <td>0.676290</td>\n",
       "      <td>1.000000</td>\n",
       "      <td>-0.044308</td>\n",
       "      <td>-0.201685</td>\n",
       "      <td>0.650438</td>\n",
       "      <td>0.513616</td>\n",
       "      <td>0.803787</td>\n",
       "      <td>0.375135</td>\n",
       "      <td>0.523856</td>\n",
       "    </tr>\n",
       "    <tr>\n",
       "      <th>precipitacao</th>\n",
       "      <td>-0.018892</td>\n",
       "      <td>-0.106127</td>\n",
       "      <td>0.138423</td>\n",
       "      <td>0.082295</td>\n",
       "      <td>-0.021248</td>\n",
       "      <td>0.023830</td>\n",
       "      <td>-0.044308</td>\n",
       "      <td>1.000000</td>\n",
       "      <td>0.055442</td>\n",
       "      <td>0.113055</td>\n",
       "      <td>0.093089</td>\n",
       "      <td>0.001347</td>\n",
       "      <td>-0.010548</td>\n",
       "      <td>0.038182</td>\n",
       "    </tr>\n",
       "    <tr>\n",
       "      <th>vento_vel</th>\n",
       "      <td>-0.333586</td>\n",
       "      <td>-0.536908</td>\n",
       "      <td>0.270405</td>\n",
       "      <td>-0.262352</td>\n",
       "      <td>0.451305</td>\n",
       "      <td>-0.422934</td>\n",
       "      <td>-0.201685</td>\n",
       "      <td>0.055442</td>\n",
       "      <td>1.000000</td>\n",
       "      <td>0.096159</td>\n",
       "      <td>-0.002169</td>\n",
       "      <td>-0.215925</td>\n",
       "      <td>-0.193746</td>\n",
       "      <td>-0.340701</td>\n",
       "    </tr>\n",
       "    <tr>\n",
       "      <th>diff_temp</th>\n",
       "      <td>0.381380</td>\n",
       "      <td>0.421792</td>\n",
       "      <td>-0.508628</td>\n",
       "      <td>-0.383693</td>\n",
       "      <td>0.100566</td>\n",
       "      <td>0.508118</td>\n",
       "      <td>0.650438</td>\n",
       "      <td>0.113055</td>\n",
       "      <td>0.096159</td>\n",
       "      <td>1.000000</td>\n",
       "      <td>0.846010</td>\n",
       "      <td>0.607159</td>\n",
       "      <td>0.167793</td>\n",
       "      <td>0.469766</td>\n",
       "    </tr>\n",
       "    <tr>\n",
       "      <th>diff_umid</th>\n",
       "      <td>0.395807</td>\n",
       "      <td>0.321619</td>\n",
       "      <td>-0.386531</td>\n",
       "      <td>-0.280685</td>\n",
       "      <td>0.090883</td>\n",
       "      <td>0.482436</td>\n",
       "      <td>0.513616</td>\n",
       "      <td>0.093089</td>\n",
       "      <td>-0.002169</td>\n",
       "      <td>0.846010</td>\n",
       "      <td>1.000000</td>\n",
       "      <td>0.678036</td>\n",
       "      <td>0.140050</td>\n",
       "      <td>0.452291</td>\n",
       "    </tr>\n",
       "    <tr>\n",
       "      <th>diff_dew</th>\n",
       "      <td>0.440572</td>\n",
       "      <td>0.664086</td>\n",
       "      <td>-0.723896</td>\n",
       "      <td>-0.491843</td>\n",
       "      <td>-0.055650</td>\n",
       "      <td>0.619313</td>\n",
       "      <td>0.803787</td>\n",
       "      <td>0.001347</td>\n",
       "      <td>-0.215925</td>\n",
       "      <td>0.607159</td>\n",
       "      <td>0.678036</td>\n",
       "      <td>1.000000</td>\n",
       "      <td>0.315130</td>\n",
       "      <td>0.510390</td>\n",
       "    </tr>\n",
       "    <tr>\n",
       "      <th>diff_pressure</th>\n",
       "      <td>0.291162</td>\n",
       "      <td>0.364401</td>\n",
       "      <td>-0.327107</td>\n",
       "      <td>-0.164587</td>\n",
       "      <td>-0.066916</td>\n",
       "      <td>0.210061</td>\n",
       "      <td>0.375135</td>\n",
       "      <td>-0.010548</td>\n",
       "      <td>-0.193746</td>\n",
       "      <td>0.167793</td>\n",
       "      <td>0.140050</td>\n",
       "      <td>0.315130</td>\n",
       "      <td>1.000000</td>\n",
       "      <td>0.157993</td>\n",
       "    </tr>\n",
       "    <tr>\n",
       "      <th>diff_wind</th>\n",
       "      <td>0.353828</td>\n",
       "      <td>0.555723</td>\n",
       "      <td>-0.519400</td>\n",
       "      <td>-0.203058</td>\n",
       "      <td>-0.044718</td>\n",
       "      <td>0.929033</td>\n",
       "      <td>0.523856</td>\n",
       "      <td>0.038182</td>\n",
       "      <td>-0.340701</td>\n",
       "      <td>0.469766</td>\n",
       "      <td>0.452291</td>\n",
       "      <td>0.510390</td>\n",
       "      <td>0.157993</td>\n",
       "      <td>1.000000</td>\n",
       "    </tr>\n",
       "  </tbody>\n",
       "</table>\n",
       "</div>"
      ],
      "text/plain": [
       "                      hora  temp_inst  umid_inst  pto_orvalho_inst   pressao  \\\n",
       "hora              1.000000   0.443575  -0.415249         -0.164958 -0.332362   \n",
       "temp_inst         0.443575   1.000000  -0.868662         -0.280315 -0.311483   \n",
       "umid_inst        -0.415249  -0.868662   1.000000          0.708459  0.129739   \n",
       "pto_orvalho_inst -0.164958  -0.280315   0.708459          1.000000 -0.200796   \n",
       "pressao          -0.332362  -0.311483   0.129739         -0.200796  1.000000   \n",
       "vento_rajada      0.436464   0.700275  -0.679500         -0.299358 -0.115842   \n",
       "radiacao          0.456150   0.856467  -0.881525         -0.529947 -0.127220   \n",
       "precipitacao     -0.018892  -0.106127   0.138423          0.082295 -0.021248   \n",
       "vento_vel        -0.333586  -0.536908   0.270405         -0.262352  0.451305   \n",
       "diff_temp         0.381380   0.421792  -0.508628         -0.383693  0.100566   \n",
       "diff_umid         0.395807   0.321619  -0.386531         -0.280685  0.090883   \n",
       "diff_dew          0.440572   0.664086  -0.723896         -0.491843 -0.055650   \n",
       "diff_pressure     0.291162   0.364401  -0.327107         -0.164587 -0.066916   \n",
       "diff_wind         0.353828   0.555723  -0.519400         -0.203058 -0.044718   \n",
       "\n",
       "                  vento_rajada  radiacao  precipitacao  vento_vel  diff_temp  \\\n",
       "hora                  0.436464  0.456150     -0.018892  -0.333586   0.381380   \n",
       "temp_inst             0.700275  0.856467     -0.106127  -0.536908   0.421792   \n",
       "umid_inst            -0.679500 -0.881525      0.138423   0.270405  -0.508628   \n",
       "pto_orvalho_inst     -0.299358 -0.529947      0.082295  -0.262352  -0.383693   \n",
       "pressao              -0.115842 -0.127220     -0.021248   0.451305   0.100566   \n",
       "vento_rajada          1.000000  0.676290      0.023830  -0.422934   0.508118   \n",
       "radiacao              0.676290  1.000000     -0.044308  -0.201685   0.650438   \n",
       "precipitacao          0.023830 -0.044308      1.000000   0.055442   0.113055   \n",
       "vento_vel            -0.422934 -0.201685      0.055442   1.000000   0.096159   \n",
       "diff_temp             0.508118  0.650438      0.113055   0.096159   1.000000   \n",
       "diff_umid             0.482436  0.513616      0.093089  -0.002169   0.846010   \n",
       "diff_dew              0.619313  0.803787      0.001347  -0.215925   0.607159   \n",
       "diff_pressure         0.210061  0.375135     -0.010548  -0.193746   0.167793   \n",
       "diff_wind             0.929033  0.523856      0.038182  -0.340701   0.469766   \n",
       "\n",
       "                  diff_umid  diff_dew  diff_pressure  diff_wind  \n",
       "hora               0.395807  0.440572       0.291162   0.353828  \n",
       "temp_inst          0.321619  0.664086       0.364401   0.555723  \n",
       "umid_inst         -0.386531 -0.723896      -0.327107  -0.519400  \n",
       "pto_orvalho_inst  -0.280685 -0.491843      -0.164587  -0.203058  \n",
       "pressao            0.090883 -0.055650      -0.066916  -0.044718  \n",
       "vento_rajada       0.482436  0.619313       0.210061   0.929033  \n",
       "radiacao           0.513616  0.803787       0.375135   0.523856  \n",
       "precipitacao       0.093089  0.001347      -0.010548   0.038182  \n",
       "vento_vel         -0.002169 -0.215925      -0.193746  -0.340701  \n",
       "diff_temp          0.846010  0.607159       0.167793   0.469766  \n",
       "diff_umid          1.000000  0.678036       0.140050   0.452291  \n",
       "diff_dew           0.678036  1.000000       0.315130   0.510390  \n",
       "diff_pressure      0.140050  0.315130       1.000000   0.157993  \n",
       "diff_wind          0.452291  0.510390       0.157993   1.000000  "
      ]
     },
     "execution_count": 18,
     "metadata": {},
     "output_type": "execute_result"
    }
   ],
   "source": [
    "#To analyse correlation pearson\n",
    "new_dataset_validation.corr()"
   ]
  },
  {
   "cell_type": "code",
   "execution_count": 19,
   "metadata": {
    "colab": {
     "base_uri": "https://localhost:8080/",
     "height": 302
    },
    "colab_type": "code",
    "executionInfo": {
     "elapsed": 8454,
     "status": "ok",
     "timestamp": 1565927043998,
     "user": {
      "displayName": "SAMUEL HERICLES SOUZA SILVEIRA UFC",
      "photoUrl": "",
      "userId": "12708602358479385648"
     },
     "user_tz": 180
    },
    "id": "RFdUdkZIgvfU",
    "outputId": "a06eea73-caf5-406c-aff0-bcda55e7b323"
   },
   "outputs": [
    {
     "data": {
      "text/plain": [
       "hora               -0.383448\n",
       "temp_inst          -0.508016\n",
       "umid_inst           0.406688\n",
       "pto_orvalho_inst   -0.019486\n",
       "pressao             0.237491\n",
       "vento_rajada       -0.473471\n",
       "radiacao           -0.203865\n",
       "precipitacao        0.000217\n",
       "vento_vel           1.000000\n",
       "diff_temp          -0.007007\n",
       "diff_umid          -0.113203\n",
       "diff_dew           -0.194993\n",
       "diff_pressure      -0.104964\n",
       "diff_wind          -0.447528\n",
       "Name: vento_vel, dtype: float64"
      ]
     },
     "execution_count": 19,
     "metadata": {},
     "output_type": "execute_result"
    }
   ],
   "source": [
    "new_dataset_test_train.corr()[\"vento_vel\"]"
   ]
  },
  {
   "cell_type": "code",
   "execution_count": 20,
   "metadata": {
    "colab": {
     "base_uri": "https://localhost:8080/",
     "height": 302
    },
    "colab_type": "code",
    "executionInfo": {
     "elapsed": 8443,
     "status": "ok",
     "timestamp": 1565927043999,
     "user": {
      "displayName": "SAMUEL HERICLES SOUZA SILVEIRA UFC",
      "photoUrl": "",
      "userId": "12708602358479385648"
     },
     "user_tz": 180
    },
    "id": "SzcsMc3Er37M",
    "outputId": "b5468060-6152-419d-fdf8-29816ed68088"
   },
   "outputs": [
    {
     "data": {
      "text/plain": [
       "hora               -0.333586\n",
       "temp_inst          -0.536908\n",
       "umid_inst           0.270405\n",
       "pto_orvalho_inst   -0.262352\n",
       "pressao             0.451305\n",
       "vento_rajada       -0.422934\n",
       "radiacao           -0.201685\n",
       "precipitacao        0.055442\n",
       "vento_vel           1.000000\n",
       "diff_temp           0.096159\n",
       "diff_umid          -0.002169\n",
       "diff_dew           -0.215925\n",
       "diff_pressure      -0.193746\n",
       "diff_wind          -0.340701\n",
       "Name: vento_vel, dtype: float64"
      ]
     },
     "execution_count": 20,
     "metadata": {},
     "output_type": "execute_result"
    }
   ],
   "source": [
    "new_dataset_validation.corr()[\"vento_vel\"]"
   ]
  },
  {
   "cell_type": "markdown",
   "metadata": {
    "colab_type": "text",
    "id": "btirNa6Zr37R"
   },
   "source": [
    "# Divide train, test and validation datasets"
   ]
  },
  {
   "cell_type": "code",
   "execution_count": 21,
   "metadata": {
    "colab": {
     "base_uri": "https://localhost:8080/",
     "height": 93
    },
    "colab_type": "code",
    "executionInfo": {
     "elapsed": 734,
     "status": "ok",
     "timestamp": 1565927058674,
     "user": {
      "displayName": "SAMUEL HERICLES SOUZA SILVEIRA UFC",
      "photoUrl": "",
      "userId": "12708602358479385648"
     },
     "user_tz": 180
    },
    "id": "J3jedgxlr37T",
    "outputId": "a2b54a89-9be7-4ea8-bf7f-2c64c51d36fb"
   },
   "outputs": [
    {
     "name": "stdout",
     "output_type": "stream",
     "text": [
      "X:(1464, 5)\n",
      "Y:(1464, 1)\n",
      "x_validation:(364, 5)\n",
      "y_validation:(364, 1)\n"
     ]
    }
   ],
   "source": [
    "#x = set_test_train[['hora','temp_inst','umid_inst','pto_orvalho_inst','pressao','vento_rajada','radiacao','precipitacao','diff_temp','diff_umid','diff_dew','diff_pressure','diff_wind']]\n",
    "x = new_dataset_test_train[['hora','temp_inst','umid_inst','vento_rajada','diff_wind']]\n",
    "y = new_dataset_test_train[['vento_vel']]\n",
    "\n",
    "x_validation = new_dataset_validation[['hora','temp_inst','umid_inst','vento_rajada','diff_wind']]\n",
    "y_validation = new_dataset_validation[['vento_vel']]\n",
    "\n",
    "print('X:{}'.format(x.shape))\n",
    "print('Y:{}'.format(y.shape))\n",
    "print('x_validation:{}'.format(x_validation.shape))\n",
    "print('y_validation:{}'.format(y_validation.shape))\n",
    "\n"
   ]
  },
  {
   "cell_type": "code",
   "execution_count": 22,
   "metadata": {
    "colab": {},
    "colab_type": "code",
    "id": "l4T6QB56r37Y"
   },
   "outputs": [],
   "source": [
    "train_x,test_x,train_y,test_y = train_test_split(x,y,test_size=0.2)"
   ]
  },
  {
   "cell_type": "markdown",
   "metadata": {
    "colab_type": "text",
    "id": "dfEgELK_r37f"
   },
   "source": [
    "#  Apllying MLPRegressor"
   ]
  },
  {
   "cell_type": "code",
   "execution_count": 23,
   "metadata": {
    "colab": {},
    "colab_type": "code",
    "id": "qH3lY0c8r37h"
   },
   "outputs": [],
   "source": [
    "def test_mlp(i,j):\n",
    "    warnings.filterwarnings('ignore')\n",
    "    MLP_reg = MLPRegressor(hidden_layer_sizes = (i*30,j*30), activation='tanh',\n",
    "                      verbose=False, warm_start=False,\n",
    "                      max_iter = 300)\n",
    "    \n",
    "    MLP_reg.fit(train_x,train_y)#Kernel default : RBF \n",
    "    predicts = MLP_reg.predict(test_x)\n",
    "    rmse = mean_squared_error(test_y,predicts)\n",
    "    score_r2 = r2_score(test_y,predicts)\n",
    "\n",
    "    predicts_validation = MLP_reg.predict(x_validation)\n",
    "    validation_rmse = mean_squared_error(y_validation,predicts_validation)\n",
    "    validation_score_r2 = r2_score(y_validation,predicts_validation)\n",
    "\n",
    "\n",
    "    return i*25,j*25,rmse,validation_rmse,score_r2,validation_score_r2\n"
   ]
  },
  {
   "cell_type": "code",
   "execution_count": 24,
   "metadata": {
    "colab": {
     "base_uri": "https://localhost:8080/",
     "height": 49
    },
    "colab_type": "code",
    "executionInfo": {
     "elapsed": 744,
     "status": "ok",
     "timestamp": 1565927069725,
     "user": {
      "displayName": "SAMUEL HERICLES SOUZA SILVEIRA UFC",
      "photoUrl": "",
      "userId": "12708602358479385648"
     },
     "user_tz": 180
    },
    "id": "wmygToOX0s37",
    "outputId": "9c6eae46-cf7a-44b6-ef31-2cd0c6807365"
   },
   "outputs": [
    {
     "data": {
      "text/html": [
       "<div>\n",
       "<style scoped>\n",
       "    .dataframe tbody tr th:only-of-type {\n",
       "        vertical-align: middle;\n",
       "    }\n",
       "\n",
       "    .dataframe tbody tr th {\n",
       "        vertical-align: top;\n",
       "    }\n",
       "\n",
       "    .dataframe thead th {\n",
       "        text-align: right;\n",
       "    }\n",
       "</style>\n",
       "<table border=\"1\" class=\"dataframe\">\n",
       "  <thead>\n",
       "    <tr style=\"text-align: right;\">\n",
       "      <th></th>\n",
       "      <th>i</th>\n",
       "      <th>j</th>\n",
       "      <th>RMSE_test</th>\n",
       "      <th>RMSE_validation</th>\n",
       "      <th>R2_test</th>\n",
       "      <th>R2_validation</th>\n",
       "    </tr>\n",
       "  </thead>\n",
       "  <tbody>\n",
       "  </tbody>\n",
       "</table>\n",
       "</div>"
      ],
      "text/plain": [
       "Empty DataFrame\n",
       "Columns: [i, j, RMSE_test, RMSE_validation, R2_test, R2_validation]\n",
       "Index: []"
      ]
     },
     "execution_count": 24,
     "metadata": {},
     "output_type": "execute_result"
    }
   ],
   "source": [
    "values = pd.DataFrame(columns=['i','j','RMSE_test','RMSE_validation','R2_test','R2_validation'])\n",
    "values.head()"
   ]
  },
  {
   "cell_type": "code",
   "execution_count": 25,
   "metadata": {
    "colab": {
     "base_uri": "https://localhost:8080/",
     "height": 80
    },
    "colab_type": "code",
    "executionInfo": {
     "elapsed": 2571,
     "status": "ok",
     "timestamp": 1565927073696,
     "user": {
      "displayName": "SAMUEL HERICLES SOUZA SILVEIRA UFC",
      "photoUrl": "",
      "userId": "12708602358479385648"
     },
     "user_tz": 180
    },
    "id": "isRj0l5czji_",
    "outputId": "7d46cfcb-0c25-4f5f-df8f-cb981c556e6c"
   },
   "outputs": [
    {
     "data": {
      "text/html": [
       "<div>\n",
       "<style scoped>\n",
       "    .dataframe tbody tr th:only-of-type {\n",
       "        vertical-align: middle;\n",
       "    }\n",
       "\n",
       "    .dataframe tbody tr th {\n",
       "        vertical-align: top;\n",
       "    }\n",
       "\n",
       "    .dataframe thead th {\n",
       "        text-align: right;\n",
       "    }\n",
       "</style>\n",
       "<table border=\"1\" class=\"dataframe\">\n",
       "  <thead>\n",
       "    <tr style=\"text-align: right;\">\n",
       "      <th></th>\n",
       "      <th>i</th>\n",
       "      <th>j</th>\n",
       "      <th>RMSE_test</th>\n",
       "      <th>RMSE_validation</th>\n",
       "      <th>R2_test</th>\n",
       "      <th>R2_validation</th>\n",
       "    </tr>\n",
       "  </thead>\n",
       "  <tbody>\n",
       "    <tr>\n",
       "      <th>0</th>\n",
       "      <td>25.0</td>\n",
       "      <td>25.0</td>\n",
       "      <td>6844.23549</td>\n",
       "      <td>5664.212096</td>\n",
       "      <td>-6.200166</td>\n",
       "      <td>-6.968408</td>\n",
       "    </tr>\n",
       "  </tbody>\n",
       "</table>\n",
       "</div>"
      ],
      "text/plain": [
       "      i     j   RMSE_test  RMSE_validation   R2_test  R2_validation\n",
       "0  25.0  25.0  6844.23549      5664.212096 -6.200166      -6.968408"
      ]
     },
     "execution_count": 25,
     "metadata": {},
     "output_type": "execute_result"
    }
   ],
   "source": [
    "values.loc[0] = test_mlp(1,1)\n",
    "values"
   ]
  },
  {
   "cell_type": "code",
   "execution_count": null,
   "metadata": {
    "colab": {
     "base_uri": "https://localhost:8080/",
     "height": 1000
    },
    "colab_type": "code",
    "executionInfo": {
     "elapsed": 3502276,
     "status": "ok",
     "timestamp": 1565930580861,
     "user": {
      "displayName": "SAMUEL HERICLES SOUZA SILVEIRA UFC",
      "photoUrl": "",
      "userId": "12708602358479385648"
     },
     "user_tz": 180
    },
    "id": "oGkqSzBrr37o",
    "outputId": "6a72aa6b-5b55-4a32-9dc5-8c877b2e4c44"
   },
   "outputs": [
    {
     "name": "stdout",
     "output_type": "stream",
     "text": [
      "1\n",
      "2\n",
      "3\n",
      "4\n"
     ]
    }
   ],
   "source": [
    "import time \n",
    "inicio = time.time()\n",
    "a = 0\n",
    "for i in range(1,15):\n",
    "    for j in range(1,15): \n",
    "           values.loc[a] = test_mlp(i,j)\n",
    "           a = a + 1\n",
    "           print(a)          \n",
    "fim = time.time()\n",
    "print(fim-inicio)\n"
   ]
  },
  {
   "cell_type": "code",
   "execution_count": null,
   "metadata": {
    "colab": {
     "base_uri": "https://localhost:8080/",
     "height": 204
    },
    "colab_type": "code",
    "executionInfo": {
     "elapsed": 3500467,
     "status": "ok",
     "timestamp": 1565930580868,
     "user": {
      "displayName": "SAMUEL HERICLES SOUZA SILVEIRA UFC",
      "photoUrl": "",
      "userId": "12708602358479385648"
     },
     "user_tz": 180
    },
    "id": "IBCg5mLkr37v",
    "outputId": "95097ce8-470b-4681-905c-44d69ce2dadb"
   },
   "outputs": [],
   "source": [
    "values.head()"
   ]
  },
  {
   "cell_type": "code",
   "execution_count": null,
   "metadata": {
    "colab": {
     "base_uri": "https://localhost:8080/",
     "height": 357
    },
    "colab_type": "code",
    "executionInfo": {
     "elapsed": 3499882,
     "status": "ok",
     "timestamp": 1565930581900,
     "user": {
      "displayName": "SAMUEL HERICLES SOUZA SILVEIRA UFC",
      "photoUrl": "",
      "userId": "12708602358479385648"
     },
     "user_tz": 180
    },
    "id": "1-bX28U1hxfU",
    "outputId": "8689cedc-e84d-402f-f858-ed88a578c1fb"
   },
   "outputs": [],
   "source": [
    "sns.lineplot(y='RMSE_test',x='R2_test',data=values)\n",
    "sns.lineplot(y='RMSE_validation',x='R2_validation',data=values)"
   ]
  },
  {
   "cell_type": "code",
   "execution_count": null,
   "metadata": {
    "colab": {
     "base_uri": "https://localhost:8080/",
     "height": 357
    },
    "colab_type": "code",
    "executionInfo": {
     "elapsed": 3499073,
     "status": "ok",
     "timestamp": 1565930581901,
     "user": {
      "displayName": "SAMUEL HERICLES SOUZA SILVEIRA UFC",
      "photoUrl": "",
      "userId": "12708602358479385648"
     },
     "user_tz": 180
    },
    "id": "o4Dh_XB-iGur",
    "outputId": "ea80d221-0f65-4801-e021-371d9e753c6e"
   },
   "outputs": [],
   "source": [
    "sns.lineplot(y='j',x='R2_test',data=values)\n",
    "sns.lineplot(y='j',x='R2_validation',data=values)"
   ]
  },
  {
   "cell_type": "code",
   "execution_count": null,
   "metadata": {
    "colab": {
     "base_uri": "https://localhost:8080/",
     "height": 357
    },
    "colab_type": "code",
    "executionInfo": {
     "elapsed": 3498729,
     "status": "ok",
     "timestamp": 1565930582244,
     "user": {
      "displayName": "SAMUEL HERICLES SOUZA SILVEIRA UFC",
      "photoUrl": "",
      "userId": "12708602358479385648"
     },
     "user_tz": 180
    },
    "id": "qAYg06nOthSL",
    "outputId": "4cca2ae9-53c5-4b58-a6ca-9b95225cb6c4"
   },
   "outputs": [],
   "source": [
    "sns.distplot(values.R2_test)"
   ]
  },
  {
   "cell_type": "code",
   "execution_count": null,
   "metadata": {
    "colab": {
     "base_uri": "https://localhost:8080/",
     "height": 357
    },
    "colab_type": "code",
    "executionInfo": {
     "elapsed": 3498498,
     "status": "ok",
     "timestamp": 1565930583296,
     "user": {
      "displayName": "SAMUEL HERICLES SOUZA SILVEIRA UFC",
      "photoUrl": "",
      "userId": "12708602358479385648"
     },
     "user_tz": 180
    },
    "id": "4Emd_2mKtsXa",
    "outputId": "760d1cd1-93e7-4562-e6bd-0610d74e1849"
   },
   "outputs": [],
   "source": [
    "sns.distplot(values.R2_validation)"
   ]
  },
  {
   "cell_type": "code",
   "execution_count": null,
   "metadata": {
    "colab": {
     "base_uri": "https://localhost:8080/",
     "height": 418
    },
    "colab_type": "code",
    "executionInfo": {
     "elapsed": 3497894,
     "status": "ok",
     "timestamp": 1565930583299,
     "user": {
      "displayName": "SAMUEL HERICLES SOUZA SILVEIRA UFC",
      "photoUrl": "",
      "userId": "12708602358479385648"
     },
     "user_tz": 180
    },
    "id": "J0ksy0bStwZS",
    "outputId": "a13085c9-7058-4d3d-e728-4c066b29f82f"
   },
   "outputs": [],
   "source": [
    "plt.hist(values.R2_validation)"
   ]
  },
  {
   "cell_type": "code",
   "execution_count": null,
   "metadata": {
    "colab": {
     "base_uri": "https://localhost:8080/",
     "height": 418
    },
    "colab_type": "code",
    "executionInfo": {
     "elapsed": 3497426,
     "status": "ok",
     "timestamp": 1565930583301,
     "user": {
      "displayName": "SAMUEL HERICLES SOUZA SILVEIRA UFC",
      "photoUrl": "",
      "userId": "12708602358479385648"
     },
     "user_tz": 180
    },
    "id": "FIxy01_ouMGN",
    "outputId": "05e2c073-0895-49f2-b55d-81426523b704"
   },
   "outputs": [],
   "source": [
    "plt.hist(values.R2_test)"
   ]
  },
  {
   "cell_type": "code",
   "execution_count": null,
   "metadata": {
    "colab": {
     "base_uri": "https://localhost:8080/",
     "height": 342
    },
    "colab_type": "code",
    "executionInfo": {
     "elapsed": 3497820,
     "status": "ok",
     "timestamp": 1565930584238,
     "user": {
      "displayName": "SAMUEL HERICLES SOUZA SILVEIRA UFC",
      "photoUrl": "",
      "userId": "12708602358479385648"
     },
     "user_tz": 180
    },
    "id": "5ksvQKLNuRvd",
    "outputId": "8ef7d2d4-95b4-4bbd-9f11-f53da4355ef0"
   },
   "outputs": [],
   "source": [
    "plt.scatter(values.R2_test,values.R2_validation)"
   ]
  }
 ],
 "metadata": {
  "colab": {
   "name": "Copy of MLP_algorithm-checkpoint.ipynb",
   "provenance": [
    {
     "file_id": "https://github.com/SamuelHericles/climate_data/blob/master/Model_machine_learning/.ipynb_checkpoints/MLP_algorithm-checkpoint.ipynb",
     "timestamp": 1565812358831
    }
   ],
   "version": "0.3.2"
  },
  "kernelspec": {
   "display_name": "Python 3",
   "language": "python",
   "name": "python3"
  },
  "language_info": {
   "codemirror_mode": {
    "name": "ipython",
    "version": 3
   },
   "file_extension": ".py",
   "mimetype": "text/x-python",
   "name": "python",
   "nbconvert_exporter": "python",
   "pygments_lexer": "ipython3",
   "version": "3.7.4"
  }
 },
 "nbformat": 4,
 "nbformat_minor": 1
}
