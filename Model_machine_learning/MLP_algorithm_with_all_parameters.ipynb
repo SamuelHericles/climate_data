{
 "cells": [
  {
   "cell_type": "code",
   "execution_count": 18,
   "metadata": {
    "colab": {},
    "colab_type": "code",
    "id": "4ppqFAoQr35r"
   },
   "outputs": [],
   "source": [
    "import pandas as pd\n",
    "import seaborn as sns\n",
    "import numpy as np\n",
    "import matplotlib.pyplot as plt\n",
    "import warnings\n",
    "import math\n",
    "from sklearn.neural_network import MLPRegressor\n",
    "from sklearn.model_selection import train_test_split\n",
    "from sklearn.metrics import r2_score\n",
    "from sklearn.metrics import accuracy_score\n",
    "from sklearn.metrics import mean_squared_error\n",
    "\n",
    "#to set dimensions of the figures\n",
    "plt.rcParams['figure.figsize'] = (15,7)\n",
    "\n",
    "x_all_parameters = pd.read_csv('/home/archie/Arquivos/climate/Datasets/x_all_parameters.csv')\n",
    "y_all_parameters = pd.read_csv('/home/archie/Arquivos/climate/Datasets/y_all_parameters.csv')\n",
    "\n",
    "x = x_all_parameters.as_matrix()\n",
    "y = y_all_parameters.as_matrix()\n",
    "\n",
    "x = np.delete(x,0,1)\n",
    "y = np.delete(y,0,1)\n",
    "\n",
    "#Creating a dataset for store rmse and r2 results\n",
    "values_all_parameters = pd.DataFrame(columns=['i','j','rmse','r2'])\n",
    "values_all_parameters_matrix = pd.DataFrame(columns=['i','j','rmse','r2'])\n"
   ]
  },
  {
   "cell_type": "code",
   "execution_count": 19,
   "metadata": {},
   "outputs": [],
   "source": [
    "def test_mlp(x,y,i,j):\n",
    "    warnings.filterwarnings('ignore')\n",
    "\n",
    "    train_x,test_x,train_y,test_y = train_test_split(x,y,test_size=0.2)\n",
    "\n",
    "    MLP_reg = MLPRegressor(hidden_layer_sizes = (i*30,j*30), activation='tanh',\n",
    "                      verbose=False, warm_start=True,\n",
    "                      max_iter = 300)\n",
    "\n",
    "    MLP_reg.fit(train_x,train_y)#Kernel default : RBF \n",
    "    predicts = MLP_reg.predict(test_x)\n",
    "\n",
    "    rmse = math.sqrt(mean_squared_error(test_y,predicts))\n",
    "    score_r2 = r2_score(test_y,predicts)\n",
    "\n",
    "    return i*30,j*30,rmse,score_r2\n",
    "\n",
    "def run_test_mlp(interval,dataset,x,y):\n",
    "    #To mesure time processing\n",
    "    import time \n",
    "    inicio = time.time()\n",
    "    a = 0\n",
    "    #Begin cycle for\n",
    "    for i in range(1,interval+1):\n",
    "        for j in range(1,interval+1): \n",
    "            dataset.loc[a] = test_mlp(x,y,i,j)\n",
    "            print(dataset.r2[a])\n",
    "            a = a + 1\n",
    "    #End cycle for\n",
    "    \n",
    "    fim = time.time()\n",
    "    print(fim-inicio)\n",
    "    return dataset"
   ]
  },
  {
   "cell_type": "code",
   "execution_count": 20,
   "metadata": {},
   "outputs": [
    {
     "name": "stdout",
     "output_type": "stream",
     "text": [
      "-18.350095015242402\n",
      "1.8980848789215088\n"
     ]
    }
   ],
   "source": [
    "values_all_parameters = run_test_mlp(1,values_all_parameters,x_all_parameters,y_all_parameters)"
   ]
  },
  {
   "cell_type": "code",
   "execution_count": 21,
   "metadata": {},
   "outputs": [
    {
     "name": "stdout",
     "output_type": "stream",
     "text": [
      "-7.671837515247416\n",
      "1.7802271842956543\n"
     ]
    }
   ],
   "source": [
    "values_all_parameters_matrix = run_test_mlp(1,values_all_parameters_matrix,x,y)"
   ]
  },
  {
   "cell_type": "code",
   "execution_count": 22,
   "metadata": {},
   "outputs": [],
   "source": [
    "values_all_parameters.to_csv('/home/archie/Arquivos/climate/Datasets/values_all_parameters.csv')\n",
    "values_all_parameters = pd.read_csv('/home/archie/Arquivos/climate/Datasets/values_all_parameters.csv')\n",
    "\n",
    "values_all_parameters_matrix.to_csv('/home/archie/Arquivos/climate/Datasets/values_all_parameters_matrix.csv')\n",
    "values_all_parameters_matrix = pd.read_csv('/home/archie/Arquivos/climate/Datasets/values_all_parameters_matrix.csv')"
   ]
  },
  {
   "cell_type": "code",
   "execution_count": 23,
   "metadata": {},
   "outputs": [
    {
     "data": {
      "text/html": [
       "<div>\n",
       "<style scoped>\n",
       "    .dataframe tbody tr th:only-of-type {\n",
       "        vertical-align: middle;\n",
       "    }\n",
       "\n",
       "    .dataframe tbody tr th {\n",
       "        vertical-align: top;\n",
       "    }\n",
       "\n",
       "    .dataframe thead th {\n",
       "        text-align: right;\n",
       "    }\n",
       "</style>\n",
       "<table border=\"1\" class=\"dataframe\">\n",
       "  <thead>\n",
       "    <tr style=\"text-align: right;\">\n",
       "      <th></th>\n",
       "      <th>Unnamed: 0</th>\n",
       "      <th>i</th>\n",
       "      <th>j</th>\n",
       "      <th>rmse</th>\n",
       "      <th>r2</th>\n",
       "    </tr>\n",
       "  </thead>\n",
       "  <tbody>\n",
       "    <tr>\n",
       "      <th>0</th>\n",
       "      <td>0</td>\n",
       "      <td>30.0</td>\n",
       "      <td>30.0</td>\n",
       "      <td>1054.493513</td>\n",
       "      <td>-18.350095</td>\n",
       "    </tr>\n",
       "  </tbody>\n",
       "</table>\n",
       "</div>"
      ],
      "text/plain": [
       "   Unnamed: 0     i     j         rmse         r2\n",
       "0           0  30.0  30.0  1054.493513 -18.350095"
      ]
     },
     "execution_count": 23,
     "metadata": {},
     "output_type": "execute_result"
    }
   ],
   "source": [
    "values_all_parameters.head()"
   ]
  },
  {
   "cell_type": "code",
   "execution_count": 24,
   "metadata": {},
   "outputs": [
    {
     "data": {
      "text/html": [
       "<div>\n",
       "<style scoped>\n",
       "    .dataframe tbody tr th:only-of-type {\n",
       "        vertical-align: middle;\n",
       "    }\n",
       "\n",
       "    .dataframe tbody tr th {\n",
       "        vertical-align: top;\n",
       "    }\n",
       "\n",
       "    .dataframe thead th {\n",
       "        text-align: right;\n",
       "    }\n",
       "</style>\n",
       "<table border=\"1\" class=\"dataframe\">\n",
       "  <thead>\n",
       "    <tr style=\"text-align: right;\">\n",
       "      <th></th>\n",
       "      <th>Unnamed: 0</th>\n",
       "      <th>i</th>\n",
       "      <th>j</th>\n",
       "      <th>rmse</th>\n",
       "      <th>r2</th>\n",
       "    </tr>\n",
       "  </thead>\n",
       "  <tbody>\n",
       "    <tr>\n",
       "      <th>0</th>\n",
       "      <td>0</td>\n",
       "      <td>30.0</td>\n",
       "      <td>30.0</td>\n",
       "      <td>85.39093</td>\n",
       "      <td>-7.671838</td>\n",
       "    </tr>\n",
       "  </tbody>\n",
       "</table>\n",
       "</div>"
      ],
      "text/plain": [
       "   Unnamed: 0     i     j      rmse        r2\n",
       "0           0  30.0  30.0  85.39093 -7.671838"
      ]
     },
     "execution_count": 24,
     "metadata": {},
     "output_type": "execute_result"
    }
   ],
   "source": [
    "values_all_parameters_matrix.head()"
   ]
  },
  {
   "cell_type": "code",
   "execution_count": null,
   "metadata": {},
   "outputs": [],
   "source": []
  }
 ],
 "metadata": {
  "accelerator": "GPU",
  "colab": {
   "collapsed_sections": [],
   "name": "MLP_algorithm-checkpoint.ipynb",
   "provenance": [
    {
     "file_id": "1dln75DsUkh-rS-yh2Y6iV1CDKLSxFMaz",
     "timestamp": 1565984985745
    },
    {
     "file_id": "https://github.com/SamuelHericles/climate_data/blob/master/Model_machine_learning/.ipynb_checkpoints/MLP_algorithm-checkpoint.ipynb",
     "timestamp": 1565812358831
    }
   ],
   "version": "0.3.2"
  },
  "kernelspec": {
   "display_name": "Python 3",
   "language": "python",
   "name": "python3"
  },
  "language_info": {
   "codemirror_mode": {
    "name": "ipython",
    "version": 3
   },
   "file_extension": ".py",
   "mimetype": "text/x-python",
   "name": "python",
   "nbconvert_exporter": "python",
   "pygments_lexer": "ipython3",
   "version": "3.7.4"
  }
 },
 "nbformat": 4,
 "nbformat_minor": 1
}
