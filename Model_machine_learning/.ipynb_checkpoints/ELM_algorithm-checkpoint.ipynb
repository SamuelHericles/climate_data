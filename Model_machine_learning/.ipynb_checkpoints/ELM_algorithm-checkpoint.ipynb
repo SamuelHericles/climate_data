{
 "cells": [
  {
   "cell_type": "code",
   "execution_count": 1,
   "metadata": {},
   "outputs": [],
   "source": [
    "#import need\n",
    "import pandas as pd\n",
    "import seaborn as sns\n",
    "import matplotlib.pyplot as plt\n",
    "import warnings\n",
    "import math\n",
    "import elm\n",
    "from sklearn.metrics import r2_score\n",
    "from sklearn.metrics import accuracy_score\n",
    "from sklearn.metrics import mean_squared_error\n",
    "plt.rcParams['figure.figsize'] = (12,5)\n"
   ]
  },
  {
   "cell_type": "code",
   "execution_count": null,
   "metadata": {},
   "outputs": [],
   "source": [
    "data_climate_test_train = pd.read_csv(\"/content/gdrive/My Drive/Colab Notebooks/fortaleza_junho_julho.csv\")\n",
    "data_climate_test_train.head()"
   ]
  },
  {
   "cell_type": "code",
   "execution_count": null,
   "metadata": {},
   "outputs": [],
   "source": [
    "#Correting column's names\n",
    "data_climate_test_train.columns = ['codigo_estacao','data','hora','temp_inst','temp_max','temp_min','umid_inst','umid_max','umid_min','pto_orvalho_inst','pto_orvalho_max','pto_orvalho_min','pressao','pressao_max','pressao_min','vento_direcao','vento_vel','vento_rajada','radiacao','precipitacao']\n",
    "data_climate_test_train.info()"
   ]
  },
  {
   "cell_type": "code",
   "execution_count": null,
   "metadata": {},
   "outputs": [],
   "source": [
    "# dif into temp_max and temp_min\n",
    "diff_temp_test_train = data_climate_test_train.temp_max - data_climate_test_train.temp_min\n",
    "\n",
    "# diff between umid_max umid_min\n",
    "diff_umid_test_train = data_climate_test_train.umid_max - data_climate_test_train.umid_min\n",
    "\n",
    "# diff betwenn dew_max and dew_min\n",
    "diff_dew_test_train = data_climate_test_train.pto_orvalho_max - data_climate_test_train.pto_orvalho_min\n",
    "\n",
    "#diff between pressue_max and pressure_min\n",
    "diff_pressure_test_train = data_climate_test_train.pressao_max - data_climate_test_train.pressao_min\n",
    "\n",
    "# diff between wind_direction and wind_guest\n",
    "diff_wind_test_train = data_climate_test_train.vento_rajada - data_climate_test_train.vento_direcao"
   ]
  },
  {
   "cell_type": "code",
   "execution_count": null,
   "metadata": {},
   "outputs": [],
   "source": [
    "new_dataset_test_train = pd.DataFrame(data_climate_test_train[['hora','temp_inst','umid_inst','pto_orvalho_inst','pressao','vento_rajada','radiacao','precipitacao','vento_vel']])\n",
    "new_dataset_test_train.head()"
   ]
  },
  {
   "cell_type": "code",
   "execution_count": null,
   "metadata": {},
   "outputs": [],
   "source": [
    "new_dataset_test_train['diff_temp']     = diff_temp_test_train\n",
    "new_dataset_test_train['diff_umid']     = diff_umid_test_train\n",
    "new_dataset_test_train['diff_dew']      = diff_dew_test_train\n",
    "new_dataset_test_train['diff_pressure'] = diff_pressure_test_train\n",
    "new_dataset_test_train['diff_wind']     = diff_wind_test_train\n",
    "new_dataset_test_train.head()"
   ]
  },
  {
   "cell_type": "code",
   "execution_count": null,
   "metadata": {},
   "outputs": [],
   "source": [
    "#To analyse correlation pearson\n",
    "new_dataset_test_train.corr()"
   ]
  },
  {
   "cell_type": "code",
   "execution_count": null,
   "metadata": {},
   "outputs": [],
   "source": [
    "new_dataset_test_train.corr()[\"vento_vel\"]"
   ]
  },
  {
   "cell_type": "code",
   "execution_count": null,
   "metadata": {},
   "outputs": [],
   "source": [
    "'''\n",
    "    #x = set_test_train[['hora','temp_inst','umid_inst','pto_orvalho_inst','pressao','vento_rajada','radiacao','precipitacao','diff_temp','diff_umid','diff_dew','diff_pressure','diff_wind']]\n",
    "    x = new_dataset_test_train[['hora','temp_inst','umid_inst','vento_rajada','diff_wind']]\n",
    "    y = new_dataset_test_train[['vento_vel']]\n",
    "\n",
    "    x_validation = new_dataset_validation[['hora','temp_inst','umid_inst','vento_rajada','diff_wind']]\n",
    "    y_validation = new_dataset_validation[['vento_vel']]\n",
    "\n",
    "    print('X:{}'.format(x.shape))\n",
    "    print('Y:{}'.format(y.shape))\n",
    "    print('x_validation:{}'.format(x_validation.shape))\n",
    "    print('y_validation:{}'.format(y_validation.shape))\n",
    "'''"
   ]
  },
  {
   "cell_type": "code",
   "execution_count": null,
   "metadata": {},
   "outputs": [],
   "source": []
  },
  {
   "cell_type": "code",
   "execution_count": null,
   "metadata": {},
   "outputs": [],
   "source": []
  }
 ],
 "metadata": {
  "kernelspec": {
   "display_name": "Python 3",
   "language": "python",
   "name": "python3"
  },
  "language_info": {
   "codemirror_mode": {
    "name": "ipython",
    "version": 3
   },
   "file_extension": ".py",
   "mimetype": "text/x-python",
   "name": "python",
   "nbconvert_exporter": "python",
   "pygments_lexer": "ipython3",
   "version": "3.7.4"
  }
 },
 "nbformat": 4,
 "nbformat_minor": 2
}
