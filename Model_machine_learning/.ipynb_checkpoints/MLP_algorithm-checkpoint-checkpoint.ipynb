{
 "cells": [
  {
   "cell_type": "markdown",
   "metadata": {
    "colab_type": "text",
    "id": "J6xhaj8Z05gy"
   },
   "source": [
    "#Imports needed for this research"
   ]
  },
  {
   "cell_type": "code",
   "execution_count": 2,
   "metadata": {
    "colab": {},
    "colab_type": "code",
    "id": "4ppqFAoQr35r"
   },
   "outputs": [],
   "source": [
    "import pandas as pd\n",
    "import seaborn as sns\n",
    "import matplotlib.pyplot as plt\n",
    "import warnings\n",
    "import math\n",
    "from sklearn.neural_network import MLPRegressor\n",
    "from sklearn.neural_network import MLPClassifier\n",
    "from sklearn.model_selection import train_test_split\n",
    "from sklearn.metrics import r2_score\n",
    "from sklearn.metrics import accuracy_score\n",
    "from sklearn.metrics import mean_squared_error\n",
    "\n",
    "#to set dimensions of the figures\n",
    "plt.rcParams['figure.figsize'] = (15,7)\n"
   ]
  },
  {
   "cell_type": "code",
   "execution_count": 3,
   "metadata": {
    "colab": {
     "base_uri": "https://localhost:8080/",
     "height": 36
    },
    "colab_type": "code",
    "executionInfo": {
     "elapsed": 1094,
     "status": "ok",
     "timestamp": 1566523155171,
     "user": {
      "displayName": "SAMUEL HERICLES SOUZA SILVEIRA UFC",
      "photoUrl": "",
      "userId": "12708602358479385648"
     },
     "user_tz": 180
    },
    "id": "xNcLC-8nwIya",
    "outputId": "1b268e55-0a0c-47d3-9820-7a173c8c7bc3"
   },
   "outputs": [],
   "source": [
    "# import for the upload files\n",
    "#from google.colab import drive \n",
    "#drive.mount('/content/gdrive')"
   ]
  },
  {
   "cell_type": "markdown",
   "metadata": {
    "colab_type": "text",
    "id": "hhvzmipz1bB2"
   },
   "source": [
    "#Upload and organize dataset parameters"
   ]
  },
  {
   "cell_type": "code",
   "execution_count": 4,
   "metadata": {
    "colab": {
     "base_uri": "https://localhost:8080/",
     "height": 492
    },
    "colab_type": "code",
    "executionInfo": {
     "elapsed": 1618,
     "status": "ok",
     "timestamp": 1566523157143,
     "user": {
      "displayName": "SAMUEL HERICLES SOUZA SILVEIRA UFC",
      "photoUrl": "",
      "userId": "12708602358479385648"
     },
     "user_tz": 180
    },
    "id": "X9EbwEWGr351",
    "outputId": "b2ac751c-7a02-4f6e-dc85-1992e44443af"
   },
   "outputs": [
    {
     "name": "stdout",
     "output_type": "stream",
     "text": [
      "<class 'pandas.core.frame.DataFrame'>\n",
      "RangeIndex: 2016 entries, 0 to 2015\n",
      "Data columns (total 20 columns):\n",
      "codigo_estacao      2016 non-null object\n",
      "data                2016 non-null object\n",
      "hora                2016 non-null int64\n",
      "temp_inst           2016 non-null float64\n",
      "temp_max            2016 non-null float64\n",
      "temp_min            2016 non-null float64\n",
      "umid_inst           2016 non-null int64\n",
      "umid_max            2016 non-null int64\n",
      "umid_min            2016 non-null int64\n",
      "pto_orvalho_inst    2016 non-null float64\n",
      "pto_orvalho_max     2016 non-null float64\n",
      "pto_orvalho_min     2016 non-null float64\n",
      "pressao             2016 non-null float64\n",
      "pressao_max         2016 non-null float64\n",
      "pressao_min         2016 non-null float64\n",
      "vento_direcao       2016 non-null float64\n",
      "vento_vel           2016 non-null int64\n",
      "vento_rajada        2016 non-null float64\n",
      "radiacao            2016 non-null float64\n",
      "precipitacao        2016 non-null float64\n",
      "dtypes: float64(13), int64(5), object(2)\n",
      "memory usage: 315.1+ KB\n"
     ]
    }
   ],
   "source": [
    "# import the dataset\n",
    "#data_climate_test_train = pd.read_csv(\"/content/gdrive/My Drive/Colab Notebooks/fortaleza_junho_julho.csv\")\n",
    "data_climate_test_train = pd.read_csv(\"fortaleza.csv\")\n",
    "\n",
    "#Correting column's names\n",
    "data_climate_test_train.columns = ['codigo_estacao','data','hora','temp_inst','temp_max','temp_min','umid_inst','umid_max','umid_min','pto_orvalho_inst','pto_orvalho_max','pto_orvalho_min','pressao','pressao_max','pressao_min','vento_direcao','vento_vel','vento_rajada','radiacao','precipitacao']\n",
    "data_climate_test_train.info()"
   ]
  },
  {
   "cell_type": "markdown",
   "metadata": {
    "colab_type": "text",
    "id": "1o9WergT1uY8"
   },
   "source": [
    "**Create new variables for train neural network**"
   ]
  },
  {
   "cell_type": "code",
   "execution_count": 5,
   "metadata": {
    "colab": {},
    "colab_type": "code",
    "id": "8GkFyGUrr36m"
   },
   "outputs": [],
   "source": [
    "# dif into temp_max and temp_min\n",
    "diff_temp_test_train     = data_climate_test_train.temp_max - data_climate_test_train.temp_min\n",
    "\n",
    "# diff between umid_max umid_min\n",
    "diff_umid_test_train     = data_climate_test_train.umid_max - data_climate_test_train.umid_min\n",
    "\n",
    "# diff betwenn dew_max and dew_min\n",
    "diff_dew_test_train      = data_climate_test_train.pto_orvalho_max - data_climate_test_train.pto_orvalho_min\n",
    "\n",
    "#diff between pressue_max and pressure_min\n",
    "diff_pressure_test_train = data_climate_test_train.pressao_max - data_climate_test_train.pressao_min\n",
    "\n",
    "# diff between wind_direction and wind_guest\n",
    "diff_wind_test_train     = data_climate_test_train.vento_rajada - data_climate_test_train.vento_direcao\n"
   ]
  },
  {
   "cell_type": "code",
   "execution_count": 6,
   "metadata": {
    "colab": {
     "base_uri": "https://localhost:8080/",
     "height": 204
    },
    "colab_type": "code",
    "executionInfo": {
     "elapsed": 1529,
     "status": "ok",
     "timestamp": 1566523165167,
     "user": {
      "displayName": "SAMUEL HERICLES SOUZA SILVEIRA UFC",
      "photoUrl": "",
      "userId": "12708602358479385648"
     },
     "user_tz": 180
    },
    "id": "nxk7XVSP2Ggf",
    "outputId": "b653041d-6dae-4194-92a3-92324a265da1"
   },
   "outputs": [
    {
     "data": {
      "text/html": [
       "<div>\n",
       "<style scoped>\n",
       "    .dataframe tbody tr th:only-of-type {\n",
       "        vertical-align: middle;\n",
       "    }\n",
       "\n",
       "    .dataframe tbody tr th {\n",
       "        vertical-align: top;\n",
       "    }\n",
       "\n",
       "    .dataframe thead th {\n",
       "        text-align: right;\n",
       "    }\n",
       "</style>\n",
       "<table border=\"1\" class=\"dataframe\">\n",
       "  <thead>\n",
       "    <tr style=\"text-align: right;\">\n",
       "      <th></th>\n",
       "      <th>hora</th>\n",
       "      <th>temp_inst</th>\n",
       "      <th>umid_inst</th>\n",
       "      <th>pto_orvalho_inst</th>\n",
       "      <th>pressao</th>\n",
       "      <th>vento_rajada</th>\n",
       "      <th>radiacao</th>\n",
       "      <th>precipitacao</th>\n",
       "      <th>vento_vel</th>\n",
       "    </tr>\n",
       "  </thead>\n",
       "  <tbody>\n",
       "    <tr>\n",
       "      <th>0</th>\n",
       "      <td>0</td>\n",
       "      <td>26.6</td>\n",
       "      <td>79</td>\n",
       "      <td>22.6</td>\n",
       "      <td>1009.9</td>\n",
       "      <td>4.8</td>\n",
       "      <td>-3.51</td>\n",
       "      <td>0.0</td>\n",
       "      <td>104</td>\n",
       "    </tr>\n",
       "    <tr>\n",
       "      <th>1</th>\n",
       "      <td>23</td>\n",
       "      <td>26.0</td>\n",
       "      <td>79</td>\n",
       "      <td>22.1</td>\n",
       "      <td>1010.0</td>\n",
       "      <td>4.2</td>\n",
       "      <td>-3.54</td>\n",
       "      <td>0.0</td>\n",
       "      <td>121</td>\n",
       "    </tr>\n",
       "    <tr>\n",
       "      <th>2</th>\n",
       "      <td>22</td>\n",
       "      <td>26.7</td>\n",
       "      <td>75</td>\n",
       "      <td>21.8</td>\n",
       "      <td>1009.2</td>\n",
       "      <td>5.5</td>\n",
       "      <td>-3.54</td>\n",
       "      <td>0.0</td>\n",
       "      <td>94</td>\n",
       "    </tr>\n",
       "    <tr>\n",
       "      <th>3</th>\n",
       "      <td>21</td>\n",
       "      <td>27.1</td>\n",
       "      <td>72</td>\n",
       "      <td>21.6</td>\n",
       "      <td>1009.0</td>\n",
       "      <td>6.9</td>\n",
       "      <td>70.21</td>\n",
       "      <td>0.0</td>\n",
       "      <td>91</td>\n",
       "    </tr>\n",
       "    <tr>\n",
       "      <th>4</th>\n",
       "      <td>20</td>\n",
       "      <td>28.1</td>\n",
       "      <td>66</td>\n",
       "      <td>21.2</td>\n",
       "      <td>1008.4</td>\n",
       "      <td>7.4</td>\n",
       "      <td>688.50</td>\n",
       "      <td>0.0</td>\n",
       "      <td>103</td>\n",
       "    </tr>\n",
       "  </tbody>\n",
       "</table>\n",
       "</div>"
      ],
      "text/plain": [
       "   hora  temp_inst  umid_inst  pto_orvalho_inst  pressao  vento_rajada  \\\n",
       "0     0       26.6         79              22.6   1009.9           4.8   \n",
       "1    23       26.0         79              22.1   1010.0           4.2   \n",
       "2    22       26.7         75              21.8   1009.2           5.5   \n",
       "3    21       27.1         72              21.6   1009.0           6.9   \n",
       "4    20       28.1         66              21.2   1008.4           7.4   \n",
       "\n",
       "   radiacao  precipitacao  vento_vel  \n",
       "0     -3.51           0.0        104  \n",
       "1     -3.54           0.0        121  \n",
       "2     -3.54           0.0         94  \n",
       "3     70.21           0.0         91  \n",
       "4    688.50           0.0        103  "
      ]
     },
     "execution_count": 6,
     "metadata": {},
     "output_type": "execute_result"
    }
   ],
   "source": [
    "new_dataset_test_train = pd.DataFrame(data_climate_test_train[['hora','temp_inst','umid_inst','pto_orvalho_inst','pressao','vento_rajada','radiacao','precipitacao','vento_vel']])\n",
    "new_dataset_test_train.head()"
   ]
  },
  {
   "cell_type": "code",
   "execution_count": 7,
   "metadata": {
    "colab": {
     "base_uri": "https://localhost:8080/",
     "height": 224
    },
    "colab_type": "code",
    "executionInfo": {
     "elapsed": 1039,
     "status": "ok",
     "timestamp": 1566523167263,
     "user": {
      "displayName": "SAMUEL HERICLES SOUZA SILVEIRA UFC",
      "photoUrl": "",
      "userId": "12708602358479385648"
     },
     "user_tz": 180
    },
    "id": "6RBsTYt-r37D",
    "outputId": "43f78e46-4a7a-4e47-efee-8bcd54e818ea"
   },
   "outputs": [
    {
     "data": {
      "text/html": [
       "<div>\n",
       "<style scoped>\n",
       "    .dataframe tbody tr th:only-of-type {\n",
       "        vertical-align: middle;\n",
       "    }\n",
       "\n",
       "    .dataframe tbody tr th {\n",
       "        vertical-align: top;\n",
       "    }\n",
       "\n",
       "    .dataframe thead th {\n",
       "        text-align: right;\n",
       "    }\n",
       "</style>\n",
       "<table border=\"1\" class=\"dataframe\">\n",
       "  <thead>\n",
       "    <tr style=\"text-align: right;\">\n",
       "      <th></th>\n",
       "      <th>hora</th>\n",
       "      <th>temp_inst</th>\n",
       "      <th>umid_inst</th>\n",
       "      <th>pto_orvalho_inst</th>\n",
       "      <th>pressao</th>\n",
       "      <th>vento_rajada</th>\n",
       "      <th>radiacao</th>\n",
       "      <th>precipitacao</th>\n",
       "      <th>vento_vel</th>\n",
       "      <th>diff_temp</th>\n",
       "      <th>diff_umid</th>\n",
       "      <th>diff_dew</th>\n",
       "      <th>diff_pressure</th>\n",
       "      <th>diff_wind</th>\n",
       "    </tr>\n",
       "  </thead>\n",
       "  <tbody>\n",
       "    <tr>\n",
       "      <th>0</th>\n",
       "      <td>0</td>\n",
       "      <td>26.6</td>\n",
       "      <td>79</td>\n",
       "      <td>22.6</td>\n",
       "      <td>1009.9</td>\n",
       "      <td>4.8</td>\n",
       "      <td>-3.51</td>\n",
       "      <td>0.0</td>\n",
       "      <td>104</td>\n",
       "      <td>0.4</td>\n",
       "      <td>2</td>\n",
       "      <td>0.3</td>\n",
       "      <td>0.7</td>\n",
       "      <td>3.4</td>\n",
       "    </tr>\n",
       "    <tr>\n",
       "      <th>1</th>\n",
       "      <td>23</td>\n",
       "      <td>26.0</td>\n",
       "      <td>79</td>\n",
       "      <td>22.1</td>\n",
       "      <td>1010.0</td>\n",
       "      <td>4.2</td>\n",
       "      <td>-3.54</td>\n",
       "      <td>0.0</td>\n",
       "      <td>121</td>\n",
       "      <td>0.9</td>\n",
       "      <td>4</td>\n",
       "      <td>0.4</td>\n",
       "      <td>0.8</td>\n",
       "      <td>3.7</td>\n",
       "    </tr>\n",
       "    <tr>\n",
       "      <th>2</th>\n",
       "      <td>22</td>\n",
       "      <td>26.7</td>\n",
       "      <td>75</td>\n",
       "      <td>21.8</td>\n",
       "      <td>1009.2</td>\n",
       "      <td>5.5</td>\n",
       "      <td>-3.54</td>\n",
       "      <td>0.0</td>\n",
       "      <td>94</td>\n",
       "      <td>0.5</td>\n",
       "      <td>3</td>\n",
       "      <td>0.3</td>\n",
       "      <td>0.2</td>\n",
       "      <td>3.8</td>\n",
       "    </tr>\n",
       "    <tr>\n",
       "      <th>3</th>\n",
       "      <td>21</td>\n",
       "      <td>27.1</td>\n",
       "      <td>72</td>\n",
       "      <td>21.6</td>\n",
       "      <td>1009.0</td>\n",
       "      <td>6.9</td>\n",
       "      <td>70.21</td>\n",
       "      <td>0.0</td>\n",
       "      <td>91</td>\n",
       "      <td>1.2</td>\n",
       "      <td>6</td>\n",
       "      <td>0.4</td>\n",
       "      <td>0.6</td>\n",
       "      <td>4.8</td>\n",
       "    </tr>\n",
       "    <tr>\n",
       "      <th>4</th>\n",
       "      <td>20</td>\n",
       "      <td>28.1</td>\n",
       "      <td>66</td>\n",
       "      <td>21.2</td>\n",
       "      <td>1008.4</td>\n",
       "      <td>7.4</td>\n",
       "      <td>688.50</td>\n",
       "      <td>0.0</td>\n",
       "      <td>103</td>\n",
       "      <td>1.2</td>\n",
       "      <td>6</td>\n",
       "      <td>1.0</td>\n",
       "      <td>0.5</td>\n",
       "      <td>4.5</td>\n",
       "    </tr>\n",
       "  </tbody>\n",
       "</table>\n",
       "</div>"
      ],
      "text/plain": [
       "   hora  temp_inst  umid_inst  pto_orvalho_inst  pressao  vento_rajada  \\\n",
       "0     0       26.6         79              22.6   1009.9           4.8   \n",
       "1    23       26.0         79              22.1   1010.0           4.2   \n",
       "2    22       26.7         75              21.8   1009.2           5.5   \n",
       "3    21       27.1         72              21.6   1009.0           6.9   \n",
       "4    20       28.1         66              21.2   1008.4           7.4   \n",
       "\n",
       "   radiacao  precipitacao  vento_vel  diff_temp  diff_umid  diff_dew  \\\n",
       "0     -3.51           0.0        104        0.4          2       0.3   \n",
       "1     -3.54           0.0        121        0.9          4       0.4   \n",
       "2     -3.54           0.0         94        0.5          3       0.3   \n",
       "3     70.21           0.0         91        1.2          6       0.4   \n",
       "4    688.50           0.0        103        1.2          6       1.0   \n",
       "\n",
       "   diff_pressure  diff_wind  \n",
       "0            0.7        3.4  \n",
       "1            0.8        3.7  \n",
       "2            0.2        3.8  \n",
       "3            0.6        4.8  \n",
       "4            0.5        4.5  "
      ]
     },
     "execution_count": 7,
     "metadata": {},
     "output_type": "execute_result"
    }
   ],
   "source": [
    "#Add new variables into data set\n",
    "new_dataset_test_train['diff_temp']     = diff_temp_test_train\n",
    "new_dataset_test_train['diff_umid']     = diff_umid_test_train\n",
    "new_dataset_test_train['diff_dew']      = diff_dew_test_train\n",
    "new_dataset_test_train['diff_pressure'] = diff_pressure_test_train\n",
    "new_dataset_test_train['diff_wind']     = diff_wind_test_train\n",
    "new_dataset_test_train.head()"
   ]
  },
  {
   "cell_type": "code",
   "execution_count": 8,
   "metadata": {
    "colab": {
     "base_uri": "https://localhost:8080/",
     "height": 302
    },
    "colab_type": "code",
    "executionInfo": {
     "elapsed": 1610,
     "status": "ok",
     "timestamp": 1566523170836,
     "user": {
      "displayName": "SAMUEL HERICLES SOUZA SILVEIRA UFC",
      "photoUrl": "",
      "userId": "12708602358479385648"
     },
     "user_tz": 180
    },
    "id": "qlC5LAzWr37I",
    "outputId": "d7b79bf3-6ce0-44dd-f07d-08d4b4238cbc"
   },
   "outputs": [
    {
     "data": {
      "text/plain": [
       "hora               -0.369782\n",
       "temp_inst          -0.501010\n",
       "umid_inst           0.381560\n",
       "pto_orvalho_inst   -0.033735\n",
       "pressao             0.222897\n",
       "vento_rajada       -0.465535\n",
       "radiacao           -0.204026\n",
       "precipitacao        0.013606\n",
       "vento_vel           1.000000\n",
       "diff_temp           0.016781\n",
       "diff_umid          -0.085228\n",
       "diff_dew           -0.197880\n",
       "diff_pressure      -0.132019\n",
       "diff_wind          -0.427131\n",
       "Name: vento_vel, dtype: float64"
      ]
     },
     "execution_count": 8,
     "metadata": {},
     "output_type": "execute_result"
    }
   ],
   "source": [
    "#To analyse correlation pearson\n",
    "new_dataset_test_train.corr()[\"vento_vel\"]"
   ]
  },
  {
   "cell_type": "markdown",
   "metadata": {
    "colab_type": "text",
    "id": "btirNa6Zr37R"
   },
   "source": [
    "# Divide train and test datasets"
   ]
  },
  {
   "cell_type": "code",
   "execution_count": 13,
   "metadata": {
    "colab": {
     "base_uri": "https://localhost:8080/",
     "height": 93
    },
    "colab_type": "code",
    "executionInfo": {
     "elapsed": 10669,
     "status": "ok",
     "timestamp": 1566412804351,
     "user": {
      "displayName": "SAMUEL HERICLES SOUZA SILVEIRA UFC",
      "photoUrl": "",
      "userId": "12708602358479385648"
     },
     "user_tz": 180
    },
    "id": "J3jedgxlr37T",
    "outputId": "8c304086-5a08-4870-e21a-48e5a3562ba4"
   },
   "outputs": [
    {
     "name": "stdout",
     "output_type": "stream",
     "text": [
      "x_all:(2016, 14)\n",
      "y_all:(2016, 1)\n",
      "x:(1008, 14)\n",
      "y:(1008, 1)\n",
      "train_x:(806, 14)\n",
      "train_y:(806, 1)\n",
      "test_x:(202, 14)\n",
      "test_y:(202, 1)\n"
     ]
    }
   ],
   "source": [
    "x_all = new_dataset_test_train[['hora','temp_inst','umid_inst','pto_orvalho_inst','pressao','vento_rajada','radiacao','precipitacao','diff_temp','diff_umid','diff_dew','diff_pressure','diff_wind','vento_vel']]\n",
    "y_all = new_dataset_test_train[['vento_vel']]\n",
    "\n",
    "x = x_all[:1008]\n",
    "y = y_all[1008:]\n",
    "\n",
    "train_x,test_x,train_y,test_y = train_test_split(x,y,test_size=0.2)\n",
    "\n",
    "print('x_all:{}'.format(x_all.shape))\n",
    "print('y_all:{}'.format(y_all.shape))\n",
    "print('x:{}'.format(x.shape))\n",
    "print('y:{}'.format(y.shape))\n",
    "print('train_x:{}'.format(train_x.shape))\n",
    "print('train_y:{}'.format(train_y.shape))\n",
    "print('test_x:{}'.format(test_x.shape))\n",
    "print('test_y:{}'.format(test_y.shape))\n"
   ]
  },
  {
   "cell_type": "markdown",
   "metadata": {
    "colab_type": "text",
    "id": "dfEgELK_r37f"
   },
   "source": [
    "#  Apllying MLPRegressor"
   ]
  },
  {
   "cell_type": "code",
   "execution_count": 0,
   "metadata": {
    "colab": {},
    "colab_type": "code",
    "id": "qH3lY0c8r37h"
   },
   "outputs": [],
   "source": [
    "def test_mlp(i,j):\n",
    "    warnings.filterwarnings('ignore')\n",
    "    MLP_reg = MLPRegressor(hidden_layer_sizes = (i*30,j*30), activation='tanh',\n",
    "                      verbose=True, warm_start=True,\n",
    "                      max_iter = 300)\n",
    "    \n",
    "    MLP_reg.fit(train_x,train_y)#Kernel default : RBF \n",
    "    predicts = MLP_reg.predict(test_x)\n",
    "\n",
    "    rmse = math.sqrt(mean_squared_error(test_y,predicts))\n",
    "    score_r2 = r2_score(test_y,predicts)\n",
    "\n",
    "    return i*30,j*30,rmse,score_r2"
   ]
  },
  {
   "cell_type": "code",
   "execution_count": 50,
   "metadata": {
    "colab": {
     "base_uri": "https://localhost:8080/",
     "height": 49
    },
    "colab_type": "code",
    "executionInfo": {
     "elapsed": 1994,
     "status": "ok",
     "timestamp": 1566523407352,
     "user": {
      "displayName": "SAMUEL HERICLES SOUZA SILVEIRA UFC",
      "photoUrl": "",
      "userId": "12708602358479385648"
     },
     "user_tz": 180
    },
    "id": "kZYiNrKQb7Ps",
    "outputId": "c27ecf62-3168-47ab-b81a-10eb1a8480ec"
   },
   "outputs": [
    {
     "data": {
      "text/html": [
       "<div>\n",
       "<style scoped>\n",
       "    .dataframe tbody tr th:only-of-type {\n",
       "        vertical-align: middle;\n",
       "    }\n",
       "\n",
       "    .dataframe tbody tr th {\n",
       "        vertical-align: top;\n",
       "    }\n",
       "\n",
       "    .dataframe thead th {\n",
       "        text-align: right;\n",
       "    }\n",
       "</style>\n",
       "<table border=\"1\" class=\"dataframe\">\n",
       "  <thead>\n",
       "    <tr style=\"text-align: right;\">\n",
       "      <th></th>\n",
       "      <th>i</th>\n",
       "      <th>j</th>\n",
       "      <th>rmse</th>\n",
       "      <th>r2</th>\n",
       "    </tr>\n",
       "  </thead>\n",
       "  <tbody>\n",
       "  </tbody>\n",
       "</table>\n",
       "</div>"
      ],
      "text/plain": [
       "Empty DataFrame\n",
       "Columns: [i, j, rmse, r2]\n",
       "Index: []"
      ]
     },
     "execution_count": 50,
     "metadata": {
      "tags": []
     },
     "output_type": "execute_result"
    }
   ],
   "source": [
    "#Creating a dataset for store rmse and r2 results\n",
    "values = pd.DataFrame(columns=['i','j','rmse','r2'])\n",
    "values.head()"
   ]
  },
  {
   "cell_type": "markdown",
   "metadata": {
    "colab_type": "text",
    "id": "wCFGi2qi3aKv"
   },
   "source": [
    "#Cycle for try differents neural networks structures \n"
   ]
  },
  {
   "cell_type": "code",
   "execution_count": 0,
   "metadata": {
    "colab": {
     "base_uri": "https://localhost:8080/",
     "height": 1000
    },
    "colab_type": "code",
    "executionInfo": {
     "elapsed": 1367882,
     "status": "ok",
     "timestamp": 1566414177828,
     "user": {
      "displayName": "SAMUEL HERICLES SOUZA SILVEIRA UFC",
      "photoUrl": "",
      "userId": "12708602358479385648"
     },
     "user_tz": 180
    },
    "id": "oGkqSzBrr37o",
    "outputId": "a9c63786-1a33-4365-9463-30cfc322773f"
   },
   "outputs": [
    {
     "name": "stdout",
     "output_type": "stream",
     "text": [
      "1\n",
      "2\n",
      "3\n",
      "4\n",
      "5\n",
      "6\n",
      "7\n",
      "8\n",
      "9\n",
      "10\n",
      "11\n",
      "12\n",
      "13\n",
      "14\n",
      "15\n",
      "16\n",
      "17\n",
      "18\n",
      "19\n",
      "20\n",
      "21\n",
      "22\n",
      "23\n",
      "24\n",
      "25\n",
      "26\n",
      "27\n",
      "28\n",
      "29\n",
      "30\n",
      "31\n",
      "32\n",
      "33\n",
      "34\n",
      "35\n",
      "36\n",
      "37\n",
      "38\n",
      "39\n",
      "40\n",
      "41\n",
      "42\n",
      "43\n",
      "44\n",
      "45\n",
      "46\n",
      "47\n",
      "48\n",
      "49\n",
      "50\n",
      "51\n",
      "52\n",
      "53\n",
      "54\n",
      "55\n",
      "56\n",
      "57\n",
      "58\n",
      "59\n",
      "60\n",
      "61\n",
      "62\n",
      "63\n",
      "64\n",
      "65\n",
      "66\n",
      "67\n",
      "68\n",
      "69\n",
      "70\n",
      "71\n",
      "72\n",
      "73\n",
      "74\n",
      "75\n",
      "76\n",
      "77\n",
      "78\n",
      "79\n",
      "80\n",
      "81\n",
      "82\n",
      "83\n",
      "84\n",
      "85\n",
      "86\n",
      "87\n",
      "88\n",
      "89\n",
      "90\n",
      "91\n",
      "92\n",
      "93\n",
      "94\n",
      "95\n",
      "96\n",
      "97\n",
      "98\n",
      "99\n",
      "100\n",
      "101\n",
      "102\n",
      "103\n",
      "104\n",
      "105\n",
      "106\n",
      "107\n",
      "108\n",
      "109\n",
      "110\n",
      "111\n",
      "112\n",
      "113\n",
      "114\n",
      "115\n",
      "116\n",
      "117\n",
      "118\n",
      "119\n",
      "120\n",
      "121\n",
      "122\n",
      "123\n",
      "124\n",
      "125\n",
      "126\n",
      "127\n",
      "128\n",
      "129\n",
      "130\n",
      "131\n",
      "132\n",
      "133\n",
      "134\n",
      "135\n",
      "136\n",
      "137\n",
      "138\n",
      "139\n",
      "140\n",
      "141\n",
      "142\n",
      "143\n",
      "144\n",
      "145\n",
      "146\n",
      "147\n",
      "148\n",
      "149\n",
      "150\n",
      "151\n",
      "152\n",
      "153\n",
      "154\n",
      "155\n",
      "156\n",
      "157\n",
      "158\n",
      "159\n",
      "160\n",
      "161\n",
      "162\n",
      "163\n",
      "164\n",
      "165\n",
      "166\n",
      "167\n",
      "168\n",
      "169\n",
      "170\n",
      "171\n",
      "172\n",
      "173\n",
      "174\n",
      "175\n",
      "176\n",
      "177\n",
      "178\n",
      "179\n",
      "180\n",
      "181\n",
      "182\n",
      "183\n",
      "184\n",
      "185\n",
      "186\n",
      "187\n",
      "188\n",
      "189\n",
      "190\n",
      "191\n",
      "192\n",
      "193\n",
      "194\n",
      "195\n",
      "196\n",
      "1367.092517375946\n"
     ]
    },
    {
     "data": {
      "text/html": [
       "<div>\n",
       "<style scoped>\n",
       "    .dataframe tbody tr th:only-of-type {\n",
       "        vertical-align: middle;\n",
       "    }\n",
       "\n",
       "    .dataframe tbody tr th {\n",
       "        vertical-align: top;\n",
       "    }\n",
       "\n",
       "    .dataframe thead th {\n",
       "        text-align: right;\n",
       "    }\n",
       "</style>\n",
       "<table border=\"1\" class=\"dataframe\">\n",
       "  <thead>\n",
       "    <tr style=\"text-align: right;\">\n",
       "      <th></th>\n",
       "      <th>r2</th>\n",
       "      <th>rmse</th>\n",
       "    </tr>\n",
       "  </thead>\n",
       "  <tbody>\n",
       "    <tr>\n",
       "      <th>0</th>\n",
       "      <td>9480.987058</td>\n",
       "      <td>-10.062566</td>\n",
       "    </tr>\n",
       "    <tr>\n",
       "      <th>1</th>\n",
       "      <td>5418.706545</td>\n",
       "      <td>-5.322633</td>\n",
       "    </tr>\n",
       "    <tr>\n",
       "      <th>2</th>\n",
       "      <td>2995.494990</td>\n",
       "      <td>-2.495191</td>\n",
       "    </tr>\n",
       "    <tr>\n",
       "      <th>3</th>\n",
       "      <td>1657.343597</td>\n",
       "      <td>-0.933815</td>\n",
       "    </tr>\n",
       "    <tr>\n",
       "      <th>4</th>\n",
       "      <td>1091.139764</td>\n",
       "      <td>-0.273159</td>\n",
       "    </tr>\n",
       "  </tbody>\n",
       "</table>\n",
       "</div>"
      ],
      "text/plain": [
       "            r2       rmse\n",
       "0  9480.987058 -10.062566\n",
       "1  5418.706545  -5.322633\n",
       "2  2995.494990  -2.495191\n",
       "3  1657.343597  -0.933815\n",
       "4  1091.139764  -0.273159"
      ]
     },
     "execution_count": 24,
     "metadata": {
      "tags": []
     },
     "output_type": "execute_result"
    }
   ],
   "source": [
    "\n",
    "#To mesure time processing\n",
    "import time \n",
    "inicio = time.time()\n",
    "\n",
    "a = 0\n",
    "#Begin cycle for\n",
    "  for i in range(1,21):\n",
    "      for j in range(1,21): \n",
    "             values.loc[a] = test_mlp(i,j)         \n",
    "#End cycle for\n",
    "              \n",
    "fim = time.time()\n",
    "print(fim-inicio)\n"
   ]
  },
  {
   "cell_type": "code",
   "execution_count": 9,
   "metadata": {
    "colab": {
     "base_uri": "https://localhost:8080/",
     "height": 204
    },
    "colab_type": "code",
    "executionInfo": {
     "elapsed": 1918,
     "status": "ok",
     "timestamp": 1566520427613,
     "user": {
      "displayName": "SAMUEL HERICLES SOUZA SILVEIRA UFC",
      "photoUrl": "",
      "userId": "12708602358479385648"
     },
     "user_tz": 180
    },
    "id": "X9pPkiDwa7xa",
    "outputId": "80141378-f6ca-4638-eefb-bd470acc6514"
   },
   "outputs": [
    {
     "data": {
      "text/html": [
       "<div>\n",
       "<style scoped>\n",
       "    .dataframe tbody tr th:only-of-type {\n",
       "        vertical-align: middle;\n",
       "    }\n",
       "\n",
       "    .dataframe tbody tr th {\n",
       "        vertical-align: top;\n",
       "    }\n",
       "\n",
       "    .dataframe thead th {\n",
       "        text-align: right;\n",
       "    }\n",
       "</style>\n",
       "<table border=\"1\" class=\"dataframe\">\n",
       "  <thead>\n",
       "    <tr style=\"text-align: right;\">\n",
       "      <th></th>\n",
       "      <th>Unnamed: 0</th>\n",
       "      <th>r2</th>\n",
       "      <th>rmse</th>\n",
       "    </tr>\n",
       "  </thead>\n",
       "  <tbody>\n",
       "    <tr>\n",
       "      <th>0</th>\n",
       "      <td>0</td>\n",
       "      <td>9480.987058</td>\n",
       "      <td>-10.062566</td>\n",
       "    </tr>\n",
       "    <tr>\n",
       "      <th>1</th>\n",
       "      <td>1</td>\n",
       "      <td>5418.706545</td>\n",
       "      <td>-5.322633</td>\n",
       "    </tr>\n",
       "    <tr>\n",
       "      <th>2</th>\n",
       "      <td>2</td>\n",
       "      <td>2995.494990</td>\n",
       "      <td>-2.495191</td>\n",
       "    </tr>\n",
       "    <tr>\n",
       "      <th>3</th>\n",
       "      <td>3</td>\n",
       "      <td>1657.343597</td>\n",
       "      <td>-0.933815</td>\n",
       "    </tr>\n",
       "    <tr>\n",
       "      <th>4</th>\n",
       "      <td>4</td>\n",
       "      <td>1091.139764</td>\n",
       "      <td>-0.273159</td>\n",
       "    </tr>\n",
       "  </tbody>\n",
       "</table>\n",
       "</div>"
      ],
      "text/plain": [
       "   Unnamed: 0           r2       rmse\n",
       "0           0  9480.987058 -10.062566\n",
       "1           1  5418.706545  -5.322633\n",
       "2           2  2995.494990  -2.495191\n",
       "3           3  1657.343597  -0.933815\n",
       "4           4  1091.139764  -0.273159"
      ]
     },
     "execution_count": 9,
     "metadata": {
      "tags": []
     },
     "output_type": "execute_result"
    }
   ],
   "source": [
    "#Storing the results\n",
    "\n",
    "values.to_csv('/content/gdrive/My Drive/Colab Notebooks/values_all.csv')\n",
    "values_all = pd.read_csv('/content/gdrive/My Drive/Colab Notebooks/values_all.csv')\n",
    "values_all.head()\n"
   ]
  },
  {
   "cell_type": "code",
   "execution_count": 10,
   "metadata": {
    "colab": {
     "base_uri": "https://localhost:8080/",
     "height": 297
    },
    "colab_type": "code",
    "executionInfo": {
     "elapsed": 1503,
     "status": "ok",
     "timestamp": 1566520432713,
     "user": {
      "displayName": "SAMUEL HERICLES SOUZA SILVEIRA UFC",
      "photoUrl": "",
      "userId": "12708602358479385648"
     },
     "user_tz": 180
    },
    "id": "dBrQ06xS4iJM",
    "outputId": "6d8ea0d8-8a03-423e-cbaf-4db1032d8521"
   },
   "outputs": [
    {
     "data": {
      "text/html": [
       "<div>\n",
       "<style scoped>\n",
       "    .dataframe tbody tr th:only-of-type {\n",
       "        vertical-align: middle;\n",
       "    }\n",
       "\n",
       "    .dataframe tbody tr th {\n",
       "        vertical-align: top;\n",
       "    }\n",
       "\n",
       "    .dataframe thead th {\n",
       "        text-align: right;\n",
       "    }\n",
       "</style>\n",
       "<table border=\"1\" class=\"dataframe\">\n",
       "  <thead>\n",
       "    <tr style=\"text-align: right;\">\n",
       "      <th></th>\n",
       "      <th>Unnamed: 0</th>\n",
       "      <th>r2</th>\n",
       "      <th>rmse</th>\n",
       "    </tr>\n",
       "  </thead>\n",
       "  <tbody>\n",
       "    <tr>\n",
       "      <th>count</th>\n",
       "      <td>196.00000</td>\n",
       "      <td>196.000000</td>\n",
       "      <td>196.000000</td>\n",
       "    </tr>\n",
       "    <tr>\n",
       "      <th>mean</th>\n",
       "      <td>97.50000</td>\n",
       "      <td>2050.672659</td>\n",
       "      <td>-1.392757</td>\n",
       "    </tr>\n",
       "    <tr>\n",
       "      <th>std</th>\n",
       "      <td>56.72448</td>\n",
       "      <td>2471.392391</td>\n",
       "      <td>2.883660</td>\n",
       "    </tr>\n",
       "    <tr>\n",
       "      <th>min</th>\n",
       "      <td>0.00000</td>\n",
       "      <td>801.867932</td>\n",
       "      <td>-10.647859</td>\n",
       "    </tr>\n",
       "    <tr>\n",
       "      <th>25%</th>\n",
       "      <td>48.75000</td>\n",
       "      <td>820.965218</td>\n",
       "      <td>-1.053257</td>\n",
       "    </tr>\n",
       "    <tr>\n",
       "      <th>50%</th>\n",
       "      <td>97.50000</td>\n",
       "      <td>857.270848</td>\n",
       "      <td>-0.000277</td>\n",
       "    </tr>\n",
       "    <tr>\n",
       "      <th>75%</th>\n",
       "      <td>146.25000</td>\n",
       "      <td>1759.709170</td>\n",
       "      <td>0.042085</td>\n",
       "    </tr>\n",
       "    <tr>\n",
       "      <th>max</th>\n",
       "      <td>195.00000</td>\n",
       "      <td>9982.602744</td>\n",
       "      <td>0.064368</td>\n",
       "    </tr>\n",
       "  </tbody>\n",
       "</table>\n",
       "</div>"
      ],
      "text/plain": [
       "       Unnamed: 0           r2        rmse\n",
       "count   196.00000   196.000000  196.000000\n",
       "mean     97.50000  2050.672659   -1.392757\n",
       "std      56.72448  2471.392391    2.883660\n",
       "min       0.00000   801.867932  -10.647859\n",
       "25%      48.75000   820.965218   -1.053257\n",
       "50%      97.50000   857.270848   -0.000277\n",
       "75%     146.25000  1759.709170    0.042085\n",
       "max     195.00000  9982.602744    0.064368"
      ]
     },
     "execution_count": 10,
     "metadata": {
      "tags": []
     },
     "output_type": "execute_result"
    }
   ],
   "source": [
    "values_all.describe()"
   ]
  },
  {
   "cell_type": "markdown",
   "metadata": {
    "colab_type": "text",
    "id": "U1EGjh_94ddD"
   },
   "source": [
    "#Ploting the results"
   ]
  },
  {
   "cell_type": "code",
   "execution_count": 37,
   "metadata": {
    "colab": {
     "base_uri": "https://localhost:8080/",
     "height": 446
    },
    "colab_type": "code",
    "executionInfo": {
     "elapsed": 2023,
     "status": "ok",
     "timestamp": 1566522142369,
     "user": {
      "displayName": "SAMUEL HERICLES SOUZA SILVEIRA UFC",
      "photoUrl": "",
      "userId": "12708602358479385648"
     },
     "user_tz": 180
    },
    "id": "hm1xp6xVa7tC",
    "outputId": "79e8dd46-9a09-40b5-c3c8-a50bb3dfc7d7"
   },
   "outputs": [
    {
     "data": {
      "image/png": "[encoded data removed]",
      "text/plain": [
       "<Figure size 1080x504 with 2 Axes>"
      ]
     },
     "metadata": {
      "tags": []
     },
     "output_type": "display_data"
    }
   ],
   "source": [
    "plt.title('Result with all variables')\n",
    "\n",
    "plt.subplot(2, 1, 1)\n",
    "values_all.r2.plot.hist(bins=40,edgecolor=\"black\")\n",
    "plt.xlabel('RMSE score')\n",
    "\n",
    "plt.subplot(2, 1, 2)\n",
    "values_all.rmse.plot.hist(bins=40,edgecolor=\"black\")\n",
    "plt.xlabel('R² score')\n",
    "\n",
    "plt.show()"
   ]
  },
  {
   "cell_type": "code",
   "execution_count": 0,
   "metadata": {
    "colab": {},
    "colab_type": "code",
    "id": "JDqBGl5DEWoP"
   },
   "outputs": [],
   "source": [
    "ax = plt.axes(projection='3d')\n",
    "ax.plot3D(values_all.i, values_all.j, values_all.r2, 'gray')\n",
    "ax.scatter3D(values_all.i, values_all.j, values_all.r2, c=values_all.r2, cmap='Greens');\n"
   ]
  },
  {
   "cell_type": "code",
   "execution_count": 0,
   "metadata": {
    "colab": {},
    "colab_type": "code",
    "id": "P26Yu58cFa-E"
   },
   "outputs": [],
   "source": [
    "ax = plt.axes(projection='3d')\n",
    "ax.plot3D(values_all.i, values_all.j, values_all.rmse, 'gray')\n",
    "ax.scatter3D(values_all.i, values_all.j, values_all.r2, c=values_all.rmse, cmap='Greens');"
   ]
  },
  {
   "cell_type": "markdown",
   "metadata": {
    "colab_type": "text",
    "id": "cxxquXfKDIsr"
   },
   "source": [
    "#Evaluating each dataset's parameter\n"
   ]
  },
  {
   "cell_type": "code",
   "execution_count": 0,
   "metadata": {
    "colab": {},
    "colab_type": "code",
    "id": "f2HRaIJdDGjV"
   },
   "outputs": [],
   "source": []
  },
  {
   "cell_type": "code",
   "execution_count": 0,
   "metadata": {
    "colab": {},
    "colab_type": "code",
    "id": "AVzQ6JYHDOnr"
   },
   "outputs": [],
   "source": [
    "#Inputs\n",
    "var_temp_inst     = new_dataset_test_train[['temp_inst']]\n",
    "var_umid_inst     = new_dataset_test_train[['umid_inst']]\n",
    "var_dew_inst      = new_dataset_test_train[['pto_orvalho_inst']] \n",
    "var_hour          = new_dataset_test_train[['hora']]\n",
    "var_pressure      = new_dataset_test_train[['pressao']]\n",
    "var_wind_guest    = new_dataset_test_train[['vento_rajada']]\n",
    "var_radiation     = new_dataset_test_train[['radiacao']]\n",
    "var_precipitation = new_dataset_test_train[['precipitacao']]\n",
    "var_diff_temp      = new_dataset_test_train[['diff_temp']]\n",
    "var_diff_umid      = new_dataset_test_train[['diff_umid']]\n",
    "var_diff_dew       = new_dataset_test_train[['diff_dew']]\n",
    "var_diff_pressure  = new_dataset_test_train[['diff_pressure']]\n",
    "\n",
    "#Outputs\n",
    "var_wind_speed =new_dataset_test_train.vento_vel"
   ]
  },
  {
   "cell_type": "code",
   "execution_count": 0,
   "metadata": {
    "colab": {},
    "colab_type": "code",
    "id": "jjIoPLunDUVA"
   },
   "outputs": [],
   "source": [
    "# Function for try mlp with each parameters\n",
    "def net_mlp(i,j):\n",
    "    \n",
    "    warnings.filterwarnings('ignore')\n",
    "    \n",
    "    MLP_reg = MLPRegressor(hidden_layer_sizes = (i*30,j*30), activation='tanh',\n",
    "                      verbose=False, warm_start=False,\n",
    "                      max_iter = 300)\n",
    "\n",
    "    return MLP_reg  \n",
    "\n",
    "  \n",
    "# Function for measure results\n",
    "def train_test_score_var(x,i,j):\n",
    "    \n",
    "    MLP_reg = net_mlp(i,j)\n",
    "    \n",
    "    train_x,test_x,train_y,test_y = train_test_split(x,var_wind_speed,\n",
    "                                                     test_size=0.2)\n",
    "    \n",
    "    MLP_reg.fit(train_x,train_y)#Kernel default : RBF \n",
    "    predicts = MLP_reg.predict(test_x)\n",
    "    \n",
    "    rmse = math.sqrt(mean_squared_error(test_y,predicts))\n",
    "    score_r2 = r2_score(test_y,predicts)\n",
    "  \n",
    "    return score_r2,rmse\n",
    "  \n",
    "  \n",
    "# Do net_mlp function with each parameters  \n",
    "def testing_all_of_them(i,j):\n",
    "    \n",
    "    r2_temp_inst,rmse_temp_inst            = train_test_score_var(var_temp_inst,i,j) \n",
    "    r2_umid_inst,rmse_umid_inst            = train_test_score_var(var_umid_inst,i,j)\n",
    "    r2_pto_orvalho_inst,rmse_pto_orvalho   = train_test_score_var(var_dew_inst,i,j)\n",
    "    r2_hour,rmse_hour                      = train_test_score_var(var_hour,i,j) \n",
    "    r2_pressure,rmse_pressure              = train_test_score_var(var_pressure,i,j) \n",
    "    r2_wind_guest,rmse_wind_guest          = train_test_score_var(var_wind_guest,i,j)\n",
    "    r2_radiation,rmse_radiation            = train_test_score_var(var_radiation,i,j)\n",
    "    r2_precipitation,rmse_precipitation    = train_test_score_var(var_precipitation,i,j)\n",
    "    r2_diff_temp,rmse_diff_temp              = train_test_score_var(var_diff_temp,i,j) \n",
    "    r2_diff_umid,rmse_diff_umid              = train_test_score_var(var_diff_umid,i,j)\n",
    "    r2_diff_dew,rmse_diff_dew                = train_test_score_var(var_diff_dew,i,j)\n",
    "    r2_diff_pressure,rmse_diff_pressure      = train_test_score_var(var_diff_pressure,i,j)\n",
    "  \n",
    "    return r2_temp_inst,r2_umid_inst,r2_pto_orvalho_inst,r2_hour,r2_pressure,r2_wind_geust,r2_radiation,r2_precipitation,r2_diff_temp,r2_diff_umid,r2_diff_dew,r2_diff_pressure,rmse_temp_inst ,rmse_umid_inst ,rmse_pto_orvalho ,rmse_hour,rmse_pressure ,rmse_wind_guest,rmse_radiation ,rmse_precipitation,rmse_diff_temp ,rmse_diff_umid ,rmse_diff_dew,rmse_diff_pressure \n",
    "  \n",
    "  "
   ]
  },
  {
   "cell_type": "code",
   "execution_count": 49,
   "metadata": {
    "colab": {
     "base_uri": "https://localhost:8080/",
     "height": 69
    },
    "colab_type": "code",
    "executionInfo": {
     "elapsed": 1164,
     "status": "ok",
     "timestamp": 1566523192009,
     "user": {
      "displayName": "SAMUEL HERICLES SOUZA SILVEIRA UFC",
      "photoUrl": "",
      "userId": "12708602358479385648"
     },
     "user_tz": 180
    },
    "id": "m0AyVO09DLx6",
    "outputId": "c071ac22-e081-42f1-cd93-6ec298f8a3fe"
   },
   "outputs": [
    {
     "data": {
      "text/html": [
       "<div>\n",
       "<style scoped>\n",
       "    .dataframe tbody tr th:only-of-type {\n",
       "        vertical-align: middle;\n",
       "    }\n",
       "\n",
       "    .dataframe tbody tr th {\n",
       "        vertical-align: top;\n",
       "    }\n",
       "\n",
       "    .dataframe thead th {\n",
       "        text-align: right;\n",
       "    }\n",
       "</style>\n",
       "<table border=\"1\" class=\"dataframe\">\n",
       "  <thead>\n",
       "    <tr style=\"text-align: right;\">\n",
       "      <th></th>\n",
       "      <th>r2_temp_inst</th>\n",
       "      <th>rmse_temp_inst</th>\n",
       "      <th>r2_umid_inst</th>\n",
       "      <th>rmse_umid_inst</th>\n",
       "      <th>r2_pto_orvalho_inst</th>\n",
       "      <th>rmse_pto_orvalho</th>\n",
       "      <th>r2_hour</th>\n",
       "      <th>rmse_hour</th>\n",
       "      <th>r2_pressure</th>\n",
       "      <th>rmse_pressure</th>\n",
       "      <th>r2_wind_guest</th>\n",
       "      <th>rmse_wind_guest</th>\n",
       "      <th>r2_radiation</th>\n",
       "      <th>rmse_radiation</th>\n",
       "      <th>r2_precipitation</th>\n",
       "      <th>rmse_precipitation</th>\n",
       "      <th>r2_diff_temp</th>\n",
       "      <th>rmse_diff_temp</th>\n",
       "      <th>r2_diff_umid</th>\n",
       "      <th>rmse_diff_umid</th>\n",
       "      <th>r2_diff_dew</th>\n",
       "      <th>rmse_diff_dew</th>\n",
       "      <th>r2_diff_pressure</th>\n",
       "      <th>rmse_diff_pressure</th>\n",
       "    </tr>\n",
       "  </thead>\n",
       "  <tbody>\n",
       "  </tbody>\n",
       "</table>\n",
       "</div>"
      ],
      "text/plain": [
       "Empty DataFrame\n",
       "Columns: [r2_temp_inst, rmse_temp_inst, r2_umid_inst, rmse_umid_inst, r2_pto_orvalho_inst, rmse_pto_orvalho, r2_hour, rmse_hour, r2_pressure, rmse_pressure, r2_wind_guest, rmse_wind_guest, r2_radiation, rmse_radiation, r2_precipitation, rmse_precipitation, r2_diff_temp, rmse_diff_temp, r2_diff_umid, rmse_diff_umid, r2_diff_dew, rmse_diff_dew, r2_diff_pressure, rmse_diff_pressure]\n",
       "Index: []"
      ]
     },
     "execution_count": 49,
     "metadata": {
      "tags": []
     },
     "output_type": "execute_result"
    }
   ],
   "source": [
    "values_for_each_var = pd.DataFrame(columns=[\n",
    "    'r2_temp_inst','rmse_temp_inst',          \n",
    "    'r2_umid_inst','rmse_umid_inst',       \n",
    "    'r2_pto_orvalho_inst','rmse_pto_orvalho',   \n",
    "    'r2_hour','rmse_hour',                     \n",
    "    'r2_pressure','rmse_pressure',             \n",
    "    'r2_wind_guest','rmse_wind_guest',          \n",
    "    'r2_radiation','rmse_radiation',          \n",
    "    'r2_precipitation','rmse_precipitation',    \n",
    "    'r2_diff_temp','rmse_diff_temp',               \n",
    "    'r2_diff_umid','rmse_diff_umid',              \n",
    "    'r2_diff_dew','rmse_diff_dew',                \n",
    "    'r2_diff_pressure','rmse_diff_pressure'     ])\n",
    "\n",
    "values_for_each_var.head()\n"
   ]
  },
  {
   "cell_type": "markdown",
   "metadata": {
    "colab_type": "text",
    "id": "dwUTzbJW-GNs"
   },
   "source": [
    "#Cycle for try differents neural networks structures with each variables\n",
    "\n",
    "\n"
   ]
  },
  {
   "cell_type": "code",
   "execution_count": 0,
   "metadata": {
    "colab": {
     "base_uri": "https://localhost:8080/",
     "height": 56
    },
    "colab_type": "code",
    "executionInfo": {
     "elapsed": 684,
     "status": "ok",
     "timestamp": 1566409892533,
     "user": {
      "displayName": "SAMUEL HERICLES SOUZA SILVEIRA UFC",
      "photoUrl": "",
      "userId": "12708602358479385648"
     },
     "user_tz": 180
    },
    "id": "RXbeUb-KC9OW",
    "outputId": "b456c815-060b-485c-fbae-cad9aebef6f9"
   },
   "outputs": [
    {
     "data": {
      "text/plain": [
       "'\\nimport time \\nstart = time.time()\\na = 0\\nfor i in range(1,15):\\n    for j in range(1,15): \\n           values_for_each_var.loc[a] = testing_all_of_them(i,j)\\n           a = a + 1\\n           print(a)          \\nend = time.time()\\nprint(start-end)\\nvalues_for_each_var.head()\\n'"
      ]
     },
     "execution_count": 44,
     "metadata": {
      "tags": []
     },
     "output_type": "execute_result"
    }
   ],
   "source": [
    "\n",
    "import time \n",
    "start = time.time()\n",
    "a = 0\n",
    "for i in range(1,15):\n",
    "    for j in range(1,15): \n",
    "           values_for_each_var.loc[a] = testing_all_of_them(i,j)          \n",
    "end = time.time()\n",
    "print(start-end)\n"
   ]
  },
  {
   "cell_type": "code",
   "execution_count": 0,
   "metadata": {
    "colab": {
     "base_uri": "https://localhost:8080/",
     "height": 241
    },
    "colab_type": "code",
    "executionInfo": {
     "elapsed": 684,
     "status": "ok",
     "timestamp": 1566409940107,
     "user": {
      "displayName": "SAMUEL HERICLES SOUZA SILVEIRA UFC",
      "photoUrl": "",
      "userId": "12708602358479385648"
     },
     "user_tz": 180
    },
    "id": "GIRntLo3QqoS",
    "outputId": "2d6ce85f-0114-41d9-8ec5-2cf29fa4b27d"
   },
   "outputs": [
    {
     "data": {
      "text/html": [
       "<div>\n",
       "<style scoped>\n",
       "    .dataframe tbody tr th:only-of-type {\n",
       "        vertical-align: middle;\n",
       "    }\n",
       "\n",
       "    .dataframe tbody tr th {\n",
       "        vertical-align: top;\n",
       "    }\n",
       "\n",
       "    .dataframe thead th {\n",
       "        text-align: right;\n",
       "    }\n",
       "</style>\n",
       "<table border=\"1\" class=\"dataframe\">\n",
       "  <thead>\n",
       "    <tr style=\"text-align: right;\">\n",
       "      <th></th>\n",
       "      <th>Unnamed: 0</th>\n",
       "      <th>r2_temp_inst</th>\n",
       "      <th>r2_umid_inst</th>\n",
       "      <th>r2_pto_orvalho_inst</th>\n",
       "      <th>r2_hora</th>\n",
       "      <th>r2_pressao</th>\n",
       "      <th>r2_vento_rajada</th>\n",
       "      <th>r2_radiacao</th>\n",
       "      <th>r2_precipitacao</th>\n",
       "      <th>r2_diff_temp</th>\n",
       "      <th>r2_diff_umid</th>\n",
       "      <th>r2_diff_dew</th>\n",
       "      <th>r2_diff_pressure</th>\n",
       "    </tr>\n",
       "  </thead>\n",
       "  <tbody>\n",
       "    <tr>\n",
       "      <th>0</th>\n",
       "      <td>0</td>\n",
       "      <td>-5.412477</td>\n",
       "      <td>-5.539465</td>\n",
       "      <td>-5.686681</td>\n",
       "      <td>-5.760102</td>\n",
       "      <td>-5.913876</td>\n",
       "      <td>-5.681850</td>\n",
       "      <td>-4.918089</td>\n",
       "      <td>-4.854215</td>\n",
       "      <td>-5.104893</td>\n",
       "      <td>-5.861467</td>\n",
       "      <td>-5.710122</td>\n",
       "      <td>-5.198830</td>\n",
       "    </tr>\n",
       "    <tr>\n",
       "      <th>1</th>\n",
       "      <td>1</td>\n",
       "      <td>-1.108006</td>\n",
       "      <td>-1.352987</td>\n",
       "      <td>-1.402941</td>\n",
       "      <td>-1.088412</td>\n",
       "      <td>-1.340164</td>\n",
       "      <td>-1.156745</td>\n",
       "      <td>-0.916063</td>\n",
       "      <td>-1.139426</td>\n",
       "      <td>-1.013111</td>\n",
       "      <td>-1.140420</td>\n",
       "      <td>-1.119793</td>\n",
       "      <td>-1.148450</td>\n",
       "    </tr>\n",
       "    <tr>\n",
       "      <th>2</th>\n",
       "      <td>2</td>\n",
       "      <td>-0.164122</td>\n",
       "      <td>-0.167110</td>\n",
       "      <td>-0.160735</td>\n",
       "      <td>-0.081864</td>\n",
       "      <td>-0.151960</td>\n",
       "      <td>-0.194162</td>\n",
       "      <td>-0.059088</td>\n",
       "      <td>-0.071175</td>\n",
       "      <td>-0.131540</td>\n",
       "      <td>-0.095442</td>\n",
       "      <td>-0.084616</td>\n",
       "      <td>-0.035282</td>\n",
       "    </tr>\n",
       "    <tr>\n",
       "      <th>3</th>\n",
       "      <td>3</td>\n",
       "      <td>-0.008000</td>\n",
       "      <td>-0.036855</td>\n",
       "      <td>-0.012773</td>\n",
       "      <td>-0.029954</td>\n",
       "      <td>-0.000593</td>\n",
       "      <td>-0.031742</td>\n",
       "      <td>-0.000922</td>\n",
       "      <td>-0.014247</td>\n",
       "      <td>-0.000503</td>\n",
       "      <td>-0.003283</td>\n",
       "      <td>-0.011419</td>\n",
       "      <td>-0.015019</td>\n",
       "    </tr>\n",
       "    <tr>\n",
       "      <th>4</th>\n",
       "      <td>4</td>\n",
       "      <td>-0.005075</td>\n",
       "      <td>-0.001524</td>\n",
       "      <td>-0.004946</td>\n",
       "      <td>-0.004633</td>\n",
       "      <td>-0.000935</td>\n",
       "      <td>-0.001429</td>\n",
       "      <td>0.025426</td>\n",
       "      <td>-0.005318</td>\n",
       "      <td>-0.000428</td>\n",
       "      <td>-0.003171</td>\n",
       "      <td>-0.009936</td>\n",
       "      <td>-0.001757</td>\n",
       "    </tr>\n",
       "  </tbody>\n",
       "</table>\n",
       "</div>"
      ],
      "text/plain": [
       "   Unnamed: 0  r2_temp_inst  ...  r2_diff_dew  r2_diff_pressure\n",
       "0           0     -5.412477  ...    -5.710122         -5.198830\n",
       "1           1     -1.108006  ...    -1.119793         -1.148450\n",
       "2           2     -0.164122  ...    -0.084616         -0.035282\n",
       "3           3     -0.008000  ...    -0.011419         -0.015019\n",
       "4           4     -0.005075  ...    -0.009936         -0.001757\n",
       "\n",
       "[5 rows x 13 columns]"
      ]
     },
     "execution_count": 45,
     "metadata": {
      "tags": []
     },
     "output_type": "execute_result"
    }
   ],
   "source": [
    "#Storing the results\n",
    "values_for_each_var.to_csv('/content/gdrive/My Drive/Colab Notebooks/values_for_each_var.csv')\n",
    "values_for_each_var = pd.read_csv('/content/gdrive/My Drive/Colab Notebooks/values_for_each_var.csv')\n",
    "values_for_each_var.head()"
   ]
  },
  {
   "cell_type": "markdown",
   "metadata": {
    "colab_type": "text",
    "id": "Mvz3GIUq-d9c"
   },
   "source": [
    "#Ploting results"
   ]
  },
  {
   "cell_type": "code",
   "execution_count": 0,
   "metadata": {
    "colab": {
     "base_uri": "https://localhost:8080/",
     "height": 342
    },
    "colab_type": "code",
    "executionInfo": {
     "elapsed": 2332,
     "status": "ok",
     "timestamp": 1566411434575,
     "user": {
      "displayName": "SAMUEL HERICLES SOUZA SILVEIRA UFC",
      "photoUrl": "",
      "userId": "12708602358479385648"
     },
     "user_tz": 180
    },
    "id": "Cvbxut4FQmb6",
    "outputId": "17974610-0495-4118-f17d-aecfd3cf87d5"
   },
   "outputs": [
    {
     "data": {
      "text/plain": [
       "<matplotlib.axes._subplots.AxesSubplot at 0x7f56d21ce470>"
      ]
     },
     "execution_count": 49,
     "metadata": {
      "tags": []
     },
     "output_type": "execute_result"
    },
    {
     "data": {
      "image/png": "[encoded data removed]",
      "text/plain": [
       "<Figure size 864x360 with 1 Axes>"
      ]
     },
     "metadata": {
      "tags": []
     },
     "output_type": "display_data"
    }
   ],
   "source": [
    "plt.title(\"Tempeture inst results\")\n",
    "\n",
    "plt.subplot(2,1,1)\n",
    "values_for_each_var.rmse_temp_inst.plot.hist(bins=40,edgecolor=\"black\")\n",
    "plt.xlabel('RMSE score')\n",
    "\n",
    "plt.subplot(2,1,2)\n",
    "values_for_each_var.r2_temp_inst.plot.hist(bins=40,edgecolor=\"black\")\n",
    "plt.xlabel('R² score')\n",
    "\n",
    "plt.show()\n",
    "\n"
   ]
  },
  {
   "cell_type": "code",
   "execution_count": 0,
   "metadata": {
    "colab": {
     "base_uri": "https://localhost:8080/",
     "height": 342
    },
    "colab_type": "code",
    "executionInfo": {
     "elapsed": 969,
     "status": "ok",
     "timestamp": 1566411542302,
     "user": {
      "displayName": "SAMUEL HERICLES SOUZA SILVEIRA UFC",
      "photoUrl": "",
      "userId": "12708602358479385648"
     },
     "user_tz": 180
    },
    "id": "RoaPfBTtQqq7",
    "outputId": "50566f5f-7ae6-4099-a022-73849058726c"
   },
   "outputs": [
    {
     "data": {
      "text/plain": [
       "<matplotlib.axes._subplots.AxesSubplot at 0x7f56d2075a20>"
      ]
     },
     "execution_count": 50,
     "metadata": {
      "tags": []
     },
     "output_type": "execute_result"
    },
    {
     "data": {
      "image/png": "[encoded data removed]",
      "text/plain": [
       "<Figure size 864x360 with 1 Axes>"
      ]
     },
     "metadata": {
      "tags": []
     },
     "output_type": "display_data"
    }
   ],
   "source": [
    "plt.title(\"Humidity inst results\")\n",
    "\n",
    "plt.subplot(2,1,1)\n",
    "values_for_each_var.rmse_umid_inst.plot.hist(bins=40,edgecolor=\"black\")\n",
    "plt.xlabel('RMSE score')\n",
    "\n",
    "plt.subplot(2,1,2)\n",
    "values_for_each_var.r2_umid_inst.plot.hist(bins=40,edgecolor=\"black\")\n",
    "plt.xlabel('R² score')\n",
    "\n",
    "plt.show()\n"
   ]
  },
  {
   "cell_type": "code",
   "execution_count": 0,
   "metadata": {
    "colab": {
     "base_uri": "https://localhost:8080/",
     "height": 342
    },
    "colab_type": "code",
    "executionInfo": {
     "elapsed": 1257,
     "status": "ok",
     "timestamp": 1566411542612,
     "user": {
      "displayName": "SAMUEL HERICLES SOUZA SILVEIRA UFC",
      "photoUrl": "",
      "userId": "12708602358479385648"
     },
     "user_tz": 180
    },
    "id": "BmkoCl0yQqwU",
    "outputId": "0b0b6bf9-738b-446b-9e35-83f8f45713b5"
   },
   "outputs": [
    {
     "data": {
      "text/plain": [
       "<matplotlib.axes._subplots.AxesSubplot at 0x7f56d1f93dd8>"
      ]
     },
     "execution_count": 51,
     "metadata": {
      "tags": []
     },
     "output_type": "execute_result"
    },
    {
     "data": {
      "image/png": "[encoded data removed]",
      "text/plain": [
       "<Figure size 864x360 with 1 Axes>"
      ]
     },
     "metadata": {
      "tags": []
     },
     "output_type": "display_data"
    }
   ],
   "source": [
    "plt.title(\"dew results\")\n",
    "\n",
    "plt.subplot(2,1,1)\n",
    "values_for_each_var.rmse_pto_orvalho_inst.plot.hist(bins=40,edgecolor=\"black\")\n",
    "plt.xlabel('RMSE score')\n",
    "\n",
    "plt.subplot(2,1,2)\n",
    "values_for_each_var.r2_pto_orvalho_inst.plot.hist(bins=40,edgecolor=\"black\")\n",
    "plt.xlabel('R² score')\n",
    "\n",
    "plt.show()"
   ]
  },
  {
   "cell_type": "code",
   "execution_count": 0,
   "metadata": {
    "colab": {
     "base_uri": "https://localhost:8080/",
     "height": 342
    },
    "colab_type": "code",
    "executionInfo": {
     "elapsed": 1575,
     "status": "ok",
     "timestamp": 1566411542945,
     "user": {
      "displayName": "SAMUEL HERICLES SOUZA SILVEIRA UFC",
      "photoUrl": "",
      "userId": "12708602358479385648"
     },
     "user_tz": 180
    },
    "id": "KrrsNlZDQq1q",
    "outputId": "56de4608-4c3a-43fc-8e8d-cf862bd12b83"
   },
   "outputs": [
    {
     "data": {
      "text/plain": [
       "<matplotlib.axes._subplots.AxesSubplot at 0x7f56d1fa8780>"
      ]
     },
     "execution_count": 52,
     "metadata": {
      "tags": []
     },
     "output_type": "execute_result"
    },
    {
     "data": {
      "image/png": "[encoded data removed]",
      "text/plain": [
       "<Figure size 864x360 with 1 Axes>"
      ]
     },
     "metadata": {
      "tags": []
     },
     "output_type": "display_data"
    }
   ],
   "source": [
    "plt.title(\"hours results\")\n",
    "\n",
    "plt.subplot(2,1,1)\n",
    "values_for_each_var.rmse_hour.plot.hist(bins=40,edgecolor=\"black\")\n",
    "plt.xlabel('RMSE score')\n",
    "\n",
    "plt.subplot(2,1,2)\n",
    "values_for_each_var.r2_hour.plot.hist(bins=40,edgecolor=\"black\")\n",
    "plt.xlabel('R² score')\n",
    "\n",
    "plt.show()"
   ]
  },
  {
   "cell_type": "code",
   "execution_count": 0,
   "metadata": {
    "colab": {
     "base_uri": "https://localhost:8080/",
     "height": 342
    },
    "colab_type": "code",
    "executionInfo": {
     "elapsed": 1906,
     "status": "ok",
     "timestamp": 1566411543289,
     "user": {
      "displayName": "SAMUEL HERICLES SOUZA SILVEIRA UFC",
      "photoUrl": "",
      "userId": "12708602358479385648"
     },
     "user_tz": 180
    },
    "id": "K0EbTE_kQq9Z",
    "outputId": "5b035cd7-44be-45f8-b5e9-13099fc6a1b5"
   },
   "outputs": [
    {
     "data": {
      "text/plain": [
       "<matplotlib.axes._subplots.AxesSubplot at 0x7f56d1e13eb8>"
      ]
     },
     "execution_count": 53,
     "metadata": {
      "tags": []
     },
     "output_type": "execute_result"
    },
    {
     "data": {
      "image/png": "[encoded data removed]",
      "text/plain": [
       "<Figure size 864x360 with 1 Axes>"
      ]
     },
     "metadata": {
      "tags": []
     },
     "output_type": "display_data"
    }
   ],
   "source": [
    "plt.title(\"pressure results\")\n",
    "\n",
    "plt.subplot(2,1,1)\n",
    "values_for_each_var.rmse_pressure.plot.hist(bins=40,edgecolor=\"black\")\n",
    "plt.xlabel('RMSE score')\n",
    "\n",
    "plt.subplot(2,1,2)\n",
    "values_for_each_var.r2_pressure.plot.hist(bins=40,edgecolor=\"black\")\n",
    "plt.xlabel('R² score')\n",
    "\n",
    "plt.show()"
   ]
  },
  {
   "cell_type": "code",
   "execution_count": 0,
   "metadata": {
    "colab": {
     "base_uri": "https://localhost:8080/",
     "height": 342
    },
    "colab_type": "code",
    "executionInfo": {
     "elapsed": 1905,
     "status": "ok",
     "timestamp": 1566411543304,
     "user": {
      "displayName": "SAMUEL HERICLES SOUZA SILVEIRA UFC",
      "photoUrl": "",
      "userId": "12708602358479385648"
     },
     "user_tz": 180
    },
    "id": "15iHfmTGQq7o",
    "outputId": "c8d6684b-5ae3-4492-80b9-949bd41febd7"
   },
   "outputs": [
    {
     "data": {
      "text/plain": [
       "<matplotlib.axes._subplots.AxesSubplot at 0x7f56d1d67160>"
      ]
     },
     "execution_count": 54,
     "metadata": {
      "tags": []
     },
     "output_type": "execute_result"
    },
    {
     "data": {
      "image/png": "[encoded data removed]",
      "text/plain": [
       "<Figure size 864x360 with 1 Axes>"
      ]
     },
     "metadata": {
      "tags": []
     },
     "output_type": "display_data"
    }
   ],
   "source": [
    "plt.title(\"wind guest results\")\n",
    "\n",
    "plt.subplot(2,1,1)\n",
    "values_for_each_var.rmse_wind_guest.plot.hist(bins=40,edgecolor=\"black\")\n",
    "plt.xlabel('RMSE score')\n",
    "\n",
    "plt.subplot(2,1,2)\n",
    "values_for_each_var.r2_wind_guest.plot.hist(bins=40,edgecolor=\"black\")\n",
    "plt.xlabel('R² score')\n",
    "\n",
    "plt.show()"
   ]
  },
  {
   "cell_type": "code",
   "execution_count": 0,
   "metadata": {
    "colab": {
     "base_uri": "https://localhost:8080/",
     "height": 342
    },
    "colab_type": "code",
    "executionInfo": {
     "elapsed": 2368,
     "status": "ok",
     "timestamp": 1566411543779,
     "user": {
      "displayName": "SAMUEL HERICLES SOUZA SILVEIRA UFC",
      "photoUrl": "",
      "userId": "12708602358479385648"
     },
     "user_tz": 180
    },
    "id": "kAoTsFnfQq5I",
    "outputId": "aa28b80f-f642-4c2e-9199-36a5b90e195a"
   },
   "outputs": [
    {
     "data": {
      "text/plain": [
       "<matplotlib.axes._subplots.AxesSubplot at 0x7f56d1ca96d8>"
      ]
     },
     "execution_count": 55,
     "metadata": {
      "tags": []
     },
     "output_type": "execute_result"
    },
    {
     "data": {
      "image/png": "[encoded data removed]",
      "text/plain": [
       "<Figure size 864x360 with 1 Axes>"
      ]
     },
     "metadata": {
      "tags": []
     },
     "output_type": "display_data"
    }
   ],
   "source": [
    "plt.title(\"radiation results\")\n",
    "\n",
    "plt.subplot(2,1,1)\n",
    "values_for_each_var.rmse_radiation.plot.hist(bins=40,edgecolor=\"black\")\n",
    "plt.xlabel('RMSE score')\n",
    "\n",
    "plt.subplot(2,1,2)\n",
    "values_for_each_var.r2_radiation.plot.hist(bins=40,edgecolor=\"black\")\n",
    "plt.xlabel('R² score')\n",
    "\n",
    "plt.show()"
   ]
  },
  {
   "cell_type": "code",
   "execution_count": 0,
   "metadata": {
    "colab": {
     "base_uri": "https://localhost:8080/",
     "height": 342
    },
    "colab_type": "code",
    "executionInfo": {
     "elapsed": 2818,
     "status": "ok",
     "timestamp": 1566411544241,
     "user": {
      "displayName": "SAMUEL HERICLES SOUZA SILVEIRA UFC",
      "photoUrl": "",
      "userId": "12708602358479385648"
     },
     "user_tz": 180
    },
    "id": "hVQbLDR7Qqzg",
    "outputId": "0d00bf47-3c19-453f-b8c0-e88a7c679368"
   },
   "outputs": [
    {
     "data": {
      "text/plain": [
       "<matplotlib.axes._subplots.AxesSubplot at 0x7f56d1fc2ac8>"
      ]
     },
     "execution_count": 56,
     "metadata": {
      "tags": []
     },
     "output_type": "execute_result"
    },
    {
     "data": {
      "image/png": "[encoded data removed]",
      "text/plain": [
       "<Figure size 864x360 with 1 Axes>"
      ]
     },
     "metadata": {
      "tags": []
     },
     "output_type": "display_data"
    }
   ],
   "source": [
    "plt.title(\"precipitation results\")\n",
    "\n",
    "plt.subplot(2,1,1)\n",
    "values_for_each_var.rmse_precipitation.plot.hist(bins=40,edgecolor=\"black\")\n",
    "plt.xlabel('RMSE score')\n",
    "\n",
    "plt.subplot(2,1,2)\n",
    "values_for_each_var.r2_precipitation.plot.hist(bins=40,edgecolor=\"black\")\n",
    "plt.xlabel('R² score')\n",
    "\n",
    "plt.show()"
   ]
  },
  {
   "cell_type": "code",
   "execution_count": 0,
   "metadata": {
    "colab": {
     "base_uri": "https://localhost:8080/",
     "height": 342
    },
    "colab_type": "code",
    "executionInfo": {
     "elapsed": 3295,
     "status": "ok",
     "timestamp": 1566411544731,
     "user": {
      "displayName": "SAMUEL HERICLES SOUZA SILVEIRA UFC",
      "photoUrl": "",
      "userId": "12708602358479385648"
     },
     "user_tz": 180
    },
    "id": "BS26fZxsQquA",
    "outputId": "b746e817-8754-4e27-c34c-6c7e20094a73"
   },
   "outputs": [
    {
     "data": {
      "text/plain": [
       "<matplotlib.axes._subplots.AxesSubplot at 0x7f56d1b70668>"
      ]
     },
     "execution_count": 57,
     "metadata": {
      "tags": []
     },
     "output_type": "execute_result"
    },
    {
     "data": {
      "image/png": "[encoded data removed]",
      "text/plain": [
       "<Figure size 864x360 with 1 Axes>"
      ]
     },
     "metadata": {
      "tags": []
     },
     "output_type": "display_data"
    }
   ],
   "source": [
    "plt.title(\"diff temp results\")\n",
    "\n",
    "plt.subplot(2,1,1)\n",
    "values_for_each_var.rmse_diff_temp.plot.hist(bins=40,edgecolor=\"black\")\n",
    "plt.xlabel('RMSE score')\n",
    "\n",
    "plt.subplot(2,1,2)\n",
    "values_for_each_var.r2_diff_temp.plot.hist(bins=40,edgecolor=\"black\")\n",
    "plt.xlabel('R² score')\n",
    "\n",
    "plt.show()"
   ]
  },
  {
   "cell_type": "code",
   "execution_count": 0,
   "metadata": {
    "colab": {
     "base_uri": "https://localhost:8080/",
     "height": 342
    },
    "colab_type": "code",
    "executionInfo": {
     "elapsed": 3291,
     "status": "ok",
     "timestamp": 1566411544733,
     "user": {
      "displayName": "SAMUEL HERICLES SOUZA SILVEIRA UFC",
      "photoUrl": "",
      "userId": "12708602358479385648"
     },
     "user_tz": 180
    },
    "id": "1Hdr0LD0ZjeU",
    "outputId": "0251e807-91da-4751-b7e4-85767ad519d5"
   },
   "outputs": [
    {
     "data": {
      "text/plain": [
       "<matplotlib.axes._subplots.AxesSubplot at 0x7f56d1b7e080>"
      ]
     },
     "execution_count": 58,
     "metadata": {
      "tags": []
     },
     "output_type": "execute_result"
    },
    {
     "data": {
      "image/png": "[encoded data removed]",
      "text/plain": [
       "<Figure size 864x360 with 1 Axes>"
      ]
     },
     "metadata": {
      "tags": []
     },
     "output_type": "display_data"
    }
   ],
   "source": [
    "plt.title(\"diff humidity results\")\n",
    "\n",
    "plt.subplot(2,1,1)\n",
    "values_for_each_var.rmse_diff_umid.plot.hist(bins=40,edgecolor=\"black\")\n",
    "plt.xlabel('RMSE score')\n",
    "\n",
    "plt.subplot(2,1,2)\n",
    "values_for_each_var.r2_diff_umid.plot.hist(bins=40,edgecolor=\"black\")\n",
    "plt.xlabel('R² score')\n",
    "\n",
    "plt.show()"
   ]
  },
  {
   "cell_type": "code",
   "execution_count": 0,
   "metadata": {
    "colab": {
     "base_uri": "https://localhost:8080/",
     "height": 342
    },
    "colab_type": "code",
    "executionInfo": {
     "elapsed": 3594,
     "status": "ok",
     "timestamp": 1566411545042,
     "user": {
      "displayName": "SAMUEL HERICLES SOUZA SILVEIRA UFC",
      "photoUrl": "",
      "userId": "12708602358479385648"
     },
     "user_tz": 180
    },
    "id": "a3NMEH8qZjbe",
    "outputId": "a1bae4e7-c8cd-4b78-df93-f6480aaabe94"
   },
   "outputs": [
    {
     "data": {
      "text/plain": [
       "<matplotlib.axes._subplots.AxesSubplot at 0x7f56d1a3e128>"
      ]
     },
     "execution_count": 59,
     "metadata": {
      "tags": []
     },
     "output_type": "execute_result"
    },
    {
     "data": {
      "image/png": "[encoded data removed]",
      "text/plain": [
       "<Figure size 864x360 with 1 Axes>"
      ]
     },
     "metadata": {
      "tags": []
     },
     "output_type": "display_data"
    }
   ],
   "source": [
    "plt.title(\"diff dew results\")\n",
    "\n",
    "plt.subplot(2,1,1)\n",
    "values_for_each_var.rmse_diff_dew.plot.hist(bins=40,edgecolor=\"black\")\n",
    "plt.xlabel('RMSE score')\n",
    "\n",
    "plt.subplot(2,1,2)\n",
    "values_for_each_var.r2_diff_dew.plot.hist(bins=40,edgecolor=\"black\")\n",
    "plt.xlabel('R² score')\n",
    "\n",
    "plt.show()"
   ]
  },
  {
   "cell_type": "code",
   "execution_count": 0,
   "metadata": {
    "colab": {
     "base_uri": "https://localhost:8080/",
     "height": 342
    },
    "colab_type": "code",
    "executionInfo": {
     "elapsed": 3896,
     "status": "ok",
     "timestamp": 1566411545349,
     "user": {
      "displayName": "SAMUEL HERICLES SOUZA SILVEIRA UFC",
      "photoUrl": "",
      "userId": "12708602358479385648"
     },
     "user_tz": 180
    },
    "id": "xBSsebizZjYG",
    "outputId": "a00284b0-349e-4d33-c66e-d792d799af45"
   },
   "outputs": [
    {
     "data": {
      "text/plain": [
       "<matplotlib.axes._subplots.AxesSubplot at 0x7f56d19ebbe0>"
      ]
     },
     "execution_count": 60,
     "metadata": {
      "tags": []
     },
     "output_type": "execute_result"
    },
    {
     "data": {
      "image/png": "[encoded data removed]",
      "text/plain": [
       "<Figure size 864x360 with 1 Axes>"
      ]
     },
     "metadata": {
      "tags": []
     },
     "output_type": "display_data"
    }
   ],
   "source": [
    "plt.title(\"diff pressure results\")\n",
    "\n",
    "plt.subplot(2,1,1)\n",
    "values_for_each_var.rmse_diff_pressure.plot.hist(bins=40,edgecolor=\"black\")\n",
    "plt.xlabel('RMSE score')\n",
    "\n",
    "plt.subplot(2,1,2)\n",
    "values_for_each_var.r2_diff_pressure.plot.hist(bins=40,edgecolor=\"black\")\n",
    "plt.xlabel('R² score')\n",
    "\n",
    "plt.show()"
   ]
  },
  {
   "cell_type": "code",
   "execution_count": 0,
   "metadata": {
    "colab": {
     "base_uri": "https://localhost:8080/",
     "height": 334
    },
    "colab_type": "code",
    "executionInfo": {
     "elapsed": 689,
     "status": "ok",
     "timestamp": 1566411619495,
     "user": {
      "displayName": "SAMUEL HERICLES SOUZA SILVEIRA UFC",
      "photoUrl": "",
      "userId": "12708602358479385648"
     },
     "user_tz": 180
    },
    "id": "dwQVfxLoZxXA",
    "outputId": "4927b41a-a154-4754-a587-363452c6d078"
   },
   "outputs": [
    {
     "data": {
      "text/html": [
       "<div>\n",
       "<style scoped>\n",
       "    .dataframe tbody tr th:only-of-type {\n",
       "        vertical-align: middle;\n",
       "    }\n",
       "\n",
       "    .dataframe tbody tr th {\n",
       "        vertical-align: top;\n",
       "    }\n",
       "\n",
       "    .dataframe thead th {\n",
       "        text-align: right;\n",
       "    }\n",
       "</style>\n",
       "<table border=\"1\" class=\"dataframe\">\n",
       "  <thead>\n",
       "    <tr style=\"text-align: right;\">\n",
       "      <th></th>\n",
       "      <th>Unnamed: 0</th>\n",
       "      <th>r2_temp_inst</th>\n",
       "      <th>r2_umid_inst</th>\n",
       "      <th>r2_pto_orvalho_inst</th>\n",
       "      <th>r2_hora</th>\n",
       "      <th>r2_pressao</th>\n",
       "      <th>r2_vento_rajada</th>\n",
       "      <th>r2_radiacao</th>\n",
       "      <th>r2_precipitacao</th>\n",
       "      <th>r2_diff_temp</th>\n",
       "      <th>r2_diff_umid</th>\n",
       "      <th>r2_diff_dew</th>\n",
       "      <th>r2_diff_pressure</th>\n",
       "    </tr>\n",
       "  </thead>\n",
       "  <tbody>\n",
       "    <tr>\n",
       "      <th>count</th>\n",
       "      <td>196.00000</td>\n",
       "      <td>196.000000</td>\n",
       "      <td>196.000000</td>\n",
       "      <td>1.960000e+02</td>\n",
       "      <td>196.000000</td>\n",
       "      <td>1.960000e+02</td>\n",
       "      <td>196.000000</td>\n",
       "      <td>196.000000</td>\n",
       "      <td>196.000000</td>\n",
       "      <td>196.000000</td>\n",
       "      <td>196.000000</td>\n",
       "      <td>196.000000</td>\n",
       "      <td>196.000000</td>\n",
       "    </tr>\n",
       "    <tr>\n",
       "      <th>mean</th>\n",
       "      <td>97.50000</td>\n",
       "      <td>-0.522210</td>\n",
       "      <td>-0.464037</td>\n",
       "      <td>-5.349992e-01</td>\n",
       "      <td>-0.509584</td>\n",
       "      <td>-5.164197e-01</td>\n",
       "      <td>-0.514021</td>\n",
       "      <td>-0.470361</td>\n",
       "      <td>-0.472565</td>\n",
       "      <td>-0.479508</td>\n",
       "      <td>-0.505425</td>\n",
       "      <td>-0.477256</td>\n",
       "      <td>-0.476444</td>\n",
       "    </tr>\n",
       "    <tr>\n",
       "      <th>std</th>\n",
       "      <td>56.72448</td>\n",
       "      <td>1.465896</td>\n",
       "      <td>1.499055</td>\n",
       "      <td>1.514847e+00</td>\n",
       "      <td>1.470313</td>\n",
       "      <td>1.456558e+00</td>\n",
       "      <td>1.463203</td>\n",
       "      <td>1.372201</td>\n",
       "      <td>1.375719</td>\n",
       "      <td>1.377480</td>\n",
       "      <td>1.446771</td>\n",
       "      <td>1.370199</td>\n",
       "      <td>1.377240</td>\n",
       "    </tr>\n",
       "    <tr>\n",
       "      <th>min</th>\n",
       "      <td>0.00000</td>\n",
       "      <td>-6.147585</td>\n",
       "      <td>-6.098037</td>\n",
       "      <td>-6.339447e+00</td>\n",
       "      <td>-6.288622</td>\n",
       "      <td>-6.130061e+00</td>\n",
       "      <td>-6.216220</td>\n",
       "      <td>-5.902869</td>\n",
       "      <td>-6.075537</td>\n",
       "      <td>-5.941688</td>\n",
       "      <td>-6.567132</td>\n",
       "      <td>-5.710122</td>\n",
       "      <td>-5.925659</td>\n",
       "    </tr>\n",
       "    <tr>\n",
       "      <th>25%</th>\n",
       "      <td>48.75000</td>\n",
       "      <td>-0.024465</td>\n",
       "      <td>-0.027378</td>\n",
       "      <td>-2.623894e-02</td>\n",
       "      <td>-0.018939</td>\n",
       "      <td>-2.727792e-02</td>\n",
       "      <td>-0.023698</td>\n",
       "      <td>-0.019897</td>\n",
       "      <td>-0.022443</td>\n",
       "      <td>-0.019019</td>\n",
       "      <td>-0.022239</td>\n",
       "      <td>-0.025342</td>\n",
       "      <td>-0.021022</td>\n",
       "    </tr>\n",
       "    <tr>\n",
       "      <th>50%</th>\n",
       "      <td>97.50000</td>\n",
       "      <td>-0.005967</td>\n",
       "      <td>-0.001917</td>\n",
       "      <td>-3.984371e-03</td>\n",
       "      <td>-0.001847</td>\n",
       "      <td>-5.671762e-03</td>\n",
       "      <td>-0.005567</td>\n",
       "      <td>-0.003911</td>\n",
       "      <td>-0.003481</td>\n",
       "      <td>-0.004380</td>\n",
       "      <td>-0.004857</td>\n",
       "      <td>-0.005356</td>\n",
       "      <td>-0.004489</td>\n",
       "    </tr>\n",
       "    <tr>\n",
       "      <th>75%</th>\n",
       "      <td>146.25000</td>\n",
       "      <td>-0.001057</td>\n",
       "      <td>0.143330</td>\n",
       "      <td>-8.804951e-04</td>\n",
       "      <td>0.007839</td>\n",
       "      <td>-1.023428e-03</td>\n",
       "      <td>-0.001241</td>\n",
       "      <td>-0.001042</td>\n",
       "      <td>-0.000760</td>\n",
       "      <td>-0.001606</td>\n",
       "      <td>-0.001438</td>\n",
       "      <td>-0.001918</td>\n",
       "      <td>-0.001452</td>\n",
       "    </tr>\n",
       "    <tr>\n",
       "      <th>max</th>\n",
       "      <td>195.00000</td>\n",
       "      <td>-0.000021</td>\n",
       "      <td>0.312641</td>\n",
       "      <td>-2.111104e-07</td>\n",
       "      <td>0.024599</td>\n",
       "      <td>-3.015466e-07</td>\n",
       "      <td>-0.000136</td>\n",
       "      <td>0.060985</td>\n",
       "      <td>0.006140</td>\n",
       "      <td>-0.000039</td>\n",
       "      <td>-0.000055</td>\n",
       "      <td>-0.000135</td>\n",
       "      <td>-0.000024</td>\n",
       "    </tr>\n",
       "  </tbody>\n",
       "</table>\n",
       "</div>"
      ],
      "text/plain": [
       "       Unnamed: 0  r2_temp_inst  ...  r2_diff_dew  r2_diff_pressure\n",
       "count   196.00000    196.000000  ...   196.000000        196.000000\n",
       "mean     97.50000     -0.522210  ...    -0.477256         -0.476444\n",
       "std      56.72448      1.465896  ...     1.370199          1.377240\n",
       "min       0.00000     -6.147585  ...    -5.710122         -5.925659\n",
       "25%      48.75000     -0.024465  ...    -0.025342         -0.021022\n",
       "50%      97.50000     -0.005967  ...    -0.005356         -0.004489\n",
       "75%     146.25000     -0.001057  ...    -0.001918         -0.001452\n",
       "max     195.00000     -0.000021  ...    -0.000135         -0.000024\n",
       "\n",
       "[8 rows x 13 columns]"
      ]
     },
     "execution_count": 63,
     "metadata": {
      "tags": []
     },
     "output_type": "execute_result"
    }
   ],
   "source": [
    "values_for_each_var.describe()"
   ]
  },
  {
   "cell_type": "code",
   "execution_count": null,
   "metadata": {},
   "outputs": [],
   "source": []
  },
  {
   "cell_type": "code",
   "execution_count": null,
   "metadata": {},
   "outputs": [],
   "source": []
  },
  {
   "cell_type": "code",
   "execution_count": null,
   "metadata": {},
   "outputs": [],
   "source": []
  },
  {
   "cell_type": "code",
   "execution_count": null,
   "metadata": {},
   "outputs": [],
   "source": []
  },
  {
   "cell_type": "code",
   "execution_count": 14,
   "metadata": {},
   "outputs": [
    {
     "name": "stdout",
     "output_type": "stream",
     "text": [
      "x_all:(2016, 11)\n",
      "y_all:(2016, 1)\n",
      "x:(1008, 11)\n",
      "y:(1008, 1)\n",
      "train_x:(907, 11)\n",
      "train_y:(907, 1)\n",
      "test_x:(101, 11)\n",
      "test_y:(101, 1)\n"
     ]
    }
   ],
   "source": [
    "x_all = new_dataset_test_train[['hora','pto_orvalho_inst','pressao','radiacao','precipitacao','diff_temp','diff_umid','diff_dew','diff_pressure','diff_wind','vento_vel']]\n",
    "y_all = new_dataset_test_train[['vento_vel']]\n",
    "\n",
    "x = x_all[:1008]\n",
    "y = y_all[1008:]\n",
    "\n",
    "train_x,test_x,train_y,test_y = train_test_split(x,y,test_size=0.1)\n",
    "\n",
    "print('x_all:{}'.format(x_all.shape))\n",
    "print('y_all:{}'.format(y_all.shape))\n",
    "print('x:{}'.format(x.shape))\n",
    "print('y:{}'.format(y.shape))\n",
    "print('train_x:{}'.format(train_x.shape))\n",
    "print('train_y:{}'.format(train_y.shape))\n",
    "print('test_x:{}'.format(test_x.shape))\n",
    "print('test_y:{}'.format(test_y.shape))"
   ]
  },
  {
   "cell_type": "code",
   "execution_count": 15,
   "metadata": {},
   "outputs": [],
   "source": [
    "def test_mlp(i,j):\n",
    "    warnings.filterwarnings('ignore')\n",
    "    MLP_reg = MLPRegressor(hidden_layer_sizes = (i*30,j*30), activation='tanh',\n",
    "                      verbose=False, warm_start=True,\n",
    "                      max_iter = 300)\n",
    "    \n",
    "    MLP_reg.fit(train_x,train_y)#Kernel default : RBF \n",
    "    predicts = MLP_reg.predict(test_x)\n",
    "\n",
    "    rmse = math.sqrt(mean_squared_error(test_y,predicts))\n",
    "    score_r2 = r2_score(test_y,predicts)\n",
    "\n",
    "    return i*30,j*30,rmse,score_r2"
   ]
  },
  {
   "cell_type": "code",
   "execution_count": 16,
   "metadata": {},
   "outputs": [
    {
     "data": {
      "text/html": [
       "<div>\n",
       "<style scoped>\n",
       "    .dataframe tbody tr th:only-of-type {\n",
       "        vertical-align: middle;\n",
       "    }\n",
       "\n",
       "    .dataframe tbody tr th {\n",
       "        vertical-align: top;\n",
       "    }\n",
       "\n",
       "    .dataframe thead th {\n",
       "        text-align: right;\n",
       "    }\n",
       "</style>\n",
       "<table border=\"1\" class=\"dataframe\">\n",
       "  <thead>\n",
       "    <tr style=\"text-align: right;\">\n",
       "      <th></th>\n",
       "      <th>i</th>\n",
       "      <th>j</th>\n",
       "      <th>rmse</th>\n",
       "      <th>r2</th>\n",
       "    </tr>\n",
       "  </thead>\n",
       "  <tbody>\n",
       "  </tbody>\n",
       "</table>\n",
       "</div>"
      ],
      "text/plain": [
       "Empty DataFrame\n",
       "Columns: [i, j, rmse, r2]\n",
       "Index: []"
      ]
     },
     "execution_count": 16,
     "metadata": {},
     "output_type": "execute_result"
    }
   ],
   "source": [
    "#Creating a dataset for store rmse and r2 results\n",
    "values_new = pd.DataFrame(columns=['i','j','rmse','r2'])\n",
    "values_new.head()"
   ]
  },
  {
   "cell_type": "code",
   "execution_count": 20,
   "metadata": {},
   "outputs": [
    {
     "name": "stdout",
     "output_type": "stream",
     "text": [
      "Iteration 1, loss = 8709.52373270\n",
      "Iteration 2, loss = 8628.79649074\n",
      "Iteration 3, loss = 8549.91359266\n",
      "Iteration 4, loss = 8474.85414309\n",
      "Iteration 5, loss = 8404.33768661\n",
      "Iteration 6, loss = 8339.03661044\n",
      "Iteration 7, loss = 8277.75769205\n",
      "Iteration 8, loss = 8221.49688884\n",
      "Iteration 9, loss = 8169.29075089\n",
      "Iteration 10, loss = 8119.69860358\n",
      "Iteration 11, loss = 8072.03642713\n",
      "Iteration 12, loss = 8024.94349422\n",
      "Iteration 13, loss = 7980.37675118\n",
      "Iteration 14, loss = 7937.95284791\n",
      "Iteration 15, loss = 7896.56445810\n",
      "Iteration 16, loss = 7856.06056896\n",
      "Iteration 17, loss = 7815.12699620\n",
      "Iteration 18, loss = 7774.14111622\n",
      "Iteration 19, loss = 7733.48615840\n",
      "Iteration 20, loss = 7694.22561309\n",
      "Iteration 21, loss = 7657.73103042\n",
      "Iteration 22, loss = 7623.19369753\n",
      "Iteration 23, loss = 7588.01422873\n",
      "Iteration 24, loss = 7552.51678002\n",
      "Iteration 25, loss = 7516.66921129\n",
      "Iteration 26, loss = 7480.68906750\n",
      "Iteration 27, loss = 7449.37186748\n",
      "Iteration 28, loss = 7419.95159284\n",
      "Iteration 29, loss = 7392.14316218\n",
      "Iteration 30, loss = 7365.54737418\n",
      "Iteration 31, loss = 7339.92159139\n",
      "Iteration 32, loss = 7315.23057370\n",
      "Iteration 33, loss = 7291.05407573\n",
      "Iteration 34, loss = 7267.39692894\n",
      "Iteration 35, loss = 7244.14935775\n",
      "Iteration 36, loss = 7221.35552732\n",
      "Iteration 37, loss = 7198.83614511\n",
      "Iteration 38, loss = 7176.52497449\n",
      "Iteration 39, loss = 7154.63770368\n",
      "Iteration 40, loss = 7133.00137601\n",
      "Iteration 41, loss = 7111.52113195\n",
      "Iteration 42, loss = 7090.29168690\n",
      "Iteration 43, loss = 7069.16910873\n",
      "Iteration 44, loss = 7048.35184450\n",
      "Iteration 45, loss = 7027.59237246\n",
      "Iteration 46, loss = 7007.07502548\n",
      "Iteration 47, loss = 6986.59655581\n",
      "Iteration 48, loss = 6966.39476040\n",
      "Iteration 49, loss = 6946.24376202\n",
      "Iteration 50, loss = 6926.37808307\n",
      "Iteration 51, loss = 6906.43547128\n",
      "Iteration 52, loss = 6886.83828978\n",
      "Iteration 53, loss = 6867.20083765\n",
      "Iteration 54, loss = 6847.66397620\n",
      "Iteration 55, loss = 6828.31051916\n",
      "Iteration 56, loss = 6809.00247966\n",
      "Iteration 57, loss = 6789.78852131\n",
      "Iteration 58, loss = 6770.75153035\n",
      "Iteration 59, loss = 6751.70613712\n",
      "Iteration 60, loss = 6732.85602074\n",
      "Iteration 61, loss = 6713.95173492\n",
      "Iteration 62, loss = 6695.21756514\n",
      "Iteration 63, loss = 6676.58736999\n",
      "Iteration 64, loss = 6657.98904804\n",
      "Iteration 65, loss = 6639.60974132\n",
      "Iteration 66, loss = 6621.11765817\n",
      "Iteration 67, loss = 6602.85720153\n",
      "Iteration 68, loss = 6584.67151954\n",
      "Iteration 69, loss = 6566.45620463\n",
      "Iteration 70, loss = 6548.37355147\n",
      "Iteration 71, loss = 6530.38074695\n",
      "Iteration 72, loss = 6512.46810126\n",
      "Iteration 73, loss = 6494.59804000\n",
      "Iteration 74, loss = 6476.81809474\n",
      "Iteration 75, loss = 6459.03823721\n",
      "Iteration 76, loss = 6441.40314062\n",
      "Iteration 77, loss = 6423.77606738\n",
      "Iteration 78, loss = 6406.17041358\n",
      "Iteration 79, loss = 6388.67967275\n",
      "Iteration 80, loss = 6371.21978433\n",
      "Iteration 81, loss = 6353.81042240\n",
      "Iteration 82, loss = 6336.50514101\n",
      "Iteration 83, loss = 6319.18143663\n",
      "Iteration 84, loss = 6302.00608369\n",
      "Iteration 85, loss = 6284.81841491\n",
      "Iteration 86, loss = 6267.72331852\n",
      "Iteration 87, loss = 6250.63131709\n",
      "Iteration 88, loss = 6233.69954533\n",
      "Iteration 89, loss = 6216.76308218\n",
      "Iteration 90, loss = 6199.95233119\n",
      "Iteration 91, loss = 6183.09860464\n",
      "Iteration 92, loss = 6166.31842839\n",
      "Iteration 93, loss = 6149.53998931\n",
      "Iteration 94, loss = 6132.80738849\n",
      "Iteration 95, loss = 6116.21060370\n",
      "Iteration 96, loss = 6099.60425199\n",
      "Iteration 97, loss = 6083.09145684\n",
      "Iteration 98, loss = 6066.56534843\n",
      "Iteration 99, loss = 6050.11395782\n",
      "Iteration 100, loss = 6033.65663959\n",
      "Iteration 101, loss = 6017.25561487\n",
      "Iteration 102, loss = 6001.02372296\n",
      "Iteration 103, loss = 5984.66603823\n",
      "Iteration 104, loss = 5968.51766310\n",
      "Iteration 105, loss = 5952.25680991\n",
      "Iteration 106, loss = 5936.11748816\n",
      "Iteration 107, loss = 5920.03685766\n",
      "Iteration 108, loss = 5903.94437682\n",
      "Iteration 109, loss = 5887.91745924\n",
      "Iteration 110, loss = 5871.90713866\n",
      "Iteration 111, loss = 5855.97323265\n",
      "Iteration 112, loss = 5840.06580326\n",
      "Iteration 113, loss = 5824.22565554\n",
      "Iteration 114, loss = 5808.43116493\n",
      "Iteration 115, loss = 5792.71325306\n",
      "Iteration 116, loss = 5776.97212692\n",
      "Iteration 117, loss = 5761.29926930\n",
      "Iteration 118, loss = 5745.68031414\n",
      "Iteration 119, loss = 5730.11868822\n",
      "Iteration 120, loss = 5714.55186942\n",
      "Iteration 121, loss = 5699.05611345\n",
      "Iteration 122, loss = 5683.58227570\n",
      "Iteration 123, loss = 5668.11397740\n",
      "Iteration 124, loss = 5652.75385497\n",
      "Iteration 125, loss = 5637.37831386\n",
      "Iteration 126, loss = 5622.09588729\n",
      "Iteration 127, loss = 5606.80817138\n",
      "Iteration 128, loss = 5591.56034289\n",
      "Iteration 129, loss = 5576.41257019\n",
      "Iteration 130, loss = 5561.20727749\n",
      "Iteration 131, loss = 5546.12609756\n",
      "Iteration 132, loss = 5531.03705188\n",
      "Iteration 133, loss = 5516.06012662\n",
      "Iteration 134, loss = 5501.02852220\n",
      "Iteration 135, loss = 5486.06590161\n",
      "Iteration 136, loss = 5471.03204187\n",
      "Iteration 137, loss = 5456.16239032\n",
      "Iteration 138, loss = 5441.37570776\n",
      "Iteration 139, loss = 5426.54352568\n",
      "Iteration 140, loss = 5411.74036957\n",
      "Iteration 141, loss = 5396.97773961\n",
      "Iteration 142, loss = 5382.31455024\n",
      "Iteration 143, loss = 5367.65597489\n",
      "Iteration 144, loss = 5353.05058603\n",
      "Iteration 145, loss = 5338.56163815\n",
      "Iteration 146, loss = 5323.90314586\n",
      "Iteration 147, loss = 5309.43551095\n",
      "Iteration 148, loss = 5295.00291960\n",
      "Iteration 149, loss = 5280.60125443\n",
      "Iteration 150, loss = 5266.16807163\n",
      "Iteration 151, loss = 5251.82885239\n",
      "Iteration 152, loss = 5237.42398149\n",
      "Iteration 153, loss = 5223.14150468\n",
      "Iteration 154, loss = 5208.86591126\n",
      "Iteration 155, loss = 5194.65396097\n",
      "Iteration 156, loss = 5180.42228584\n",
      "Iteration 157, loss = 5166.19850807\n",
      "Iteration 158, loss = 5152.09070354\n",
      "Iteration 159, loss = 5137.99809850\n",
      "Iteration 160, loss = 5123.90247144\n",
      "Iteration 161, loss = 5109.80209994\n",
      "Iteration 162, loss = 5095.89406940\n",
      "Iteration 163, loss = 5081.86547294\n",
      "Iteration 164, loss = 5067.91173821\n",
      "Iteration 165, loss = 5054.03147870\n",
      "Iteration 166, loss = 5040.13118581\n",
      "Iteration 167, loss = 5026.25194414\n",
      "Iteration 168, loss = 5012.41394820\n",
      "Iteration 169, loss = 4998.71312872\n",
      "Iteration 170, loss = 4984.88639931\n",
      "Iteration 171, loss = 4971.17627990\n",
      "Iteration 172, loss = 4957.55471770\n",
      "Iteration 173, loss = 4943.87935397\n",
      "Iteration 174, loss = 4930.27899479\n",
      "Iteration 175, loss = 4916.58188673\n",
      "Iteration 176, loss = 4903.01440710\n",
      "Iteration 177, loss = 4889.47716278\n",
      "Iteration 178, loss = 4875.97973001\n",
      "Iteration 179, loss = 4862.46832210\n",
      "Iteration 180, loss = 4849.13544486\n",
      "Iteration 181, loss = 4835.63695100\n",
      "Iteration 182, loss = 4822.27756822\n",
      "Iteration 183, loss = 4808.97372932\n",
      "Iteration 184, loss = 4795.64866650\n",
      "Iteration 185, loss = 4782.36662041\n",
      "Iteration 186, loss = 4769.05632697\n",
      "Iteration 187, loss = 4755.84088906\n",
      "Iteration 188, loss = 4742.64666543\n",
      "Iteration 189, loss = 4729.45797303\n",
      "Iteration 190, loss = 4716.28819350\n",
      "Iteration 191, loss = 4703.23736081\n",
      "Iteration 192, loss = 4690.12250291\n",
      "Iteration 193, loss = 4677.09551805\n",
      "Iteration 194, loss = 4664.13885541\n",
      "Iteration 195, loss = 4651.09018468\n",
      "Iteration 196, loss = 4638.14321866\n",
      "Iteration 197, loss = 4625.28940532\n",
      "Iteration 198, loss = 4612.42566044\n",
      "Iteration 199, loss = 4599.55952514\n",
      "Iteration 200, loss = 4586.70740711\n",
      "Iteration 201, loss = 4573.94228069\n",
      "Iteration 202, loss = 4561.20627867\n",
      "Iteration 203, loss = 4548.42533539\n",
      "Iteration 204, loss = 4535.73547425\n",
      "Iteration 205, loss = 4523.06823574\n",
      "Iteration 206, loss = 4510.40719014\n",
      "Iteration 207, loss = 4497.86686125\n",
      "Iteration 208, loss = 4485.22121962\n",
      "Iteration 209, loss = 4472.64582091\n",
      "Iteration 210, loss = 4460.05595559\n",
      "Iteration 211, loss = 4447.62489014\n",
      "Iteration 212, loss = 4435.06730325\n",
      "Iteration 213, loss = 4422.57250493\n",
      "Iteration 214, loss = 4410.21447017\n",
      "Iteration 215, loss = 4397.79550744\n",
      "Iteration 216, loss = 4385.44985553\n",
      "Iteration 217, loss = 4373.11226509\n",
      "Iteration 218, loss = 4360.80358503\n",
      "Iteration 219, loss = 4348.54890494\n",
      "Iteration 220, loss = 4336.37631653\n",
      "Iteration 221, loss = 4324.11525455\n",
      "Iteration 222, loss = 4311.96230879\n",
      "Iteration 223, loss = 4299.79866451\n",
      "Iteration 224, loss = 4287.67975098\n",
      "Iteration 225, loss = 4275.49218494\n",
      "Iteration 226, loss = 4263.45154464\n",
      "Iteration 227, loss = 4251.36193255\n",
      "Iteration 228, loss = 4239.34026559\n",
      "Iteration 229, loss = 4227.28530090\n",
      "Iteration 230, loss = 4215.28088527\n",
      "Iteration 231, loss = 4203.32459939\n",
      "Iteration 232, loss = 4191.37256099\n",
      "Iteration 233, loss = 4179.51670589\n",
      "Iteration 234, loss = 4167.69912971\n",
      "Iteration 235, loss = 4155.79323862\n",
      "Iteration 236, loss = 4144.08788397\n",
      "Iteration 237, loss = 4132.27349780\n",
      "Iteration 238, loss = 4120.48195459\n",
      "Iteration 239, loss = 4108.76548264\n",
      "Iteration 240, loss = 4097.17171844\n",
      "Iteration 241, loss = 4085.36816705\n",
      "Iteration 242, loss = 4073.77212833\n",
      "Iteration 243, loss = 4062.18814699\n",
      "Iteration 244, loss = 4050.61037607\n"
     ]
    },
    {
     "name": "stdout",
     "output_type": "stream",
     "text": [
      "Iteration 245, loss = 4039.08311527\n",
      "Iteration 246, loss = 4027.45732764\n",
      "Iteration 247, loss = 4015.96604914\n",
      "Iteration 248, loss = 4004.54082756\n",
      "Iteration 249, loss = 3993.06996940\n",
      "Iteration 250, loss = 3981.67061912\n",
      "Iteration 251, loss = 3970.20198263\n",
      "Iteration 252, loss = 3958.91559175\n",
      "Iteration 253, loss = 3947.53471343\n",
      "Iteration 254, loss = 3936.16131728\n",
      "Iteration 255, loss = 3924.87356928\n",
      "Iteration 256, loss = 3913.61189105\n",
      "Iteration 257, loss = 3902.37548435\n",
      "Iteration 258, loss = 3891.13135988\n",
      "Iteration 259, loss = 3879.92797709\n",
      "Iteration 260, loss = 3868.78977163\n",
      "Iteration 261, loss = 3857.62142842\n",
      "Iteration 262, loss = 3846.47913972\n",
      "Iteration 263, loss = 3835.41840063\n",
      "Iteration 264, loss = 3824.40329020\n",
      "Iteration 265, loss = 3813.37139063\n",
      "Iteration 266, loss = 3802.35760493\n",
      "Iteration 267, loss = 3791.32013955\n",
      "Iteration 268, loss = 3780.36529508\n",
      "Iteration 269, loss = 3769.46684544\n",
      "Iteration 270, loss = 3758.56423929\n",
      "Iteration 271, loss = 3747.64760427\n",
      "Iteration 272, loss = 3736.82226675\n",
      "Iteration 273, loss = 3725.96509904\n",
      "Iteration 274, loss = 3715.18253674\n",
      "Iteration 275, loss = 3704.38152430\n",
      "Iteration 276, loss = 3693.69221782\n",
      "Iteration 277, loss = 3682.88045641\n",
      "Iteration 278, loss = 3672.18397301\n",
      "Iteration 279, loss = 3661.55876252\n",
      "Iteration 280, loss = 3650.88519068\n",
      "Iteration 281, loss = 3640.21895165\n",
      "Iteration 282, loss = 3629.61975228\n",
      "Iteration 283, loss = 3619.04999156\n",
      "Iteration 284, loss = 3608.48004006\n",
      "Iteration 285, loss = 3597.97304626\n",
      "Iteration 286, loss = 3587.47327954\n",
      "Iteration 287, loss = 3577.01879264\n",
      "Iteration 288, loss = 3566.51651696\n",
      "Iteration 289, loss = 3556.06884400\n",
      "Iteration 290, loss = 3545.79109053\n",
      "Iteration 291, loss = 3535.34371751\n",
      "Iteration 292, loss = 3525.03530512\n",
      "Iteration 293, loss = 3514.63873169\n",
      "Iteration 294, loss = 3504.31875261\n",
      "Iteration 295, loss = 3494.07408264\n",
      "Iteration 296, loss = 3483.74156269\n",
      "Iteration 297, loss = 3473.55179970\n",
      "Iteration 298, loss = 3463.32591540\n",
      "Iteration 299, loss = 3453.11039364\n",
      "Iteration 300, loss = 3442.85667322\n"
     ]
    },
    {
     "ename": "NameError",
     "evalue": "name 'values' is not defined",
     "output_type": "error",
     "traceback": [
      "\u001b[0;31m---------------------------------------------------------------------------\u001b[0m",
      "\u001b[0;31mNameError\u001b[0m                                 Traceback (most recent call last)",
      "\u001b[0;32m<ipython-input-20-7f1faa686428>\u001b[0m in \u001b[0;36m<module>\u001b[0;34m\u001b[0m\n\u001b[1;32m      7\u001b[0m \u001b[0;32mfor\u001b[0m \u001b[0mi\u001b[0m \u001b[0;32min\u001b[0m \u001b[0mrange\u001b[0m\u001b[0;34m(\u001b[0m\u001b[0;36m1\u001b[0m\u001b[0;34m,\u001b[0m\u001b[0;36m21\u001b[0m\u001b[0;34m)\u001b[0m\u001b[0;34m:\u001b[0m\u001b[0;34m\u001b[0m\u001b[0;34m\u001b[0m\u001b[0m\n\u001b[1;32m      8\u001b[0m     \u001b[0;32mfor\u001b[0m \u001b[0mj\u001b[0m \u001b[0;32min\u001b[0m \u001b[0mrange\u001b[0m\u001b[0;34m(\u001b[0m\u001b[0;36m1\u001b[0m\u001b[0;34m,\u001b[0m\u001b[0;36m21\u001b[0m\u001b[0;34m)\u001b[0m\u001b[0;34m:\u001b[0m\u001b[0;34m\u001b[0m\u001b[0;34m\u001b[0m\u001b[0m\n\u001b[0;32m----> 9\u001b[0;31m         \u001b[0mvalues\u001b[0m\u001b[0;34m.\u001b[0m\u001b[0mloc\u001b[0m\u001b[0;34m[\u001b[0m\u001b[0ma\u001b[0m\u001b[0;34m]\u001b[0m \u001b[0;34m=\u001b[0m \u001b[0mtest_mlp\u001b[0m\u001b[0;34m(\u001b[0m\u001b[0mi\u001b[0m\u001b[0;34m,\u001b[0m\u001b[0mj\u001b[0m\u001b[0;34m)\u001b[0m\u001b[0;34m\u001b[0m\u001b[0;34m\u001b[0m\u001b[0m\n\u001b[0m\u001b[1;32m     10\u001b[0m \u001b[0;31m#End cycle for\u001b[0m\u001b[0;34m\u001b[0m\u001b[0;34m\u001b[0m\u001b[0;34m\u001b[0m\u001b[0m\n\u001b[1;32m     11\u001b[0m \u001b[0;34m\u001b[0m\u001b[0m\n",
      "\u001b[0;31mNameError\u001b[0m: name 'values' is not defined"
     ]
    }
   ],
   "source": [
    "#To mesure time processing\n",
    "import time \n",
    "inicio = time.time()\n",
    "\n",
    "a = 0\n",
    "#Begin cycle for\n",
    "for i in range(1,21):\n",
    "    for j in range(1,21):\n",
    "        values.loc[a] = test_mlp(i,j) \n",
    "        a = a + 1\n",
    "#End cycle for\n",
    "              \n",
    "fim = time.time()\n",
    "print(fim-inicio)\n"
   ]
  },
  {
   "cell_type": "code",
   "execution_count": null,
   "metadata": {},
   "outputs": [],
   "source": [
    "#Storing the results\n",
    "\n",
    "values.to_csv('/content/gdrive/My Drive/Colab Notebooks/values_all.csv')\n",
    "values_all = pd.read_csv('/content/gdrive/My Drive/Colab Notebooks/values_all.csv')\n",
    "values_all.head()"
   ]
  },
  {
   "cell_type": "code",
   "execution_count": null,
   "metadata": {},
   "outputs": [],
   "source": [
    "values_all.describe()"
   ]
  },
  {
   "cell_type": "code",
   "execution_count": null,
   "metadata": {},
   "outputs": [],
   "source": [
    "plt.title('Result with all variables')\n",
    "\n",
    "plt.subplot(2, 1, 1)\n",
    "values_all.r2.plot.hist(bins=40,edgecolor=\"black\")\n",
    "plt.xlabel('RMSE score')\n",
    "\n",
    "plt.subplot(2, 1, 2)\n",
    "values_all.rmse.plot.hist(bins=40,edgecolor=\"black\")\n",
    "plt.xlabel('R² score')\n",
    "\n",
    "plt.show()"
   ]
  },
  {
   "cell_type": "code",
   "execution_count": null,
   "metadata": {},
   "outputs": [],
   "source": []
  },
  {
   "cell_type": "code",
   "execution_count": null,
   "metadata": {},
   "outputs": [],
   "source": []
  }
 ],
 "metadata": {
  "accelerator": "GPU",
  "colab": {
   "collapsed_sections": [],
   "name": "MLP_algorithm-checkpoint.ipynb",
   "provenance": [
    {
     "file_id": "1dln75DsUkh-rS-yh2Y6iV1CDKLSxFMaz",
     "timestamp": 1565984985745
    },
    {
     "file_id": "https://github.com/SamuelHericles/climate_data/blob/master/Model_machine_learning/.ipynb_checkpoints/MLP_algorithm-checkpoint.ipynb",
     "timestamp": 1565812358831
    }
   ],
   "version": "0.3.2"
  },
  "kernelspec": {
   "display_name": "Python 3",
   "language": "python",
   "name": "python3"
  },
  "language_info": {
   "codemirror_mode": {
    "name": "ipython",
    "version": 3
   },
   "file_extension": ".py",
   "mimetype": "text/x-python",
   "name": "python",
   "nbconvert_exporter": "python",
   "pygments_lexer": "ipython3",
   "version": "3.7.4"
  }
 },
 "nbformat": 4,
 "nbformat_minor": 1
}
