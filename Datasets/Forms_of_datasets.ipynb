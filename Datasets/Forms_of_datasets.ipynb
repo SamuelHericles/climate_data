{
 "cells": [
  {
   "cell_type": "code",
   "execution_count": 1,
   "metadata": {},
   "outputs": [],
   "source": [
    "import pandas as pd\n",
    "dataset_test_train = pd.read_csv('new_database.csv')"
   ]
  },
  {
   "cell_type": "code",
   "execution_count": 2,
   "metadata": {},
   "outputs": [],
   "source": [
    "x_low_corralation = dataset_test_train[['hora','temp_inst','umid_inst','pto_orvalho_inst','pressao','vento_rajada','radiacao','precipitacao','diff_temp','diff_umid','diff_dew','diff_pressure','diff_wind','vento_vel']]\n",
    "y_low_corralation = dataset_test_train[['vento_vel']]\n",
    "\n",
    "x_low_corralation = x_low_corralation[:1008]\n",
    "y_low_corralation = y_low_corralation[1008:]\n",
    "\n",
    "x_low_corralation.to_csv('x_low_corralation.csv')\n",
    "y_low_corralation.to_csv('y_low_corralation.csv')"
   ]
  },
  {
   "cell_type": "code",
   "execution_count": 3,
   "metadata": {},
   "outputs": [],
   "source": [
    "x_all_parameters = dataset_test_train[['hora','pto_orvalho_inst','pressao','radiacao','precipitacao','diff_temp','diff_umid','diff_dew','diff_pressure','diff_wind','vento_vel']]\n",
    "y_all_parameters = dataset_test_train[['vento_vel']]\n",
    "\n",
    "x_all_parameters = x_all_parameters[:1008]\n",
    "y_all_parameters = y_all_parameters[1008:]\n",
    "\n",
    "x_all_parameters.to_csv('x_all_parameters.csv')\n",
    "y_all_parameters.to_csv('y_all_parameters.csv')"
   ]
  },
  {
   "cell_type": "code",
   "execution_count": 4,
   "metadata": {},
   "outputs": [],
   "source": [
    "x_just_vento_vel = dataset_test_train[['hora','vento_vel']]\n",
    "y_just_vento_vel = dataset_test_train[['vento_vel']]\n",
    "\n",
    "x_just_vento_vel = x_just_vento_vel[:1008]\n",
    "y_just_vento_vel = y_just_vento_vel[1008:]\n",
    "\n",
    "x_just_vento_vel.to_csv('x_just_vento_vel.csv')\n",
    "y_just_vento_vel.to_csv('y_just_vento_vel.csv')"
   ]
  },
  {
   "cell_type": "code",
   "execution_count": 5,
   "metadata": {},
   "outputs": [],
   "source": [
    "x_high_corralations = dataset_test_train[['umid_inst','vento_vel']]\n",
    "y_high_corralations = dataset_test_train[['vento_vel']]\n",
    "\n",
    "x_high_corralations = x_high_corralations[:1008]\n",
    "y_high_corralations = y_high_corralations[1008:]\n",
    "\n",
    "x_high_corralations.to_csv('x_high_corralations.csv')\n",
    "y_high_corralations.to_csv('y_high_corralations.csv')"
   ]
  },
  {
   "cell_type": "code",
   "execution_count": null,
   "metadata": {},
   "outputs": [],
   "source": []
  },
  {
   "cell_type": "code",
   "execution_count": null,
   "metadata": {},
   "outputs": [],
   "source": []
  }
 ],
 "metadata": {
  "kernelspec": {
   "display_name": "Python 3",
   "language": "python",
   "name": "python3"
  },
  "language_info": {
   "codemirror_mode": {
    "name": "ipython",
    "version": 3
   },
   "file_extension": ".py",
   "mimetype": "text/x-python",
   "name": "python",
   "nbconvert_exporter": "python",
   "pygments_lexer": "ipython3",
   "version": "3.7.4"
  }
 },
 "nbformat": 4,
 "nbformat_minor": 2
}
