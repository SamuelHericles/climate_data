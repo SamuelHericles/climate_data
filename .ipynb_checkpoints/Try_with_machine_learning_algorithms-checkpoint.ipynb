{
 "cells": [
  {
   "cell_type": "code",
   "execution_count": 18,
   "metadata": {},
   "outputs": [
    {
     "data": {
      "text/html": [
       "<div>\n",
       "<style scoped>\n",
       "    .dataframe tbody tr th:only-of-type {\n",
       "        vertical-align: middle;\n",
       "    }\n",
       "\n",
       "    .dataframe tbody tr th {\n",
       "        vertical-align: top;\n",
       "    }\n",
       "\n",
       "    .dataframe thead th {\n",
       "        text-align: right;\n",
       "    }\n",
       "</style>\n",
       "<table border=\"1\" class=\"dataframe\">\n",
       "  <thead>\n",
       "    <tr style=\"text-align: right;\">\n",
       "      <th></th>\n",
       "      <th>codigo_estacao</th>\n",
       "      <th>data</th>\n",
       "      <th>hora</th>\n",
       "      <th>temp_inst</th>\n",
       "      <th>temp_max</th>\n",
       "      <th>temp_min</th>\n",
       "      <th>umid_inst</th>\n",
       "      <th>umid_max</th>\n",
       "      <th>umid_min</th>\n",
       "      <th>pto_orvalho_inst</th>\n",
       "      <th>pto_orvalho_max</th>\n",
       "      <th>pto_orvalho_min</th>\n",
       "      <th>pressao</th>\n",
       "      <th>pressao_max</th>\n",
       "      <th>pressao_min</th>\n",
       "      <th>vento_direcao</th>\n",
       "      <th>vento_vel</th>\n",
       "      <th>vento_rajada</th>\n",
       "      <th>radiacao</th>\n",
       "      <th>precipitacao</th>\n",
       "    </tr>\n",
       "  </thead>\n",
       "  <tbody>\n",
       "    <tr>\n",
       "      <th>0</th>\n",
       "      <td>A305</td>\n",
       "      <td>12/05/2019</td>\n",
       "      <td>13</td>\n",
       "      <td>30.4</td>\n",
       "      <td>30.4</td>\n",
       "      <td>29.0</td>\n",
       "      <td>67</td>\n",
       "      <td>73.0</td>\n",
       "      <td>64.0</td>\n",
       "      <td>23.5</td>\n",
       "      <td>24.1</td>\n",
       "      <td>22.2</td>\n",
       "      <td>1009.7</td>\n",
       "      <td>1010.1</td>\n",
       "      <td>1009.7</td>\n",
       "      <td>2.9</td>\n",
       "      <td>140</td>\n",
       "      <td>7.6</td>\n",
       "      <td>1524.0</td>\n",
       "      <td>0.6</td>\n",
       "    </tr>\n",
       "    <tr>\n",
       "      <th>1</th>\n",
       "      <td>A305</td>\n",
       "      <td>12/05/2019</td>\n",
       "      <td>11</td>\n",
       "      <td>28.4</td>\n",
       "      <td>NaN</td>\n",
       "      <td>NaN</td>\n",
       "      <td>76</td>\n",
       "      <td>NaN</td>\n",
       "      <td>NaN</td>\n",
       "      <td>23.7</td>\n",
       "      <td>NaN</td>\n",
       "      <td>NaN</td>\n",
       "      <td>1009.6</td>\n",
       "      <td>NaN</td>\n",
       "      <td>NaN</td>\n",
       "      <td>2.3</td>\n",
       "      <td>152</td>\n",
       "      <td>NaN</td>\n",
       "      <td>171.6</td>\n",
       "      <td>0.0</td>\n",
       "    </tr>\n",
       "    <tr>\n",
       "      <th>2</th>\n",
       "      <td>A305</td>\n",
       "      <td>12/05/2019</td>\n",
       "      <td>14</td>\n",
       "      <td>30.9</td>\n",
       "      <td>31.0</td>\n",
       "      <td>29.6</td>\n",
       "      <td>58</td>\n",
       "      <td>67.0</td>\n",
       "      <td>58.0</td>\n",
       "      <td>21.7</td>\n",
       "      <td>23.4</td>\n",
       "      <td>21.7</td>\n",
       "      <td>1009.1</td>\n",
       "      <td>1009.7</td>\n",
       "      <td>1009.1</td>\n",
       "      <td>3.0</td>\n",
       "      <td>139</td>\n",
       "      <td>8.3</td>\n",
       "      <td>1643.0</td>\n",
       "      <td>0.0</td>\n",
       "    </tr>\n",
       "    <tr>\n",
       "      <th>3</th>\n",
       "      <td>A305</td>\n",
       "      <td>12/05/2019</td>\n",
       "      <td>12</td>\n",
       "      <td>29.0</td>\n",
       "      <td>29.7</td>\n",
       "      <td>28.3</td>\n",
       "      <td>72</td>\n",
       "      <td>76.0</td>\n",
       "      <td>68.0</td>\n",
       "      <td>23.5</td>\n",
       "      <td>24.3</td>\n",
       "      <td>22.8</td>\n",
       "      <td>1010.0</td>\n",
       "      <td>1010.0</td>\n",
       "      <td>1009.6</td>\n",
       "      <td>2.8</td>\n",
       "      <td>137</td>\n",
       "      <td>6.7</td>\n",
       "      <td>1319.0</td>\n",
       "      <td>0.0</td>\n",
       "    </tr>\n",
       "    <tr>\n",
       "      <th>4</th>\n",
       "      <td>A305</td>\n",
       "      <td>12/05/2019</td>\n",
       "      <td>15</td>\n",
       "      <td>32.1</td>\n",
       "      <td>32.3</td>\n",
       "      <td>30.9</td>\n",
       "      <td>55</td>\n",
       "      <td>60.0</td>\n",
       "      <td>53.0</td>\n",
       "      <td>22.1</td>\n",
       "      <td>23.4</td>\n",
       "      <td>21.2</td>\n",
       "      <td>1008.3</td>\n",
       "      <td>1009.1</td>\n",
       "      <td>1008.2</td>\n",
       "      <td>2.8</td>\n",
       "      <td>148</td>\n",
       "      <td>8.2</td>\n",
       "      <td>2150.0</td>\n",
       "      <td>0.0</td>\n",
       "    </tr>\n",
       "  </tbody>\n",
       "</table>\n",
       "</div>"
      ],
      "text/plain": [
       "  codigo_estacao        data  hora  temp_inst  temp_max  temp_min  umid_inst  \\\n",
       "0           A305  12/05/2019    13       30.4      30.4      29.0         67   \n",
       "1           A305  12/05/2019    11       28.4       NaN       NaN         76   \n",
       "2           A305  12/05/2019    14       30.9      31.0      29.6         58   \n",
       "3           A305  12/05/2019    12       29.0      29.7      28.3         72   \n",
       "4           A305  12/05/2019    15       32.1      32.3      30.9         55   \n",
       "\n",
       "   umid_max  umid_min  pto_orvalho_inst  pto_orvalho_max  pto_orvalho_min  \\\n",
       "0      73.0      64.0              23.5             24.1             22.2   \n",
       "1       NaN       NaN              23.7              NaN              NaN   \n",
       "2      67.0      58.0              21.7             23.4             21.7   \n",
       "3      76.0      68.0              23.5             24.3             22.8   \n",
       "4      60.0      53.0              22.1             23.4             21.2   \n",
       "\n",
       "   pressao  pressao_max  pressao_min  vento_direcao  vento_vel   vento_rajada  \\\n",
       "0   1009.7       1010.1       1009.7            2.9        140            7.6   \n",
       "1   1009.6          NaN          NaN            2.3        152            NaN   \n",
       "2   1009.1       1009.7       1009.1            3.0        139            8.3   \n",
       "3   1010.0       1010.0       1009.6            2.8        137            6.7   \n",
       "4   1008.3       1009.1       1008.2            2.8        148            8.2   \n",
       "\n",
       "   radiacao  precipitacao  \n",
       "0    1524.0           0.6  \n",
       "1     171.6           0.0  \n",
       "2    1643.0           0.0  \n",
       "3    1319.0           0.0  \n",
       "4    2150.0           0.0  "
      ]
     },
     "execution_count": 18,
     "metadata": {},
     "output_type": "execute_result"
    }
   ],
   "source": [
    "import pandas as pd\n",
    "import numpy\n",
    "import matplotlib.pyplot as plt\n",
    "import pandas\n",
    "import math\n",
    "from keras.models import Sequential\n",
    "from keras.layers import Dense\n",
    "from keras.layers import LSTM\n",
    "from sklearn.preprocessing import MinMaxScaler\n",
    "from sklearn.metrics import mean_squared_error\n",
    "\n",
    "data_climate = pd.read_csv('data_fortaleza-CE.csv')\n",
    "data_climate.head()"
   ]
  },
  {
   "cell_type": "code",
   "execution_count": 19,
   "metadata": {},
   "outputs": [
    {
     "name": "stdout",
     "output_type": "stream",
     "text": [
      "<class 'pandas.core.frame.DataFrame'>\n",
      "RangeIndex: 1905 entries, 0 to 1904\n",
      "Data columns (total 20 columns):\n",
      "codigo_estacao      1905 non-null object\n",
      "data                1905 non-null object\n",
      "hora                1905 non-null int64\n",
      "temp_inst           1905 non-null float64\n",
      "temp_max            1904 non-null float64\n",
      "temp_min            1904 non-null float64\n",
      "umid_inst           1905 non-null int64\n",
      "umid_max            1904 non-null float64\n",
      "umid_min            1904 non-null float64\n",
      "pto_orvalho_inst    1905 non-null float64\n",
      "pto_orvalho_max     1904 non-null float64\n",
      "pto_orvalho_min     1904 non-null float64\n",
      "pressao             1905 non-null float64\n",
      "pressao_max         1904 non-null float64\n",
      "pressao_min         1904 non-null float64\n",
      "vento_direcao       1905 non-null float64\n",
      "vento_vel           1905 non-null int64\n",
      " vento_rajada       1904 non-null float64\n",
      "radiacao            1905 non-null float64\n",
      "precipitacao        1905 non-null float64\n",
      "dtypes: float64(15), int64(3), object(2)\n",
      "memory usage: 297.8+ KB\n"
     ]
    }
   ],
   "source": [
    "data_climate.info()"
   ]
  },
  {
   "cell_type": "code",
   "execution_count": 20,
   "metadata": {},
   "outputs": [
    {
     "name": "stdout",
     "output_type": "stream",
     "text": [
      "<class 'pandas.core.frame.DataFrame'>\n",
      "RangeIndex: 1905 entries, 0 to 1904\n",
      "Data columns (total 20 columns):\n",
      "codigo_estacao      1905 non-null object\n",
      "data                1905 non-null object\n",
      "hora                1905 non-null int64\n",
      "temp_inst           1905 non-null float64\n",
      "temp_max            1904 non-null float64\n",
      "temp_min            1904 non-null float64\n",
      "umid_inst           1905 non-null int64\n",
      "umid_max            1904 non-null float64\n",
      "umid_min            1904 non-null float64\n",
      "pto_orvalho_inst    1905 non-null float64\n",
      "pto_orvalho_max     1904 non-null float64\n",
      "pto_orvalho_min     1904 non-null float64\n",
      "pressao             1905 non-null float64\n",
      "pressao_max         1904 non-null float64\n",
      "pressao_min         1904 non-null float64\n",
      "vento_direcao       1905 non-null float64\n",
      "vento_vel           1905 non-null int64\n",
      "vento_rajada        1904 non-null float64\n",
      "radiacao            1905 non-null float64\n",
      "precipitacao        1905 non-null float64\n",
      "dtypes: float64(15), int64(3), object(2)\n",
      "memory usage: 297.8+ KB\n"
     ]
    }
   ],
   "source": [
    "data_climate.columns = ['codigo_estacao','data','hora','temp_inst','temp_max','temp_min','umid_inst','umid_max','umid_min','pto_orvalho_inst','pto_orvalho_max','pto_orvalho_min','pressao','pressao_max','pressao_min','vento_direcao','vento_vel','vento_rajada','radiacao','precipitacao']\n",
    "data_climate.info()"
   ]
  },
  {
   "cell_type": "code",
   "execution_count": null,
   "metadata": {},
   "outputs": [],
   "source": [
    "'''\n",
    "                                    USING KNN ALGORITHM(CLASSIFICATION)\n",
    "\n",
    "'''"
   ]
  },
  {
   "cell_type": "code",
   "execution_count": 21,
   "metadata": {},
   "outputs": [
    {
     "data": {
      "text/html": [
       "<div>\n",
       "<style scoped>\n",
       "    .dataframe tbody tr th:only-of-type {\n",
       "        vertical-align: middle;\n",
       "    }\n",
       "\n",
       "    .dataframe tbody tr th {\n",
       "        vertical-align: top;\n",
       "    }\n",
       "\n",
       "    .dataframe thead th {\n",
       "        text-align: right;\n",
       "    }\n",
       "</style>\n",
       "<table border=\"1\" class=\"dataframe\">\n",
       "  <thead>\n",
       "    <tr style=\"text-align: right;\">\n",
       "      <th></th>\n",
       "      <th>hora</th>\n",
       "      <th>temp_inst</th>\n",
       "      <th>umid_inst</th>\n",
       "      <th>pto_orvalho_inst</th>\n",
       "      <th>pressao</th>\n",
       "      <th>vento_rajada</th>\n",
       "      <th>vento_direcao</th>\n",
       "      <th>vento_vel</th>\n",
       "    </tr>\n",
       "  </thead>\n",
       "  <tbody>\n",
       "    <tr>\n",
       "      <th>0</th>\n",
       "      <td>13</td>\n",
       "      <td>30.4</td>\n",
       "      <td>67</td>\n",
       "      <td>23.5</td>\n",
       "      <td>1009.7</td>\n",
       "      <td>7.6</td>\n",
       "      <td>2.9</td>\n",
       "      <td>140</td>\n",
       "    </tr>\n",
       "    <tr>\n",
       "      <th>1</th>\n",
       "      <td>11</td>\n",
       "      <td>28.4</td>\n",
       "      <td>76</td>\n",
       "      <td>23.7</td>\n",
       "      <td>1009.6</td>\n",
       "      <td>NaN</td>\n",
       "      <td>2.3</td>\n",
       "      <td>152</td>\n",
       "    </tr>\n",
       "    <tr>\n",
       "      <th>2</th>\n",
       "      <td>14</td>\n",
       "      <td>30.9</td>\n",
       "      <td>58</td>\n",
       "      <td>21.7</td>\n",
       "      <td>1009.1</td>\n",
       "      <td>8.3</td>\n",
       "      <td>3.0</td>\n",
       "      <td>139</td>\n",
       "    </tr>\n",
       "    <tr>\n",
       "      <th>3</th>\n",
       "      <td>12</td>\n",
       "      <td>29.0</td>\n",
       "      <td>72</td>\n",
       "      <td>23.5</td>\n",
       "      <td>1010.0</td>\n",
       "      <td>6.7</td>\n",
       "      <td>2.8</td>\n",
       "      <td>137</td>\n",
       "    </tr>\n",
       "    <tr>\n",
       "      <th>4</th>\n",
       "      <td>15</td>\n",
       "      <td>32.1</td>\n",
       "      <td>55</td>\n",
       "      <td>22.1</td>\n",
       "      <td>1008.3</td>\n",
       "      <td>8.2</td>\n",
       "      <td>2.8</td>\n",
       "      <td>148</td>\n",
       "    </tr>\n",
       "  </tbody>\n",
       "</table>\n",
       "</div>"
      ],
      "text/plain": [
       "   hora  temp_inst  umid_inst  pto_orvalho_inst  pressao  vento_rajada  \\\n",
       "0    13       30.4         67              23.5   1009.7           7.6   \n",
       "1    11       28.4         76              23.7   1009.6           NaN   \n",
       "2    14       30.9         58              21.7   1009.1           8.3   \n",
       "3    12       29.0         72              23.5   1010.0           6.7   \n",
       "4    15       32.1         55              22.1   1008.3           8.2   \n",
       "\n",
       "   vento_direcao  vento_vel  \n",
       "0            2.9        140  \n",
       "1            2.3        152  \n",
       "2            3.0        139  \n",
       "3            2.8        137  \n",
       "4            2.8        148  "
      ]
     },
     "execution_count": 21,
     "metadata": {},
     "output_type": "execute_result"
    }
   ],
   "source": [
    "data_for_knn = pd.DataFrame(data_climate[['hora','temp_inst','umid_inst','pto_orvalho_inst','pressao','vento_rajada','vento_direcao','vento_vel']])\n",
    "data_for_knn.head()"
   ]
  },
  {
   "cell_type": "code",
   "execution_count": 22,
   "metadata": {},
   "outputs": [
    {
     "data": {
      "text/plain": [
       "(1905, 8)"
      ]
     },
     "execution_count": 22,
     "metadata": {},
     "output_type": "execute_result"
    }
   ],
   "source": [
    "data_for_knn.shape"
   ]
  },
  {
   "cell_type": "code",
   "execution_count": 23,
   "metadata": {},
   "outputs": [
    {
     "data": {
      "text/plain": [
       "1905"
      ]
     },
     "execution_count": 23,
     "metadata": {},
     "output_type": "execute_result"
    }
   ],
   "source": [
    "len_validation = len(data_for_knn)\n",
    "len_validation"
   ]
  },
  {
   "cell_type": "code",
   "execution_count": 24,
   "metadata": {},
   "outputs": [
    {
     "name": "stdout",
     "output_type": "stream",
     "text": [
      "(381, 8)\n",
      "(1524, 8)\n"
     ]
    }
   ],
   "source": [
    "set_validation = data_for_knn[:381]\n",
    "\n",
    "set_test_train = data_for_knn[381:]\n",
    "print(set_validation.shape)\n",
    "print(set_test_train.shape)"
   ]
  },
  {
   "cell_type": "code",
   "execution_count": 25,
   "metadata": {},
   "outputs": [
    {
     "name": "stdout",
     "output_type": "stream",
     "text": [
      "(1524, 2)\n",
      "(1524, 1)\n",
      "(381, 2)\n",
      "(381, 1)\n"
     ]
    }
   ],
   "source": [
    "x = set_test_train[['vento_rajada','vento_direcao']]\n",
    "y = set_test_train[['vento_vel']]\n",
    "x_validation = set_validation[['vento_rajada','vento_direcao']]\n",
    "y_validation = set_validation[['vento_vel']]\n",
    "print(x.shape)\n",
    "print(y.shape)\n",
    "print(x_validation.shape)\n",
    "print(y_validation.shape)"
   ]
  },
  {
   "cell_type": "code",
   "execution_count": 28,
   "metadata": {},
   "outputs": [
    {
     "ename": "NameError",
     "evalue": "name 'train_x' is not defined",
     "output_type": "error",
     "traceback": [
      "\u001b[0;31m---------------------------------------------------------------------------\u001b[0m",
      "\u001b[0;31mNameError\u001b[0m                                 Traceback (most recent call last)",
      "\u001b[0;32m<ipython-input-28-0c0f57c35098>\u001b[0m in \u001b[0;36m<module>\u001b[0;34m\u001b[0m\n\u001b[1;32m     12\u001b[0m     \u001b[0;32mreturn\u001b[0m \u001b[0macc\u001b[0m\u001b[0;34m\u001b[0m\u001b[0;34m\u001b[0m\u001b[0m\n\u001b[1;32m     13\u001b[0m \u001b[0;34m\u001b[0m\u001b[0m\n\u001b[0;32m---> 14\u001b[0;31m \u001b[0mprint\u001b[0m\u001b[0;34m(\u001b[0m\u001b[0mtrain_x\u001b[0m\u001b[0;34m.\u001b[0m\u001b[0mshape\u001b[0m\u001b[0;34m)\u001b[0m\u001b[0;34m\u001b[0m\u001b[0;34m\u001b[0m\u001b[0m\n\u001b[0m\u001b[1;32m     15\u001b[0m \u001b[0mprint\u001b[0m\u001b[0;34m(\u001b[0m\u001b[0mtest_x\u001b[0m\u001b[0;34m.\u001b[0m\u001b[0mshape\u001b[0m\u001b[0;34m)\u001b[0m\u001b[0;34m\u001b[0m\u001b[0;34m\u001b[0m\u001b[0m\n\u001b[1;32m     16\u001b[0m \u001b[0mprint\u001b[0m\u001b[0;34m(\u001b[0m\u001b[0mtrain_y\u001b[0m\u001b[0;34m.\u001b[0m\u001b[0mshape\u001b[0m\u001b[0;34m)\u001b[0m\u001b[0;34m\u001b[0m\u001b[0;34m\u001b[0m\u001b[0m\n",
      "\u001b[0;31mNameError\u001b[0m: name 'train_x' is not defined"
     ]
    }
   ],
   "source": [
    "from sklearn.neighbors import KNeighborsClassifier\n",
    "from sklearn.model_selection import train_test_split\n",
    "from sklearn.metrics import accuracy_score\n",
    "\n",
    "def knn_test(x,y):\n",
    "    train_x,test_x,train_y,test_y = train_test_split(x,y,test_size=0.2,\n",
    "                                                shuffle=True)\n",
    "    knn = KNeighborsClassifier(n_neighbors = 100)\n",
    "    knn.fit(train_x,train_y)\n",
    "    predicts = knn.predict(test_x)\n",
    "    acc = accuracy_score(test_y,predicts)\n",
    "    return acc\n",
    "                                                                    \n",
    "print(train_x.shape)\n",
    "print(test_x.shape)\n",
    "print(train_y.shape)\n",
    "print(test_y.shape)"
   ]
  },
  {
   "cell_type": "code",
   "execution_count": 29,
   "metadata": {},
   "outputs": [
    {
     "name": "stdout",
     "output_type": "stream",
     "text": [
      "A melhor resultado é-> 5.25%\n"
     ]
    }
   ],
   "source": [
    "import warnings\n",
    "warnings.filterwarnings('ignore')\n",
    "acc = []\n",
    "for i in range(100):\n",
    "    acc.append(knn_test(x,y)*100) \n",
    "print('A melhor resultado é-> %.2f%%' % max(acc))"
   ]
  },
  {
   "cell_type": "code",
   "execution_count": null,
   "metadata": {},
   "outputs": [],
   "source": [
    "'''\n",
    "                                    USING RNN -> LSTM ALGORITHM(NEURAL NETWORKS) \n",
    "'''"
   ]
  },
  {
   "cell_type": "code",
   "execution_count": 30,
   "metadata": {},
   "outputs": [],
   "source": [
    "#fix random seed for reproducibility\n",
    "numpy.random.seed(7)"
   ]
  },
  {
   "cell_type": "code",
   "execution_count": 31,
   "metadata": {},
   "outputs": [
    {
     "data": {
      "text/plain": [
       "array([[ 13. ,  30.4,  67. , ...,   7.6,   2.9, 140. ],\n",
       "       [ 11. ,  28.4,  76. , ...,   nan,   2.3, 152. ],\n",
       "       [ 14. ,  30.9,  58. , ...,   8.3,   3. , 139. ],\n",
       "       ...,\n",
       "       [  9. ,  23.3,  83. , ...,   6.1,   2.3, 156. ],\n",
       "       [ 17. ,  29.4,  50. , ...,   9.7,   4.2, 113. ],\n",
       "       [  0. ,  25.9,  80. , ...,   4.7,   1.3, 105. ]], dtype=float32)"
      ]
     },
     "execution_count": 31,
     "metadata": {},
     "output_type": "execute_result"
    }
   ],
   "source": [
    "#using neural networks recurrents\n",
    "#network short memory with LSTM, she use backpropagation through time and have memory block instead neruons.\n",
    "dataset = pd.DataFrame(data_climate[['hora','temp_inst','umid_inst','pto_orvalho_inst','pressao','vento_rajada','vento_direcao','vento_vel']])\n",
    "dataset = dataset.values\n",
    "dataset = dataset.astype('float32')\n",
    "dataset"
   ]
  },
  {
   "cell_type": "code",
   "execution_count": 34,
   "metadata": {},
   "outputs": [
    {
     "data": {
      "text/plain": [
       "array([[0.5652174 , 0.8380954 , 0.5       , ..., 0.601626  , 0.5178572 ,\n",
       "        0.34317344],\n",
       "       [0.47826087, 0.64761925, 0.673077  , ...,        nan, 0.4107143 ,\n",
       "        0.38745385],\n",
       "       [0.6086957 , 0.8857143 , 0.32692313, ..., 0.6585366 , 0.53571427,\n",
       "        0.33948338],\n",
       "       ...,\n",
       "       [0.39130434, 0.16190481, 0.8076923 , ..., 0.47967476, 0.4107143 ,\n",
       "        0.402214  ],\n",
       "       [0.73913044, 0.7428572 , 0.17307693, ..., 0.7723577 , 0.75      ,\n",
       "        0.24354245],\n",
       "       [0.        , 0.40952396, 0.75      , ..., 0.3658536 , 0.23214285,\n",
       "        0.21402214]], dtype=float32)"
      ]
     },
     "execution_count": 34,
     "metadata": {},
     "output_type": "execute_result"
    }
   ],
   "source": [
    "#To reduce the data from [0,1] scale with pre-preprocessing\n",
    "#Normalize the dataset\n",
    "scaler = MinMaxScaler(feature_range=(0,1))\n",
    "dataset = scaler.fit_transform(dataset)\n",
    "dataset"
   ]
  },
  {
   "cell_type": "code",
   "execution_count": 36,
   "metadata": {},
   "outputs": [
    {
     "name": "stdout",
     "output_type": "stream",
     "text": [
      "1276 629\n"
     ]
    }
   ],
   "source": [
    "#split into train and test sets\n",
    "train_size = int(len(dataset)*0.67)\n",
    "test_size = len(dataset) - train_size\n",
    "train,test = dataset[0:train_size,:], dataset[train_size:len(dataset),:]\n",
    "print(len(train),len(test))"
   ]
  },
  {
   "cell_type": "code",
   "execution_count": null,
   "metadata": {},
   "outputs": [],
   "source": []
  },
  {
   "cell_type": "code",
   "execution_count": null,
   "metadata": {},
   "outputs": [],
   "source": []
  },
  {
   "cell_type": "code",
   "execution_count": null,
   "metadata": {},
   "outputs": [],
   "source": []
  },
  {
   "cell_type": "code",
   "execution_count": null,
   "metadata": {},
   "outputs": [],
   "source": []
  },
  {
   "cell_type": "code",
   "execution_count": null,
   "metadata": {},
   "outputs": [],
   "source": []
  },
  {
   "cell_type": "code",
   "execution_count": null,
   "metadata": {},
   "outputs": [],
   "source": []
  },
  {
   "cell_type": "code",
   "execution_count": null,
   "metadata": {},
   "outputs": [],
   "source": []
  },
  {
   "cell_type": "code",
   "execution_count": null,
   "metadata": {},
   "outputs": [],
   "source": []
  },
  {
   "cell_type": "code",
   "execution_count": null,
   "metadata": {},
   "outputs": [],
   "source": []
  }
 ],
 "metadata": {
  "kernelspec": {
   "display_name": "Python 3",
   "language": "python",
   "name": "python3"
  },
  "language_info": {
   "codemirror_mode": {
    "name": "ipython",
    "version": 3
   },
   "file_extension": ".py",
   "mimetype": "text/x-python",
   "name": "python",
   "nbconvert_exporter": "python",
   "pygments_lexer": "ipython3",
   "version": "3.7.4"
  }
 },
 "nbformat": 4,
 "nbformat_minor": 2
}
